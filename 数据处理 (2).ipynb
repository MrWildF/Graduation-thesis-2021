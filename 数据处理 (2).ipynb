{
 "cells": [
  {
   "cell_type": "code",
   "execution_count": 1,
   "metadata": {},
   "outputs": [],
   "source": [
    "import pandas as pd\n",
    "import numpy as np\n",
    "import json\n",
    "from sklearn.impute import SimpleImputer\n",
    "import matplotlib.pyplot as plt\n",
    "from sklearn.decomposition import PCA\n",
    "from sklearn.discriminant_analysis import LinearDiscriminantAnalysis as LDA\n",
    "from pandas.core.frame import DataFrame\n",
    "from sklearn.ensemble import RandomForestClassifier\n",
    "from sklearn.impute import SimpleImputer\n",
    "from sklearn import tree\n",
    "from sklearn.linear_model import LogisticRegression as LR\n",
    "from sklearn.metrics import accuracy_score\n",
    "from sklearn.model_selection import cross_val_score\n",
    "from sklearn.model_selection import train_test_split\n",
    "from sklearn.linear_model import LinearRegression\n",
    "from sklearn.metrics import mean_squared_error, r2_score, explained_variance_score, roc_auc_score, accuracy_score\n",
    "from matplotlib.pyplot import MultipleLocator\n",
    "\n",
    "from sklearn.ensemble import RandomForestRegressor\n",
    "from pylab import *"
   ]
  },
  {
   "cell_type": "code",
   "execution_count": 2,
   "metadata": {},
   "outputs": [],
   "source": [
    "df = pd.read_excel('emotion_part.xlsx')\n",
    "#处理verified部分，均值\n",
    "verified = df['verified (F=0, T=1)']\n",
    "for i in range(0,22155):\n",
    "    if len(str(verified[i])) > 1:\n",
    "        try:\n",
    "            a = verified[i].replace('True','1').replace('None','0').replace('Non','0').replace('No','0').replace('N','0').replace('False','0').replace('Fals','0').replace('Fal','0').replace('Fa','0').replace('F','0').replace('','0').split(',')\n",
    "            a_map = map(float,a)\n",
    "            a_map = list(a_map)\n",
    "            a_map = np.array(a_map)\n",
    "            a_mean = np.mean(a_map)\n",
    "            verified[i] = a_mean\n",
    "        except Exception as e:\n",
    "            continue\n",
    "\n",
    "df.to_excel('emotion_part_2.xlsx')"
   ]
  },
  {
   "cell_type": "code",
   "execution_count": 41,
   "metadata": {},
   "outputs": [
    {
     "data": {
      "text/plain": [
       "0.0"
      ]
     },
     "execution_count": 41,
     "metadata": {},
     "output_type": "execute_result"
    }
   ],
   "source": [
    "#测试块\n",
    "a = verified[18877].replace('None','0').replace('False','0').replace('Fals','0').replace('Fal','0').replace('Fa','0').replace('F','0').replace('','0').split(',')\n",
    "a_map = list(map(float,a))\n",
    "a_map = np.array(a_map)\n",
    "a_mean = np.mean(a_map)\n",
    "a_mean"
   ]
  },
  {
   "cell_type": "code",
   "execution_count": 13,
   "metadata": {},
   "outputs": [
    {
     "data": {
      "text/plain": [
       "str"
      ]
     },
     "execution_count": 13,
     "metadata": {},
     "output_type": "execute_result"
    }
   ],
   "source": [
    "df_raw = pd.read_excel('metadata2.xlsx')\n",
    "verified_list = df_raw['verified_list']\n",
    "\n",
    "for i in range(0,126301):\n",
    "    verified_list[i] = verified_list[i].replace('True','1').replace('None','0').replace('False','0')\n",
    "\n",
    "type(verified_list[0])"
   ]
  },
  {
   "cell_type": "code",
   "execution_count": 19,
   "metadata": {},
   "outputs": [],
   "source": [
    "#处理metadata_verified部分，均值\n",
    "for i in range(0,126301):\n",
    "    if len(str(verified_list[i])) > 1:\n",
    "        try:\n",
    "            b = verified_list[i].replace('Fals','0').replace('Fal','0').replace('Fa','0').replace('F','0').replace('','0').split(',')\n",
    "            b_map = map(float,b)\n",
    "            b_map = list(b_map)\n",
    "            b_map = np.array(b_map)\n",
    "            b_mean = np.mean(b_map)\n",
    "            verified_list[i] = b_mean\n",
    "        except Exception as e:\n",
    "            continue\n",
    "\n",
    "df_raw.to_excel('metadata3.xlsx')"
   ]
  },
  {
   "cell_type": "code",
   "execution_count": 65,
   "metadata": {},
   "outputs": [],
   "source": [
    "#处理engagement_list，中位数\n",
    "engagement_list = df_raw['engagement_list']\n",
    "for i in range(0,126301):\n",
    "    engagement_list[i] = engagement_list[i].split(',')\n",
    "\n",
    "\n",
    "for i in range(0,126301):\n",
    "    try:\n",
    "        test_data = engagement_list[i]\n",
    "        test_data = list(map(float,test_data))\n",
    "        test_data = np.array(test_data).reshape(-1, 1)\n",
    "        test_data_mid = np.median(test_data)\n",
    "        engagement_list[i] = test_data_mid\n",
    "    except Exception as e:\n",
    "        continue\n",
    "\n",
    "df_raw.to_excel('metadata3.xlsx')"
   ]
  },
  {
   "cell_type": "code",
   "execution_count": 8,
   "metadata": {},
   "outputs": [
    {
     "data": {
      "text/plain": [
       "'0,1631,1188,5248,789,741,4993,302,368,229,6,654,93,2000,569,3322,2014,1051,2648,264,605,926,1373,1015,263,957,258,1013,302,194,2006,2213,898,441,1700,270,1890,46,7878,2153,499,497,929,493,178,2306,1047,1791,269,11,643,763,453,649,1537,267,512'"
      ]
     },
     "execution_count": 8,
     "metadata": {},
     "output_type": "execute_result"
    }
   ],
   "source": [
    "df_raw = pd.read_excel('metadata3.xlsx')\n",
    "\n",
    "followees=df_raw['num_followees_list']\n",
    "followers=df_raw['num_followers_list']\n",
    "age=df_raw['account_age_list']\n",
    "followees[8124]"
   ]
  },
  {
   "cell_type": "code",
   "execution_count": 9,
   "metadata": {
    "collapsed": true
   },
   "outputs": [
    {
     "name": "stderr",
     "output_type": "stream",
     "text": [
      "D:\\python\\anaconda\\lib\\site-packages\\ipykernel_launcher.py:9: SettingWithCopyWarning: \n",
      "A value is trying to be set on a copy of a slice from a DataFrame\n",
      "\n",
      "See the caveats in the documentation: http://pandas.pydata.org/pandas-docs/stable/user_guide/indexing.html#returning-a-view-versus-a-copy\n",
      "  if __name__ == '__main__':\n"
     ]
    }
   ],
   "source": [
    "#处理followee部分，中位值\n",
    "for i in range(0,126301):\n",
    "    test_data = followees[i].replace('None','').replace('Non','').replace('No','').replace('N','').split(',')\n",
    "    test_data = [a for a in test_data if a != '']\n",
    "    data = []\n",
    "    for x in test_data:\n",
    "        data.append(float(x))\n",
    "    data = np.array(data).reshape(-1, 1)\n",
    "    data = np.median(data)\n",
    "    followees[i] = data"
   ]
  },
  {
   "cell_type": "code",
   "execution_count": 11,
   "metadata": {
    "collapsed": true
   },
   "outputs": [
    {
     "name": "stderr",
     "output_type": "stream",
     "text": [
      "D:\\python\\anaconda\\lib\\site-packages\\ipykernel_launcher.py:14: SettingWithCopyWarning: \n",
      "A value is trying to be set on a copy of a slice from a DataFrame\n",
      "\n",
      "See the caveats in the documentation: http://pandas.pydata.org/pandas-docs/stable/user_guide/indexing.html#returning-a-view-versus-a-copy\n",
      "  \n",
      "D:\\python\\anaconda\\lib\\site-packages\\ipykernel_launcher.py:17: SettingWithCopyWarning: \n",
      "A value is trying to be set on a copy of a slice from a DataFrame\n",
      "\n",
      "See the caveats in the documentation: http://pandas.pydata.org/pandas-docs/stable/user_guide/indexing.html#returning-a-view-versus-a-copy\n"
     ]
    }
   ],
   "source": [
    "#处理follower, age部分，中位值\n",
    "for i in range(0,126301):\n",
    "    test_data2 = followers[i].replace('None','').replace('Non','').replace('No','').replace('N','').split(',')\n",
    "    test_data3 = age[i].replace('None','').replace('Non','').replace('No','').replace('N','').split(',')\n",
    "    test_data2 = [a1 for a1 in test_data2 if a1 != '']\n",
    "    test_data3 = [a2 for a2 in test_data3 if a2 != '']\n",
    "    data2 = []\n",
    "    data3 = []\n",
    "    for x1 in test_data2:\n",
    "        data2.append(float(x1))\n",
    "    for x2 in test_data3:\n",
    "        data3.append(float(x2))\n",
    "    data2 = np.array(data2).reshape(-1, 1)\n",
    "    data2 = np.median(data2)\n",
    "    followers[i] = data2\n",
    "    data3 = np.array(data3).reshape(-1, 1)\n",
    "    data3 = np.median(data3)\n",
    "    age[i] = data3\n",
    "df_raw.to_excel('metadata4.xlsx')"
   ]
  },
  {
   "cell_type": "code",
   "execution_count": 37,
   "metadata": {
    "collapsed": true
   },
   "outputs": [
    {
     "data": {
      "text/html": [
       "<div>\n",
       "<style scoped>\n",
       "    .dataframe tbody tr th:only-of-type {\n",
       "        vertical-align: middle;\n",
       "    }\n",
       "\n",
       "    .dataframe tbody tr th {\n",
       "        vertical-align: top;\n",
       "    }\n",
       "\n",
       "    .dataframe thead th {\n",
       "        text-align: right;\n",
       "    }\n",
       "</style>\n",
       "<table border=\"1\" class=\"dataframe\">\n",
       "  <thead>\n",
       "    <tr style=\"text-align: right;\">\n",
       "      <th></th>\n",
       "      <th>Business</th>\n",
       "      <th>Entertainment</th>\n",
       "      <th>NaturalDisasters</th>\n",
       "      <th>Politics</th>\n",
       "      <th>Science/Nature/Tech/Food/Health</th>\n",
       "      <th>ViralPhotos/Stories/UrbanLegends</th>\n",
       "      <th>War/Terrorism/Shootings</th>\n",
       "    </tr>\n",
       "  </thead>\n",
       "  <tbody>\n",
       "    <tr>\n",
       "      <td>0</td>\n",
       "      <td>0</td>\n",
       "      <td>0</td>\n",
       "      <td>0</td>\n",
       "      <td>1</td>\n",
       "      <td>0</td>\n",
       "      <td>0</td>\n",
       "      <td>0</td>\n",
       "    </tr>\n",
       "    <tr>\n",
       "      <td>1</td>\n",
       "      <td>0</td>\n",
       "      <td>0</td>\n",
       "      <td>0</td>\n",
       "      <td>1</td>\n",
       "      <td>0</td>\n",
       "      <td>0</td>\n",
       "      <td>0</td>\n",
       "    </tr>\n",
       "    <tr>\n",
       "      <td>2</td>\n",
       "      <td>0</td>\n",
       "      <td>0</td>\n",
       "      <td>0</td>\n",
       "      <td>1</td>\n",
       "      <td>0</td>\n",
       "      <td>0</td>\n",
       "      <td>0</td>\n",
       "    </tr>\n",
       "    <tr>\n",
       "      <td>3</td>\n",
       "      <td>0</td>\n",
       "      <td>0</td>\n",
       "      <td>0</td>\n",
       "      <td>1</td>\n",
       "      <td>0</td>\n",
       "      <td>0</td>\n",
       "      <td>0</td>\n",
       "    </tr>\n",
       "    <tr>\n",
       "      <td>4</td>\n",
       "      <td>0</td>\n",
       "      <td>0</td>\n",
       "      <td>0</td>\n",
       "      <td>1</td>\n",
       "      <td>0</td>\n",
       "      <td>0</td>\n",
       "      <td>0</td>\n",
       "    </tr>\n",
       "    <tr>\n",
       "      <td>...</td>\n",
       "      <td>...</td>\n",
       "      <td>...</td>\n",
       "      <td>...</td>\n",
       "      <td>...</td>\n",
       "      <td>...</td>\n",
       "      <td>...</td>\n",
       "      <td>...</td>\n",
       "    </tr>\n",
       "    <tr>\n",
       "      <td>126296</td>\n",
       "      <td>0</td>\n",
       "      <td>0</td>\n",
       "      <td>0</td>\n",
       "      <td>1</td>\n",
       "      <td>0</td>\n",
       "      <td>0</td>\n",
       "      <td>0</td>\n",
       "    </tr>\n",
       "    <tr>\n",
       "      <td>126297</td>\n",
       "      <td>0</td>\n",
       "      <td>0</td>\n",
       "      <td>0</td>\n",
       "      <td>1</td>\n",
       "      <td>0</td>\n",
       "      <td>0</td>\n",
       "      <td>0</td>\n",
       "    </tr>\n",
       "    <tr>\n",
       "      <td>126298</td>\n",
       "      <td>0</td>\n",
       "      <td>0</td>\n",
       "      <td>0</td>\n",
       "      <td>0</td>\n",
       "      <td>0</td>\n",
       "      <td>0</td>\n",
       "      <td>1</td>\n",
       "    </tr>\n",
       "    <tr>\n",
       "      <td>126299</td>\n",
       "      <td>0</td>\n",
       "      <td>0</td>\n",
       "      <td>0</td>\n",
       "      <td>0</td>\n",
       "      <td>0</td>\n",
       "      <td>1</td>\n",
       "      <td>0</td>\n",
       "    </tr>\n",
       "    <tr>\n",
       "      <td>126300</td>\n",
       "      <td>0</td>\n",
       "      <td>0</td>\n",
       "      <td>0</td>\n",
       "      <td>0</td>\n",
       "      <td>0</td>\n",
       "      <td>0</td>\n",
       "      <td>1</td>\n",
       "    </tr>\n",
       "  </tbody>\n",
       "</table>\n",
       "<p>126301 rows × 7 columns</p>\n",
       "</div>"
      ],
      "text/plain": [
       "        Business  Entertainment  NaturalDisasters  Politics  \\\n",
       "0              0              0                 0         1   \n",
       "1              0              0                 0         1   \n",
       "2              0              0                 0         1   \n",
       "3              0              0                 0         1   \n",
       "4              0              0                 0         1   \n",
       "...          ...            ...               ...       ...   \n",
       "126296         0              0                 0         1   \n",
       "126297         0              0                 0         1   \n",
       "126298         0              0                 0         0   \n",
       "126299         0              0                 0         0   \n",
       "126300         0              0                 0         0   \n",
       "\n",
       "        Science/Nature/Tech/Food/Health  ViralPhotos/Stories/UrbanLegends  \\\n",
       "0                                     0                                 0   \n",
       "1                                     0                                 0   \n",
       "2                                     0                                 0   \n",
       "3                                     0                                 0   \n",
       "4                                     0                                 0   \n",
       "...                                 ...                               ...   \n",
       "126296                                0                                 0   \n",
       "126297                                0                                 0   \n",
       "126298                                0                                 0   \n",
       "126299                                0                                 1   \n",
       "126300                                0                                 0   \n",
       "\n",
       "        War/Terrorism/Shootings  \n",
       "0                             0  \n",
       "1                             0  \n",
       "2                             0  \n",
       "3                             0  \n",
       "4                             0  \n",
       "...                         ...  \n",
       "126296                        0  \n",
       "126297                        0  \n",
       "126298                        1  \n",
       "126299                        0  \n",
       "126300                        1  \n",
       "\n",
       "[126301 rows x 7 columns]"
      ]
     },
     "execution_count": 37,
     "metadata": {},
     "output_type": "execute_result"
    }
   ],
   "source": [
    "df_raw = pd.read_excel('metadata4.xlsx')\n",
    "\n",
    "df_c = pd.get_dummies(df_raw['rumor_category'])\n",
    "df_c"
   ]
  },
  {
   "cell_type": "code",
   "execution_count": 39,
   "metadata": {},
   "outputs": [],
   "source": [
    "#处理categories部分\n",
    "df_raw['Politics'] = df_c['Politics']\n",
    "df_raw['Business'] = df_c['Business']\n",
    "df_raw['Entertainment'] = df_c['Entertainment']\n",
    "df_raw['NaturalDisasters'] = df_c['NaturalDisasters']\n",
    "df_raw['Science/Nature/Tech/Food/Health'] = df_c['Science/Nature/Tech/Food/Health']\n",
    "df_raw['ViralPhotos/Stories/UrbanLegends'] = df_c['ViralPhotos/Stories/UrbanLegends']\n",
    "df_raw['War/Terrorism/Shootings'] = df_c['War/Terrorism/Shootings']\n",
    "df_raw.to_excel('metadata4.xlsx')"
   ]
  },
  {
   "cell_type": "code",
   "execution_count": 29,
   "metadata": {
    "collapsed": true
   },
   "outputs": [
    {
     "name": "stdout",
     "output_type": "stream",
     "text": [
      "<class 'pandas.core.frame.DataFrame'>\n",
      "RangeIndex: 126301 entries, 0 to 126300\n",
      "Data columns (total 28 columns):\n",
      "Unnamed: 0                          126301 non-null int64\n",
      "raw_id                              126301 non-null int64\n",
      "tid                                 126301 non-null int64\n",
      "rumor_id                            126301 non-null object\n",
      "virality                            126301 non-null float64\n",
      "verified_list                       126301 non-null float64\n",
      "veracity (0=0, 1=1, 2=2)            126301 non-null int64\n",
      "num_followees_list                  126301 non-null float64\n",
      "num_followers_list                  126301 non-null float64\n",
      "engagement_list                     126301 non-null object\n",
      "account_age_list                    126301 non-null float64\n",
      "depth2time                          42081 non-null object\n",
      "depth2uu                            42081 non-null object\n",
      "depth2breadth                       42081 non-null object\n",
      "uu2time                             126301 non-null object\n",
      "depth                               126301 non-null int64\n",
      "unique_users                        126301 non-null int64\n",
      "max_breadth                         126301 non-null int64\n",
      "start_date                          126301 non-null object\n",
      "date                                126301 non-null datetime64[ns]\n",
      "size                                126301 non-null int64\n",
      "Business                            126301 non-null int64\n",
      "Politics                            126301 non-null int64\n",
      "Entertainment                       126301 non-null int64\n",
      "NaturalDisasters                    126301 non-null int64\n",
      "Science/Nature/Tech/Food/Health     126301 non-null int64\n",
      "ViralPhotos/Stories/UrbanLegends    126301 non-null int64\n",
      "War/Terrorism/Shootings             126301 non-null int64\n",
      "dtypes: datetime64[ns](1), float64(5), int64(15), object(7)\n",
      "memory usage: 27.0+ MB\n"
     ]
    }
   ],
   "source": [
    "#处理时间部分\n",
    "df_raw = pd.read_excel('metadata4.xlsx')\n",
    "df_raw.info()"
   ]
  },
  {
   "cell_type": "code",
   "execution_count": 30,
   "metadata": {},
   "outputs": [],
   "source": [
    "df_raw.date = pd.to_datetime(df_raw.date)"
   ]
  },
  {
   "cell_type": "code",
   "execution_count": 35,
   "metadata": {
    "collapsed": true
   },
   "outputs": [
    {
     "data": {
      "text/html": [
       "<div>\n",
       "<style scoped>\n",
       "    .dataframe tbody tr th:only-of-type {\n",
       "        vertical-align: middle;\n",
       "    }\n",
       "\n",
       "    .dataframe tbody tr th {\n",
       "        vertical-align: top;\n",
       "    }\n",
       "\n",
       "    .dataframe thead th {\n",
       "        text-align: right;\n",
       "    }\n",
       "</style>\n",
       "<table border=\"1\" class=\"dataframe\">\n",
       "  <thead>\n",
       "    <tr style=\"text-align: right;\">\n",
       "      <th></th>\n",
       "      <th>dawn</th>\n",
       "      <th>morning</th>\n",
       "      <th>noon</th>\n",
       "      <th>afternoon</th>\n",
       "      <th>evening</th>\n",
       "      <th>midnight</th>\n",
       "    </tr>\n",
       "  </thead>\n",
       "  <tbody>\n",
       "    <tr>\n",
       "      <td>0</td>\n",
       "      <td>0</td>\n",
       "      <td>0</td>\n",
       "      <td>0</td>\n",
       "      <td>0</td>\n",
       "      <td>1</td>\n",
       "      <td>0</td>\n",
       "    </tr>\n",
       "    <tr>\n",
       "      <td>1</td>\n",
       "      <td>0</td>\n",
       "      <td>0</td>\n",
       "      <td>0</td>\n",
       "      <td>1</td>\n",
       "      <td>0</td>\n",
       "      <td>0</td>\n",
       "    </tr>\n",
       "    <tr>\n",
       "      <td>2</td>\n",
       "      <td>0</td>\n",
       "      <td>0</td>\n",
       "      <td>0</td>\n",
       "      <td>1</td>\n",
       "      <td>0</td>\n",
       "      <td>0</td>\n",
       "    </tr>\n",
       "    <tr>\n",
       "      <td>3</td>\n",
       "      <td>0</td>\n",
       "      <td>0</td>\n",
       "      <td>0</td>\n",
       "      <td>0</td>\n",
       "      <td>1</td>\n",
       "      <td>0</td>\n",
       "    </tr>\n",
       "    <tr>\n",
       "      <td>4</td>\n",
       "      <td>0</td>\n",
       "      <td>0</td>\n",
       "      <td>0</td>\n",
       "      <td>1</td>\n",
       "      <td>0</td>\n",
       "      <td>0</td>\n",
       "    </tr>\n",
       "    <tr>\n",
       "      <td>...</td>\n",
       "      <td>...</td>\n",
       "      <td>...</td>\n",
       "      <td>...</td>\n",
       "      <td>...</td>\n",
       "      <td>...</td>\n",
       "      <td>...</td>\n",
       "    </tr>\n",
       "    <tr>\n",
       "      <td>126296</td>\n",
       "      <td>0</td>\n",
       "      <td>1</td>\n",
       "      <td>0</td>\n",
       "      <td>0</td>\n",
       "      <td>0</td>\n",
       "      <td>0</td>\n",
       "    </tr>\n",
       "    <tr>\n",
       "      <td>126297</td>\n",
       "      <td>0</td>\n",
       "      <td>0</td>\n",
       "      <td>0</td>\n",
       "      <td>1</td>\n",
       "      <td>0</td>\n",
       "      <td>0</td>\n",
       "    </tr>\n",
       "    <tr>\n",
       "      <td>126298</td>\n",
       "      <td>0</td>\n",
       "      <td>0</td>\n",
       "      <td>0</td>\n",
       "      <td>1</td>\n",
       "      <td>0</td>\n",
       "      <td>0</td>\n",
       "    </tr>\n",
       "    <tr>\n",
       "      <td>126299</td>\n",
       "      <td>0</td>\n",
       "      <td>1</td>\n",
       "      <td>0</td>\n",
       "      <td>0</td>\n",
       "      <td>0</td>\n",
       "      <td>0</td>\n",
       "    </tr>\n",
       "    <tr>\n",
       "      <td>126300</td>\n",
       "      <td>0</td>\n",
       "      <td>0</td>\n",
       "      <td>0</td>\n",
       "      <td>0</td>\n",
       "      <td>1</td>\n",
       "      <td>0</td>\n",
       "    </tr>\n",
       "  </tbody>\n",
       "</table>\n",
       "<p>126301 rows × 6 columns</p>\n",
       "</div>"
      ],
      "text/plain": [
       "        dawn  morning  noon  afternoon  evening  midnight\n",
       "0          0        0     0          0        1         0\n",
       "1          0        0     0          1        0         0\n",
       "2          0        0     0          1        0         0\n",
       "3          0        0     0          0        1         0\n",
       "4          0        0     0          1        0         0\n",
       "...      ...      ...   ...        ...      ...       ...\n",
       "126296     0        1     0          0        0         0\n",
       "126297     0        0     0          1        0         0\n",
       "126298     0        0     0          1        0         0\n",
       "126299     0        1     0          0        0         0\n",
       "126300     0        0     0          0        1         0\n",
       "\n",
       "[126301 rows x 6 columns]"
      ]
     },
     "execution_count": 35,
     "metadata": {},
     "output_type": "execute_result"
    }
   ],
   "source": [
    "months = df_raw.date.dt.month\n",
    "day_of_months = df_raw.date.dt.day\n",
    "hours = df_raw.date.dt.hour\n",
    "#时间段特征\n",
    "def daypart(hour):\n",
    "    if hour in [2,3,4,5]:\n",
    "        return \"dawn\"\n",
    "    elif hour in [6,7,8,9]:\n",
    "        return \"morning\"\n",
    "    elif hour in [10,11,12,13]:\n",
    "        return \"noon\"\n",
    "    elif hour in [14,15,16,17]:\n",
    "        return \"afternoon\"\n",
    "    elif hour in [18,19,20,21]:\n",
    "        return \"evening\"\n",
    "    else: return \"midnight\"\n",
    "raw_dayparts = hours.apply(daypart)\n",
    "dayparts = pd.get_dummies(raw_dayparts)\n",
    "dayparts = dayparts[['dawn','morning','noon','afternoon','evening','midnight']]\n",
    "df_raw['dawn'] = dayparts['dawn']\n",
    "df_raw['morning'] = dayparts['morning']\n",
    "df_raw['noon'] = dayparts['noon']\n",
    "df_raw['afternoon'] = dayparts['afternoon']\n",
    "df_raw['evening'] = dayparts['evening']\n",
    "df_raw['midnight'] = dayparts['midnight']\n",
    "dayparts"
   ]
  },
  {
   "cell_type": "code",
   "execution_count": 37,
   "metadata": {},
   "outputs": [],
   "source": [
    "#星期特征\n",
    "to_one_hot = df_raw.date.dt.day_name()\n",
    "days = pd.get_dummies(to_one_hot)\n",
    "df_raw['Monday'] = days['Monday']\n",
    "df_raw['Tuesday'] = days['Tuesday']\n",
    "df_raw['Wednesday'] = days['Wednesday']\n",
    "df_raw['Thursday'] = days['Thursday']\n",
    "df_raw['Friday'] = days['Friday']\n",
    "df_raw['Saturday'] = days['Saturday']\n",
    "df_raw['Sunday'] = days['Sunday']\n",
    "days\n",
    "\n",
    "df_raw.to_excel('metadata5.xlsx')"
   ]
  },
  {
   "cell_type": "code",
   "execution_count": 186,
   "metadata": {
    "collapsed": true
   },
   "outputs": [
    {
     "name": "stderr",
     "output_type": "stream",
     "text": [
      "D:\\python\\anaconda\\lib\\site-packages\\ipykernel_launcher.py:20: SettingWithCopyWarning: \n",
      "A value is trying to be set on a copy of a slice from a DataFrame\n",
      "\n",
      "See the caveats in the documentation: http://pandas.pydata.org/pandas-docs/stable/user_guide/indexing.html#returning-a-view-versus-a-copy\n",
      "D:\\python\\anaconda\\lib\\site-packages\\ipykernel_launcher.py:21: SettingWithCopyWarning: \n",
      "A value is trying to be set on a copy of a slice from a DataFrame\n",
      "\n",
      "See the caveats in the documentation: http://pandas.pydata.org/pandas-docs/stable/user_guide/indexing.html#returning-a-view-versus-a-copy\n",
      "D:\\python\\anaconda\\lib\\site-packages\\ipykernel_launcher.py:22: SettingWithCopyWarning: \n",
      "A value is trying to be set on a copy of a slice from a DataFrame\n",
      "\n",
      "See the caveats in the documentation: http://pandas.pydata.org/pandas-docs/stable/user_guide/indexing.html#returning-a-view-versus-a-copy\n",
      "D:\\python\\anaconda\\lib\\site-packages\\ipykernel_launcher.py:26: SettingWithCopyWarning: \n",
      "A value is trying to be set on a copy of a slice from a DataFrame\n",
      "\n",
      "See the caveats in the documentation: http://pandas.pydata.org/pandas-docs/stable/user_guide/indexing.html#returning-a-view-versus-a-copy\n",
      "D:\\python\\anaconda\\lib\\site-packages\\ipykernel_launcher.py:29: SettingWithCopyWarning: \n",
      "A value is trying to be set on a copy of a slice from a DataFrame\n",
      "\n",
      "See the caveats in the documentation: http://pandas.pydata.org/pandas-docs/stable/user_guide/indexing.html#returning-a-view-versus-a-copy\n",
      "D:\\python\\anaconda\\lib\\site-packages\\ipykernel_launcher.py:32: SettingWithCopyWarning: \n",
      "A value is trying to be set on a copy of a slice from a DataFrame\n",
      "\n",
      "See the caveats in the documentation: http://pandas.pydata.org/pandas-docs/stable/user_guide/indexing.html#returning-a-view-versus-a-copy\n"
     ]
    }
   ],
   "source": [
    "# perhaps wrong_sum depth to XX\n",
    "df_raw = pd.read_excel('metadata5.xlsx')\n",
    "\n",
    "depth2uu = df_raw['depth2uu']\n",
    "depth = df_raw['depth']\n",
    "depth2time = df_raw['depth2time']\n",
    "depth2breadth = df_raw['depth2breadth']\n",
    "\n",
    "\n",
    "df_raw['sum_depth2uu'] = ''\n",
    "sum_depth2uu = df_raw['sum_depth2uu']\n",
    "df_raw['sum_depth2time'] = ''\n",
    "df_raw['sum_depth2breadth'] = ''\n",
    "sum_depth2time = df_raw['sum_depth2time']\n",
    "sum_depth2breadth = df_raw['sum_depth2breadth']\n",
    "\n",
    "for i in range(0,126301):\n",
    "    n = depth[i]\n",
    "    if n < 1:\n",
    "        sum_depth2uu[i] = 0\n",
    "        sum_depth2time[i] = 0\n",
    "        sum_depth2breadth[i] = 0\n",
    "    if n >= 1:\n",
    "        nparray = np.array(depth2uu[i].replace(',',':').split(':'))\n",
    "        nparray = nparray.astype(np.float).tolist()\n",
    "        sum_depth2uu[i]= sum(nparray) - (n * (1 + n) / 2)\n",
    "        nparray_1 = np.array(depth2time[i].replace(',',':').split(':'))\n",
    "        nparray_1 = nparray_1.astype(np.float).tolist()\n",
    "        sum_depth2time[i]= sum(nparray_1) - (n * (1 + n) / 2)\n",
    "        nparray_2 = np.array(depth2breadth[i].replace(',',':').split(':'))\n",
    "        nparray_2 = nparray_2.astype(np.float).tolist()\n",
    "        sum_depth2breadth[i]= sum(nparray_2) - (n * (1 + n) / 2)\n",
    "\n",
    "df_raw.to_excel('metadata6.xlsx')"
   ]
  },
  {
   "cell_type": "code",
   "execution_count": 187,
   "metadata": {},
   "outputs": [],
   "source": [
    "df_raw = pd.read_excel('metadata6.xlsx')\n",
    "uu2time = df_raw['uu2time']\n",
    "unique_users = df_raw['unique_users']\n",
    "df_raw['sum_uu2time']=''\n",
    "sum_uu2time = df_raw['sum_uu2time']"
   ]
  },
  {
   "cell_type": "code",
   "execution_count": 196,
   "metadata": {},
   "outputs": [
    {
     "name": "stderr",
     "output_type": "stream",
     "text": [
      "D:\\python\\anaconda\\lib\\site-packages\\ipykernel_launcher.py:4: SettingWithCopyWarning: \n",
      "A value is trying to be set on a copy of a slice from a DataFrame\n",
      "\n",
      "See the caveats in the documentation: http://pandas.pydata.org/pandas-docs/stable/user_guide/indexing.html#returning-a-view-versus-a-copy\n",
      "  after removing the cwd from sys.path.\n",
      "D:\\python\\anaconda\\lib\\site-packages\\ipykernel_launcher.py:9: SettingWithCopyWarning: \n",
      "A value is trying to be set on a copy of a slice from a DataFrame\n",
      "\n",
      "See the caveats in the documentation: http://pandas.pydata.org/pandas-docs/stable/user_guide/indexing.html#returning-a-view-versus-a-copy\n",
      "  if __name__ == '__main__':\n"
     ]
    }
   ],
   "source": [
    "#X\n",
    "for i in range(0,126301):\n",
    "    n = unique_users[i]\n",
    "    if n < 2:\n",
    "        sum_uu2time[i] = 0\n",
    "    if n >= 2:\n",
    "        try:\n",
    "            nparray_3 = np.array(uu2time[i].replace(',',':').split(':'))\n",
    "            nparray_3 = nparray_3.astype(np.float).tolist()\n",
    "            sum_uu2time[i]= sum(nparray_3) - (n * (1 + n) / 2)\n",
    "        except Exception as e:\n",
    "            continue\n",
    "df_raw.to_excel('metadata7.xlsx')"
   ]
  },
  {
   "cell_type": "code",
   "execution_count": 195,
   "metadata": {},
   "outputs": [
    {
     "data": {
      "text/plain": [
       "['1', '0.0', '2', '225.0', '3', '260.0']"
      ]
     },
     "execution_count": 195,
     "metadata": {},
     "output_type": "execute_result"
    }
   ],
   "source": [
    "n = unique_users[9439]\n",
    "nparray_3 = np.array(uu2time[9439].replace(',',':').split(':'))\n",
    "nparray_3 = nparray_3.astype(np.float).tolist()\n",
    "sum_uu2time_1 = sum(nparray_3) - (n * (1 + n) / 2)\n",
    "uu2time[9439].replace(',',':').split(':')"
   ]
  },
  {
   "cell_type": "code",
   "execution_count": 69,
   "metadata": {
    "collapsed": true
   },
   "outputs": [
    {
     "data": {
      "text/plain": [
       "Index(['Unnamed: 0', 'Unnamed: 0.1', 'Unnamed: 0.1.1', 'Unnamed: 0.1.1.1',\n",
       "       'Unnamed: 0.1.1.1.1', 'raw_id', 'tid', 'rumor_id', 'virality',\n",
       "       'verified_list', 'veracity (0=0, 1=1, 2=2)', 'num_followees_list',\n",
       "       'num_followers_list', 'engagement_list', 'account_age_list',\n",
       "       'depth2time', 'depth2uu', 'depth2breadth', 'uu2time', 'depth',\n",
       "       'unique_users', 'max_breadth', 'start_date', 'date', 'size', 'Business',\n",
       "       'Politics', 'Entertainment', 'NaturalDisasters',\n",
       "       'Science/Nature/Tech/Food/Health', 'ViralPhotos/Stories/UrbanLegends',\n",
       "       'War/Terrorism/Shootings', 'dawn', 'morning', 'noon', 'afternoon',\n",
       "       'evening', 'midnight', 'Monday', 'Tuesday', 'Wednesday', 'Thursday',\n",
       "       'Friday', 'Saturday', 'Sunday', 'sum_depth2uu', 'sum_depth2time',\n",
       "       'sum_depth2breadth', 'sum_uu2time', 'max_depthtime'],\n",
       "      dtype='object')"
      ]
     },
     "execution_count": 69,
     "metadata": {},
     "output_type": "execute_result"
    }
   ],
   "source": [
    "df_raw = pd.read_excel('metadata8.xlsx')\n",
    "df_raw.columns"
   ]
  },
  {
   "cell_type": "code",
   "execution_count": 70,
   "metadata": {
    "collapsed": true
   },
   "outputs": [
    {
     "name": "stderr",
     "output_type": "stream",
     "text": [
      "D:\\python\\anaconda\\lib\\site-packages\\ipykernel_launcher.py:5: SettingWithCopyWarning: \n",
      "A value is trying to be set on a copy of a slice from a DataFrame\n",
      "\n",
      "See the caveats in the documentation: http://pandas.pydata.org/pandas-docs/stable/user_guide/indexing.html#returning-a-view-versus-a-copy\n",
      "  \"\"\"\n"
     ]
    },
    {
     "data": {
      "text/plain": [
       "0         0.0\n",
       "1         0.0\n",
       "2         0.0\n",
       "3         0.0\n",
       "4         0.0\n",
       "         ... \n",
       "126296    0.0\n",
       "126297    0.0\n",
       "126298    0.0\n",
       "126299    0.0\n",
       "126300    0.0\n",
       "Name: max_uutime, Length: 126301, dtype: object"
      ]
     },
     "execution_count": 70,
     "metadata": {},
     "output_type": "execute_result"
    }
   ],
   "source": [
    "uutime = df_raw['uu2time']\n",
    "df_raw['max_uutime']=''\n",
    "max_uutime = df_raw['max_uutime']\n",
    "for i in range(0,126301):\n",
    "    max_uutime[i] = uutime[i].split(':')[len(uutime[i].split(':'))-1]\n",
    "max_uutime"
   ]
  },
  {
   "cell_type": "code",
   "execution_count": 71,
   "metadata": {},
   "outputs": [],
   "source": [
    "df_raw.to_excel('metadata9.xlsx')"
   ]
  },
  {
   "cell_type": "code",
   "execution_count": 17,
   "metadata": {
    "collapsed": true
   },
   "outputs": [
    {
     "name": "stderr",
     "output_type": "stream",
     "text": [
      "D:\\python\\anaconda\\lib\\site-packages\\ipykernel_launcher.py:6: SettingWithCopyWarning: \n",
      "A value is trying to be set on a copy of a slice from a DataFrame\n",
      "\n",
      "See the caveats in the documentation: http://pandas.pydata.org/pandas-docs/stable/user_guide/indexing.html#returning-a-view-versus-a-copy\n",
      "  \n"
     ]
    },
    {
     "data": {
      "text/plain": [
       "8143     36143.0\n",
       "8144      5360.0\n",
       "8145      2494.0\n",
       "8146     19949.0\n",
       "8147            \n",
       "8148      1352.0\n",
       "8149      1554.0\n",
       "8150    152114.0\n",
       "8151      1917.0\n",
       "8152      1088.0\n",
       "8153    185999.0\n",
       "8154     68905.0\n",
       "8155      4105.0\n",
       "8156     67563.0\n",
       "8157    106395.0\n",
       "8158            \n",
       "8159      3728.0\n",
       "8160       445.0\n",
       "8161     41113.0\n",
       "8162       294.0\n",
       "8163     34319.0\n",
       "8164       775.0\n",
       "Name: max_depthtime, dtype: object"
      ]
     },
     "execution_count": 17,
     "metadata": {},
     "output_type": "execute_result"
    }
   ],
   "source": [
    "depthtime = df_raw['depth2time']\n",
    "df_raw['max_depthtime']=''\n",
    "max_depthtime = df_raw['max_depthtime']\n",
    "for i in range(0,126301):\n",
    "    try:\n",
    "        max_depthtime[i] = str(depthtime[i]).split(':')[len(depthtime[i].split(':'))-1]\n",
    "    except Exception as e:\n",
    "        continue\n",
    "max_depthtime[8143:8165]"
   ]
  },
  {
   "cell_type": "code",
   "execution_count": 23,
   "metadata": {},
   "outputs": [],
   "source": [
    "df_raw.to_excel('metadata8.xlsx')"
   ]
  },
  {
   "cell_type": "code",
   "execution_count": 54,
   "metadata": {},
   "outputs": [
    {
     "data": {
      "text/plain": [
       "array([[0.]])"
      ]
     },
     "execution_count": 54,
     "metadata": {},
     "output_type": "execute_result"
    }
   ],
   "source": [
    "#数据归一化\n",
    "from sklearn.preprocessing import MinMaxScaler\n",
    "scaler = MinMaxScaler()\n",
    "test_data = list(map(float,test_data))\n",
    "test_data = np.array(test_data).reshape(-1, 1)\n",
    "scaler = scaler.fit(test_data)\n",
    "result = scaler.transform(test_data)\n",
    "result"
   ]
  },
  {
   "cell_type": "code",
   "execution_count": 51,
   "metadata": {},
   "outputs": [
    {
     "data": {
      "text/plain": [
       "array([[0.]])"
      ]
     },
     "execution_count": 51,
     "metadata": {},
     "output_type": "execute_result"
    }
   ],
   "source": [
    "#数据标准化\n",
    "from sklearn.preprocessing import StandardScaler\n",
    "test_data = list(map(float,test_data))\n",
    "test_data = np.array(test_data).reshape(-1, 1)\n",
    "scaler = StandardScaler()\n",
    "scaler.fit(test_data)\n",
    "data_std = scaler.transform(test_data)\n",
    "data_std"
   ]
  },
  {
   "cell_type": "code",
   "execution_count": 82,
   "metadata": {},
   "outputs": [],
   "source": [
    "#重新处理uu2time\n",
    "import xlwt \n",
    "wb = xlwt.Workbook(encoding='utf-8')\n",
    "ws = wb.add_sheet('Sheet1') #sheet页第一页\n",
    "f = open('metadata_anon_2.txt', encoding='gbk') \n",
    " \n",
    "row_excel = 0\n",
    "a = []\n",
    "\n",
    "for line in f:\n",
    "    #line = line.strip('\\n') #去掉换行符\n",
    "    line = line.split('@') #每一行以\"+\"分隔\n",
    "    a.append(line[11])\n",
    "\n",
    "df_raw['max_uutime']=''\n",
    "max_uutime = df_raw['max_uutime']\n",
    "for i in range(0,126301):\n",
    "    max_uutime[i] = a[i].split(':')[len(a[i].split(':'))-1]\n",
    "max_uutime\n",
    "\n",
    "df_raw.to_excel('metadata9.xlsx')"
   ]
  },
  {
   "cell_type": "code",
   "execution_count": 2,
   "metadata": {},
   "outputs": [],
   "source": [
    "df_raw = pd.read_excel('metadata10.xlsx')"
   ]
  },
  {
   "cell_type": "code",
   "execution_count": 28,
   "metadata": {
    "collapsed": true
   },
   "outputs": [
    {
     "data": {
      "text/plain": [
       "array([[-0.69450612, -0.21476804,  0.02132849, -0.01603382, -0.02046589,\n",
       "        -0.00490766],\n",
       "       [-0.69450612, -0.21476804,  0.02132849, -0.01603382, -0.02046589,\n",
       "        -0.00490766],\n",
       "       [-0.69450612, -0.21476804,  0.02132849, -0.01603382, -0.02046589,\n",
       "        -0.00490766],\n",
       "       ...,\n",
       "       [ 0.15788681,  0.4376133 , -0.24657585,  0.85690543, -0.13805072,\n",
       "        -0.01915638],\n",
       "       [ 0.69453567, -0.47966342,  0.03569566, -0.02575214, -0.02990031,\n",
       "        -0.00677426],\n",
       "       [ 0.15788681,  0.4376133 , -0.24657585,  0.85690543, -0.13805072,\n",
       "        -0.01915638]])"
      ]
     },
     "execution_count": 28,
     "metadata": {},
     "output_type": "execute_result"
    }
   ],
   "source": [
    "#PCA降维\n",
    "X = df_raw[[#'max_uutime'\n",
    "            #,'max_depthtime'\n",
    "            'Business', 'Politics', 'Entertainment','NaturalDisasters', 'Science/Nature/Tech/Food/Health','ViralPhotos/Stories/UrbanLegends', 'War/Terrorism/Shootings'\n",
    "            #, 'dawn', 'morning', 'noon', 'afternoon', 'evening', 'midnight'\n",
    "            #, 'Monday','Tuesday', 'Wednesday', 'Thursday', 'Friday', 'Saturday', 'Sunday'\n",
    "            #, 'verified_list','veracity (0=0, 1=1, 2=2)'\n",
    "            #, 'num_followees_list'\n",
    "            #, 'num_followers_list'\n",
    "            #,'account_age_list'\n",
    "           #,'virality'\n",
    "           #,'depth'\n",
    "           #,'max_breadth'\n",
    "           ]]#virality>max breadth>depth>>others\n",
    "y = df_raw['size']\n",
    "#pd.DataFrame(X)\n",
    "pca = PCA(n_components='mle')#mle:自动选取最好取值\n",
    "pca = pca.fit(X)\n",
    "X_dr = pca.transform(X)\n",
    "\n",
    "X_dr"
   ]
  },
  {
   "cell_type": "code",
   "execution_count": 30,
   "metadata": {},
   "outputs": [
    {
     "data": {
      "text/plain": [
       "0.9999999999999999"
      ]
     },
     "execution_count": 30,
     "metadata": {},
     "output_type": "execute_result"
    }
   ],
   "source": [
    "pca.explained_variance_ratio_.sum()#保留了多少特征"
   ]
  },
  {
   "cell_type": "code",
   "execution_count": 25,
   "metadata": {
    "collapsed": true
   },
   "outputs": [
    {
     "data": {
      "image/png": "[encoded data removed]",
      "text/plain": [
       "<Figure size 432x288 with 1 Axes>"
      ]
     },
     "metadata": {
      "needs_background": "light"
     },
     "output_type": "display_data"
    }
   ],
   "source": [
    "pca_line = PCA().fit(X)\n",
    "plt.plot([1,2,3,4,5,6,7],np.cumsum(pca_line.explained_variance_ratio_))\n",
    "plt.xticks([1,2,3,4,5,6,7])\n",
    "plt.show()"
   ]
  },
  {
   "cell_type": "code",
   "execution_count": 17,
   "metadata": {
    "collapsed": true
   },
   "outputs": [
    {
     "data": {
      "image/png": "[encoded data removed]",
      "text/plain": [
       "<Figure size 432x288 with 1 Axes>"
      ]
     },
     "metadata": {
      "needs_background": "light"
     },
     "output_type": "display_data"
    }
   ],
   "source": [
    "plt.figure()\n",
    "plt.scatter(X_dr,y\n",
    "            ,alpha=0.4\n",
    "           )\n",
    "plt.title('PCA of category')\n",
    "#plt.xscale('log')\n",
    "plt.show()"
   ]
  },
  {
   "cell_type": "code",
   "execution_count": 38,
   "metadata": {
    "collapsed": true
   },
   "outputs": [
    {
     "data": {
      "text/plain": [
       "array([[-0.34119722],\n",
       "       [ 0.74626389],\n",
       "       [ 0.76606715],\n",
       "       ...,\n",
       "       [ 0.83427617],\n",
       "       [-0.13024315],\n",
       "       [-0.47218103]])"
      ]
     },
     "execution_count": 38,
     "metadata": {},
     "output_type": "execute_result"
    }
   ],
   "source": [
    "X = df_raw[[#'max_uutime'\n",
    "            #,'max_depthtime'\n",
    "            #'Business', 'Politics', 'Entertainment','NaturalDisasters', 'Science/Nature/Tech/Food/Health','ViralPhotos/Stories/UrbanLegends', 'War/Terrorism/Shootings'\n",
    "             'dawn', 'morning', 'noon', 'afternoon', 'evening', 'midnight'\n",
    "            , 'Monday','Tuesday', 'Wednesday', 'Thursday', 'Friday', 'Saturday', 'Sunday'\n",
    "            #, 'verified_list','veracity (0=0, 1=1, 2=2)'\n",
    "            #, 'num_followees_list'\n",
    "            #, 'num_followers_list'\n",
    "            #,'account_age_list'\n",
    "           #,'virality'\n",
    "           #,'depth'\n",
    "           #,'max_breadth'\n",
    "           ]]#virality>max breadth>depth>>others\n",
    "y = df_raw['size']\n",
    "#pd.DataFrame(X)\n",
    "pca = PCA(n_components=1)\n",
    "#pca = PCA(n_components=0.97,svd_solver='auto')#自动选取可解释性在97%的\n",
    "pca = pca.fit(X)\n",
    "X_dr = pca.transform(X)\n",
    "X_dr"
   ]
  },
  {
   "cell_type": "code",
   "execution_count": 39,
   "metadata": {
    "collapsed": true
   },
   "outputs": [
    {
     "data": {
      "image/png": "[encoded data removed]",
      "text/plain": [
       "<Figure size 432x288 with 1 Axes>"
      ]
     },
     "metadata": {
      "needs_background": "light"
     },
     "output_type": "display_data"
    }
   ],
   "source": [
    "plt.figure()\n",
    "plt.scatter(X_dr,y\n",
    "            ,alpha=0.4\n",
    "           )\n",
    "plt.title('PCA of time')\n",
    "#plt.xscale('log')\n",
    "plt.show()"
   ]
  },
  {
   "cell_type": "code",
   "execution_count": 27,
   "metadata": {
    "collapsed": true
   },
   "outputs": [
    {
     "data": {
      "image/png": "[encoded data removed]",
      "text/plain": [
       "<Figure size 432x288 with 1 Axes>"
      ]
     },
     "metadata": {
      "needs_background": "light"
     },
     "output_type": "display_data"
    }
   ],
   "source": [
    "pca_line = PCA().fit(X)\n",
    "plt.plot(np.cumsum(pca_line.explained_variance_ratio_))\n",
    "#plt.xticks([1,2,3,4,5,6,7])\n",
    "plt.show()"
   ]
  },
  {
   "cell_type": "code",
   "execution_count": 20,
   "metadata": {},
   "outputs": [
    {
     "data": {
      "text/plain": [
       "array([0.13067109])"
      ]
     },
     "execution_count": 20,
     "metadata": {},
     "output_type": "execute_result"
    }
   ],
   "source": [
    "pca.explained_variance_ratio_"
   ]
  },
  {
   "cell_type": "code",
   "execution_count": 2,
   "metadata": {},
   "outputs": [],
   "source": [
    "df_raw = pd.read_excel('metadata10.xlsx')"
   ]
  },
  {
   "cell_type": "code",
   "execution_count": 18,
   "metadata": {},
   "outputs": [
    {
     "name": "stderr",
     "output_type": "stream",
     "text": [
      "D:\\python\\anaconda\\lib\\site-packages\\sklearn\\discriminant_analysis.py:388: UserWarning: Variables are collinear.\n",
      "  warnings.warn(\"Variables are collinear.\")\n"
     ]
    }
   ],
   "source": [
    "#LDA\n",
    "X = df_raw[[#'max_uutime'\n",
    "            #,'max_depthtime'\n",
    "            'Business', 'Politics', 'Entertainment','NaturalDisasters', 'Science/Nature/Tech/Food/Health','ViralPhotos/Stories/UrbanLegends', 'War/Terrorism/Shootings'\n",
    "           #  'dawn', 'morning', 'noon', 'afternoon', 'evening', 'midnight'\n",
    "           # , 'Monday','Tuesday', 'Wednesday', 'Thursday', 'Friday', 'Saturday', 'Sunday'\n",
    "            #, 'verified_list','veracity (0=0, 1=1, 2=2)'\n",
    "            #, 'num_followees_list'\n",
    "            #, 'num_followers_list'\n",
    "            #,'account_age_list'\n",
    "           #,'virality'\n",
    "           #,'depth'\n",
    "           #,'max_breadth'\n",
    "           ]]#virality>max breadth>depth>>others\n",
    "y = df_raw['size']\n",
    "lda = LDA(n_components=2)\n",
    "new_data = lda.fit_transform(X,y)\n",
    "#new_data.shape"
   ]
  },
  {
   "cell_type": "code",
   "execution_count": 19,
   "metadata": {},
   "outputs": [
    {
     "data": {
      "text/plain": [
       "array([0.74570577, 0.08497431])"
      ]
     },
     "execution_count": 19,
     "metadata": {},
     "output_type": "execute_result"
    }
   ],
   "source": [
    "lda.explained_variance_ratio_"
   ]
  },
  {
   "cell_type": "code",
   "execution_count": 25,
   "metadata": {
    "collapsed": true
   },
   "outputs": [
    {
     "data": {
      "image/png": "[encoded data removed]",
      "text/plain": [
       "<Figure size 432x288 with 1 Axes>"
      ]
     },
     "metadata": {
      "needs_background": "light"
     },
     "output_type": "display_data"
    }
   ],
   "source": [
    "plt.figure()\n",
    "plt.scatter(new_data[:,0],new_data[:,1]\n",
    "            ,alpha=0.2\n",
    "           )\n",
    "plt.title('LDA of catagory')\n",
    "plt.show()"
   ]
  },
  {
   "cell_type": "code",
   "execution_count": 4,
   "metadata": {
    "collapsed": true
   },
   "outputs": [
    {
     "data": {
      "text/html": [
       "<div>\n",
       "<style scoped>\n",
       "    .dataframe tbody tr th:only-of-type {\n",
       "        vertical-align: middle;\n",
       "    }\n",
       "\n",
       "    .dataframe tbody tr th {\n",
       "        vertical-align: top;\n",
       "    }\n",
       "\n",
       "    .dataframe thead th {\n",
       "        text-align: right;\n",
       "    }\n",
       "</style>\n",
       "<table border=\"1\" class=\"dataframe\">\n",
       "  <thead>\n",
       "    <tr style=\"text-align: right;\">\n",
       "      <th></th>\n",
       "      <th>count</th>\n",
       "      <th>mean</th>\n",
       "      <th>std</th>\n",
       "      <th>min</th>\n",
       "      <th>25%</th>\n",
       "      <th>50%</th>\n",
       "      <th>75%</th>\n",
       "      <th>max</th>\n",
       "    </tr>\n",
       "  </thead>\n",
       "  <tbody>\n",
       "    <tr>\n",
       "      <td>Unnamed: 0</td>\n",
       "      <td>126301.0</td>\n",
       "      <td>6.315000e+04</td>\n",
       "      <td>3.646010e+04</td>\n",
       "      <td>0.000000e+00</td>\n",
       "      <td>31575.0</td>\n",
       "      <td>63150.0</td>\n",
       "      <td>94725.0</td>\n",
       "      <td>1.263000e+05</td>\n",
       "    </tr>\n",
       "    <tr>\n",
       "      <td>raw_id</td>\n",
       "      <td>126301.0</td>\n",
       "      <td>6.315100e+04</td>\n",
       "      <td>3.646010e+04</td>\n",
       "      <td>1.000000e+00</td>\n",
       "      <td>31576.0</td>\n",
       "      <td>63151.0</td>\n",
       "      <td>94726.0</td>\n",
       "      <td>1.263010e+05</td>\n",
       "    </tr>\n",
       "    <tr>\n",
       "      <td>tid</td>\n",
       "      <td>126301.0</td>\n",
       "      <td>1.098084e+06</td>\n",
       "      <td>1.265364e+06</td>\n",
       "      <td>0.000000e+00</td>\n",
       "      <td>626880.0</td>\n",
       "      <td>658455.0</td>\n",
       "      <td>737832.0</td>\n",
       "      <td>4.034734e+06</td>\n",
       "    </tr>\n",
       "    <tr>\n",
       "      <td>virality</td>\n",
       "      <td>126301.0</td>\n",
       "      <td>5.433857e-01</td>\n",
       "      <td>8.594704e-01</td>\n",
       "      <td>0.000000e+00</td>\n",
       "      <td>0.0</td>\n",
       "      <td>0.0</td>\n",
       "      <td>1.0</td>\n",
       "      <td>1.024542e+01</td>\n",
       "    </tr>\n",
       "    <tr>\n",
       "      <td>verified_list</td>\n",
       "      <td>126301.0</td>\n",
       "      <td>5.559369e-03</td>\n",
       "      <td>6.126991e-02</td>\n",
       "      <td>0.000000e+00</td>\n",
       "      <td>0.0</td>\n",
       "      <td>0.0</td>\n",
       "      <td>0.0</td>\n",
       "      <td>1.000000e+00</td>\n",
       "    </tr>\n",
       "    <tr>\n",
       "      <td>veracity (0=0, 1=1, 2=2)</td>\n",
       "      <td>126301.0</td>\n",
       "      <td>5.392277e-01</td>\n",
       "      <td>7.968609e-01</td>\n",
       "      <td>0.000000e+00</td>\n",
       "      <td>0.0</td>\n",
       "      <td>0.0</td>\n",
       "      <td>1.0</td>\n",
       "      <td>2.000000e+00</td>\n",
       "    </tr>\n",
       "    <tr>\n",
       "      <td>num_followees_list</td>\n",
       "      <td>126301.0</td>\n",
       "      <td>1.390289e+03</td>\n",
       "      <td>3.371995e+03</td>\n",
       "      <td>0.000000e+00</td>\n",
       "      <td>263.0</td>\n",
       "      <td>596.0</td>\n",
       "      <td>1615.5</td>\n",
       "      <td>2.500940e+05</td>\n",
       "    </tr>\n",
       "    <tr>\n",
       "      <td>num_followers_list</td>\n",
       "      <td>126301.0</td>\n",
       "      <td>1.814799e+03</td>\n",
       "      <td>1.132237e+04</td>\n",
       "      <td>0.000000e+00</td>\n",
       "      <td>207.0</td>\n",
       "      <td>569.0</td>\n",
       "      <td>1517.0</td>\n",
       "      <td>3.174605e+06</td>\n",
       "    </tr>\n",
       "    <tr>\n",
       "      <td>account_age_list</td>\n",
       "      <td>126301.0</td>\n",
       "      <td>1.253889e+03</td>\n",
       "      <td>6.765464e+02</td>\n",
       "      <td>2.100000e+01</td>\n",
       "      <td>740.0</td>\n",
       "      <td>1233.0</td>\n",
       "      <td>1716.0</td>\n",
       "      <td>3.700000e+03</td>\n",
       "    </tr>\n",
       "    <tr>\n",
       "      <td>depth</td>\n",
       "      <td>126301.0</td>\n",
       "      <td>5.689741e-01</td>\n",
       "      <td>1.108173e+00</td>\n",
       "      <td>0.000000e+00</td>\n",
       "      <td>0.0</td>\n",
       "      <td>0.0</td>\n",
       "      <td>1.0</td>\n",
       "      <td>2.400000e+01</td>\n",
       "    </tr>\n",
       "    <tr>\n",
       "      <td>unique_users</td>\n",
       "      <td>126301.0</td>\n",
       "      <td>3.194539e+01</td>\n",
       "      <td>5.504968e+02</td>\n",
       "      <td>1.000000e+00</td>\n",
       "      <td>1.0</td>\n",
       "      <td>1.0</td>\n",
       "      <td>2.0</td>\n",
       "      <td>4.689500e+04</td>\n",
       "    </tr>\n",
       "    <tr>\n",
       "      <td>max_breadth</td>\n",
       "      <td>126301.0</td>\n",
       "      <td>2.047273e+01</td>\n",
       "      <td>3.057393e+02</td>\n",
       "      <td>1.000000e+00</td>\n",
       "      <td>1.0</td>\n",
       "      <td>1.0</td>\n",
       "      <td>2.0</td>\n",
       "      <td>2.952700e+04</td>\n",
       "    </tr>\n",
       "    <tr>\n",
       "      <td>size</td>\n",
       "      <td>126301.0</td>\n",
       "      <td>3.194539e+01</td>\n",
       "      <td>5.504968e+02</td>\n",
       "      <td>1.000000e+00</td>\n",
       "      <td>1.0</td>\n",
       "      <td>1.0</td>\n",
       "      <td>2.0</td>\n",
       "      <td>4.689500e+04</td>\n",
       "    </tr>\n",
       "    <tr>\n",
       "      <td>Business</td>\n",
       "      <td>126301.0</td>\n",
       "      <td>1.111709e-01</td>\n",
       "      <td>3.143449e-01</td>\n",
       "      <td>0.000000e+00</td>\n",
       "      <td>0.0</td>\n",
       "      <td>0.0</td>\n",
       "      <td>0.0</td>\n",
       "      <td>1.000000e+00</td>\n",
       "    </tr>\n",
       "    <tr>\n",
       "      <td>Politics</td>\n",
       "      <td>126301.0</td>\n",
       "      <td>3.491263e-01</td>\n",
       "      <td>4.766958e-01</td>\n",
       "      <td>0.000000e+00</td>\n",
       "      <td>0.0</td>\n",
       "      <td>0.0</td>\n",
       "      <td>1.0</td>\n",
       "      <td>1.000000e+00</td>\n",
       "    </tr>\n",
       "    <tr>\n",
       "      <td>Entertainment</td>\n",
       "      <td>126301.0</td>\n",
       "      <td>4.889114e-02</td>\n",
       "      <td>2.156413e-01</td>\n",
       "      <td>0.000000e+00</td>\n",
       "      <td>0.0</td>\n",
       "      <td>0.0</td>\n",
       "      <td>0.0</td>\n",
       "      <td>1.000000e+00</td>\n",
       "    </tr>\n",
       "    <tr>\n",
       "      <td>NaturalDisasters</td>\n",
       "      <td>126301.0</td>\n",
       "      <td>1.056999e-02</td>\n",
       "      <td>1.022661e-01</td>\n",
       "      <td>0.000000e+00</td>\n",
       "      <td>0.0</td>\n",
       "      <td>0.0</td>\n",
       "      <td>0.0</td>\n",
       "      <td>1.000000e+00</td>\n",
       "    </tr>\n",
       "    <tr>\n",
       "      <td>Science/Nature/Tech/Food/Health</td>\n",
       "      <td>126301.0</td>\n",
       "      <td>1.255097e-01</td>\n",
       "      <td>3.312973e-01</td>\n",
       "      <td>0.000000e+00</td>\n",
       "      <td>0.0</td>\n",
       "      <td>0.0</td>\n",
       "      <td>0.0</td>\n",
       "      <td>1.000000e+00</td>\n",
       "    </tr>\n",
       "    <tr>\n",
       "      <td>ViralPhotos/Stories/UrbanLegends</td>\n",
       "      <td>126301.0</td>\n",
       "      <td>2.562688e-01</td>\n",
       "      <td>4.365737e-01</td>\n",
       "      <td>0.000000e+00</td>\n",
       "      <td>0.0</td>\n",
       "      <td>0.0</td>\n",
       "      <td>1.0</td>\n",
       "      <td>1.000000e+00</td>\n",
       "    </tr>\n",
       "    <tr>\n",
       "      <td>War/Terrorism/Shootings</td>\n",
       "      <td>126301.0</td>\n",
       "      <td>9.846320e-02</td>\n",
       "      <td>2.979411e-01</td>\n",
       "      <td>0.000000e+00</td>\n",
       "      <td>0.0</td>\n",
       "      <td>0.0</td>\n",
       "      <td>0.0</td>\n",
       "      <td>1.000000e+00</td>\n",
       "    </tr>\n",
       "    <tr>\n",
       "      <td>dawn</td>\n",
       "      <td>126301.0</td>\n",
       "      <td>1.556441e-01</td>\n",
       "      <td>3.625190e-01</td>\n",
       "      <td>0.000000e+00</td>\n",
       "      <td>0.0</td>\n",
       "      <td>0.0</td>\n",
       "      <td>0.0</td>\n",
       "      <td>1.000000e+00</td>\n",
       "    </tr>\n",
       "    <tr>\n",
       "      <td>morning</td>\n",
       "      <td>126301.0</td>\n",
       "      <td>9.775853e-02</td>\n",
       "      <td>2.969891e-01</td>\n",
       "      <td>0.000000e+00</td>\n",
       "      <td>0.0</td>\n",
       "      <td>0.0</td>\n",
       "      <td>0.0</td>\n",
       "      <td>1.000000e+00</td>\n",
       "    </tr>\n",
       "    <tr>\n",
       "      <td>noon</td>\n",
       "      <td>126301.0</td>\n",
       "      <td>1.292785e-01</td>\n",
       "      <td>3.355092e-01</td>\n",
       "      <td>0.000000e+00</td>\n",
       "      <td>0.0</td>\n",
       "      <td>0.0</td>\n",
       "      <td>0.0</td>\n",
       "      <td>1.000000e+00</td>\n",
       "    </tr>\n",
       "    <tr>\n",
       "      <td>afternoon</td>\n",
       "      <td>126301.0</td>\n",
       "      <td>2.218351e-01</td>\n",
       "      <td>4.154825e-01</td>\n",
       "      <td>0.000000e+00</td>\n",
       "      <td>0.0</td>\n",
       "      <td>0.0</td>\n",
       "      <td>0.0</td>\n",
       "      <td>1.000000e+00</td>\n",
       "    </tr>\n",
       "    <tr>\n",
       "      <td>evening</td>\n",
       "      <td>126301.0</td>\n",
       "      <td>2.113839e-01</td>\n",
       "      <td>4.082917e-01</td>\n",
       "      <td>0.000000e+00</td>\n",
       "      <td>0.0</td>\n",
       "      <td>0.0</td>\n",
       "      <td>0.0</td>\n",
       "      <td>1.000000e+00</td>\n",
       "    </tr>\n",
       "    <tr>\n",
       "      <td>midnight</td>\n",
       "      <td>126301.0</td>\n",
       "      <td>1.840999e-01</td>\n",
       "      <td>3.875672e-01</td>\n",
       "      <td>0.000000e+00</td>\n",
       "      <td>0.0</td>\n",
       "      <td>0.0</td>\n",
       "      <td>0.0</td>\n",
       "      <td>1.000000e+00</td>\n",
       "    </tr>\n",
       "    <tr>\n",
       "      <td>Monday</td>\n",
       "      <td>126301.0</td>\n",
       "      <td>1.165074e-01</td>\n",
       "      <td>3.208337e-01</td>\n",
       "      <td>0.000000e+00</td>\n",
       "      <td>0.0</td>\n",
       "      <td>0.0</td>\n",
       "      <td>0.0</td>\n",
       "      <td>1.000000e+00</td>\n",
       "    </tr>\n",
       "    <tr>\n",
       "      <td>Tuesday</td>\n",
       "      <td>126301.0</td>\n",
       "      <td>1.541476e-01</td>\n",
       "      <td>3.610916e-01</td>\n",
       "      <td>0.000000e+00</td>\n",
       "      <td>0.0</td>\n",
       "      <td>0.0</td>\n",
       "      <td>0.0</td>\n",
       "      <td>1.000000e+00</td>\n",
       "    </tr>\n",
       "    <tr>\n",
       "      <td>Wednesday</td>\n",
       "      <td>126301.0</td>\n",
       "      <td>1.470851e-01</td>\n",
       "      <td>3.541922e-01</td>\n",
       "      <td>0.000000e+00</td>\n",
       "      <td>0.0</td>\n",
       "      <td>0.0</td>\n",
       "      <td>0.0</td>\n",
       "      <td>1.000000e+00</td>\n",
       "    </tr>\n",
       "    <tr>\n",
       "      <td>Thursday</td>\n",
       "      <td>126301.0</td>\n",
       "      <td>1.842266e-01</td>\n",
       "      <td>3.876704e-01</td>\n",
       "      <td>0.000000e+00</td>\n",
       "      <td>0.0</td>\n",
       "      <td>0.0</td>\n",
       "      <td>0.0</td>\n",
       "      <td>1.000000e+00</td>\n",
       "    </tr>\n",
       "    <tr>\n",
       "      <td>Friday</td>\n",
       "      <td>126301.0</td>\n",
       "      <td>1.680193e-01</td>\n",
       "      <td>3.738849e-01</td>\n",
       "      <td>0.000000e+00</td>\n",
       "      <td>0.0</td>\n",
       "      <td>0.0</td>\n",
       "      <td>0.0</td>\n",
       "      <td>1.000000e+00</td>\n",
       "    </tr>\n",
       "    <tr>\n",
       "      <td>Saturday</td>\n",
       "      <td>126301.0</td>\n",
       "      <td>1.193815e-01</td>\n",
       "      <td>3.242381e-01</td>\n",
       "      <td>0.000000e+00</td>\n",
       "      <td>0.0</td>\n",
       "      <td>0.0</td>\n",
       "      <td>0.0</td>\n",
       "      <td>1.000000e+00</td>\n",
       "    </tr>\n",
       "    <tr>\n",
       "      <td>Sunday</td>\n",
       "      <td>126301.0</td>\n",
       "      <td>1.106325e-01</td>\n",
       "      <td>3.136778e-01</td>\n",
       "      <td>0.000000e+00</td>\n",
       "      <td>0.0</td>\n",
       "      <td>0.0</td>\n",
       "      <td>0.0</td>\n",
       "      <td>1.000000e+00</td>\n",
       "    </tr>\n",
       "    <tr>\n",
       "      <td>sum_depth2uu</td>\n",
       "      <td>126301.0</td>\n",
       "      <td>2.176074e+02</td>\n",
       "      <td>5.970246e+03</td>\n",
       "      <td>0.000000e+00</td>\n",
       "      <td>0.0</td>\n",
       "      <td>0.0</td>\n",
       "      <td>2.0</td>\n",
       "      <td>7.804450e+05</td>\n",
       "    </tr>\n",
       "    <tr>\n",
       "      <td>sum_depth2time</td>\n",
       "      <td>126301.0</td>\n",
       "      <td>9.259142e+04</td>\n",
       "      <td>3.069222e+06</td>\n",
       "      <td>0.000000e+00</td>\n",
       "      <td>0.0</td>\n",
       "      <td>0.0</td>\n",
       "      <td>0.0</td>\n",
       "      <td>5.071454e+08</td>\n",
       "    </tr>\n",
       "    <tr>\n",
       "      <td>sum_depth2breadth</td>\n",
       "      <td>126301.0</td>\n",
       "      <td>3.127857e+01</td>\n",
       "      <td>5.505345e+02</td>\n",
       "      <td>0.000000e+00</td>\n",
       "      <td>0.0</td>\n",
       "      <td>0.0</td>\n",
       "      <td>2.0</td>\n",
       "      <td>4.689500e+04</td>\n",
       "    </tr>\n",
       "    <tr>\n",
       "      <td>sum_uu2time</td>\n",
       "      <td>126255.0</td>\n",
       "      <td>1.002370e+07</td>\n",
       "      <td>3.524340e+08</td>\n",
       "      <td>-1.071687e+09</td>\n",
       "      <td>0.0</td>\n",
       "      <td>0.0</td>\n",
       "      <td>1297.0</td>\n",
       "      <td>6.850403e+10</td>\n",
       "    </tr>\n",
       "    <tr>\n",
       "      <td>max_depthtime</td>\n",
       "      <td>126301.0</td>\n",
       "      <td>5.304995e+04</td>\n",
       "      <td>1.391170e+06</td>\n",
       "      <td>0.000000e+00</td>\n",
       "      <td>0.0</td>\n",
       "      <td>0.0</td>\n",
       "      <td>0.0</td>\n",
       "      <td>2.116017e+08</td>\n",
       "    </tr>\n",
       "    <tr>\n",
       "      <td>max_uutime</td>\n",
       "      <td>126301.0</td>\n",
       "      <td>4.434358e+05</td>\n",
       "      <td>4.249187e+06</td>\n",
       "      <td>0.000000e+00</td>\n",
       "      <td>0.0</td>\n",
       "      <td>0.0</td>\n",
       "      <td>1002.0</td>\n",
       "      <td>2.213514e+08</td>\n",
       "    </tr>\n",
       "  </tbody>\n",
       "</table>\n",
       "</div>"
      ],
      "text/plain": [
       "                                     count          mean           std  \\\n",
       "Unnamed: 0                        126301.0  6.315000e+04  3.646010e+04   \n",
       "raw_id                            126301.0  6.315100e+04  3.646010e+04   \n",
       "tid                               126301.0  1.098084e+06  1.265364e+06   \n",
       "virality                          126301.0  5.433857e-01  8.594704e-01   \n",
       "verified_list                     126301.0  5.559369e-03  6.126991e-02   \n",
       "veracity (0=0, 1=1, 2=2)          126301.0  5.392277e-01  7.968609e-01   \n",
       "num_followees_list                126301.0  1.390289e+03  3.371995e+03   \n",
       "num_followers_list                126301.0  1.814799e+03  1.132237e+04   \n",
       "account_age_list                  126301.0  1.253889e+03  6.765464e+02   \n",
       "depth                             126301.0  5.689741e-01  1.108173e+00   \n",
       "unique_users                      126301.0  3.194539e+01  5.504968e+02   \n",
       "max_breadth                       126301.0  2.047273e+01  3.057393e+02   \n",
       "size                              126301.0  3.194539e+01  5.504968e+02   \n",
       "Business                          126301.0  1.111709e-01  3.143449e-01   \n",
       "Politics                          126301.0  3.491263e-01  4.766958e-01   \n",
       "Entertainment                     126301.0  4.889114e-02  2.156413e-01   \n",
       "NaturalDisasters                  126301.0  1.056999e-02  1.022661e-01   \n",
       "Science/Nature/Tech/Food/Health   126301.0  1.255097e-01  3.312973e-01   \n",
       "ViralPhotos/Stories/UrbanLegends  126301.0  2.562688e-01  4.365737e-01   \n",
       "War/Terrorism/Shootings           126301.0  9.846320e-02  2.979411e-01   \n",
       "dawn                              126301.0  1.556441e-01  3.625190e-01   \n",
       "morning                           126301.0  9.775853e-02  2.969891e-01   \n",
       "noon                              126301.0  1.292785e-01  3.355092e-01   \n",
       "afternoon                         126301.0  2.218351e-01  4.154825e-01   \n",
       "evening                           126301.0  2.113839e-01  4.082917e-01   \n",
       "midnight                          126301.0  1.840999e-01  3.875672e-01   \n",
       "Monday                            126301.0  1.165074e-01  3.208337e-01   \n",
       "Tuesday                           126301.0  1.541476e-01  3.610916e-01   \n",
       "Wednesday                         126301.0  1.470851e-01  3.541922e-01   \n",
       "Thursday                          126301.0  1.842266e-01  3.876704e-01   \n",
       "Friday                            126301.0  1.680193e-01  3.738849e-01   \n",
       "Saturday                          126301.0  1.193815e-01  3.242381e-01   \n",
       "Sunday                            126301.0  1.106325e-01  3.136778e-01   \n",
       "sum_depth2uu                      126301.0  2.176074e+02  5.970246e+03   \n",
       "sum_depth2time                    126301.0  9.259142e+04  3.069222e+06   \n",
       "sum_depth2breadth                 126301.0  3.127857e+01  5.505345e+02   \n",
       "sum_uu2time                       126255.0  1.002370e+07  3.524340e+08   \n",
       "max_depthtime                     126301.0  5.304995e+04  1.391170e+06   \n",
       "max_uutime                        126301.0  4.434358e+05  4.249187e+06   \n",
       "\n",
       "                                           min       25%       50%       75%  \\\n",
       "Unnamed: 0                        0.000000e+00   31575.0   63150.0   94725.0   \n",
       "raw_id                            1.000000e+00   31576.0   63151.0   94726.0   \n",
       "tid                               0.000000e+00  626880.0  658455.0  737832.0   \n",
       "virality                          0.000000e+00       0.0       0.0       1.0   \n",
       "verified_list                     0.000000e+00       0.0       0.0       0.0   \n",
       "veracity (0=0, 1=1, 2=2)          0.000000e+00       0.0       0.0       1.0   \n",
       "num_followees_list                0.000000e+00     263.0     596.0    1615.5   \n",
       "num_followers_list                0.000000e+00     207.0     569.0    1517.0   \n",
       "account_age_list                  2.100000e+01     740.0    1233.0    1716.0   \n",
       "depth                             0.000000e+00       0.0       0.0       1.0   \n",
       "unique_users                      1.000000e+00       1.0       1.0       2.0   \n",
       "max_breadth                       1.000000e+00       1.0       1.0       2.0   \n",
       "size                              1.000000e+00       1.0       1.0       2.0   \n",
       "Business                          0.000000e+00       0.0       0.0       0.0   \n",
       "Politics                          0.000000e+00       0.0       0.0       1.0   \n",
       "Entertainment                     0.000000e+00       0.0       0.0       0.0   \n",
       "NaturalDisasters                  0.000000e+00       0.0       0.0       0.0   \n",
       "Science/Nature/Tech/Food/Health   0.000000e+00       0.0       0.0       0.0   \n",
       "ViralPhotos/Stories/UrbanLegends  0.000000e+00       0.0       0.0       1.0   \n",
       "War/Terrorism/Shootings           0.000000e+00       0.0       0.0       0.0   \n",
       "dawn                              0.000000e+00       0.0       0.0       0.0   \n",
       "morning                           0.000000e+00       0.0       0.0       0.0   \n",
       "noon                              0.000000e+00       0.0       0.0       0.0   \n",
       "afternoon                         0.000000e+00       0.0       0.0       0.0   \n",
       "evening                           0.000000e+00       0.0       0.0       0.0   \n",
       "midnight                          0.000000e+00       0.0       0.0       0.0   \n",
       "Monday                            0.000000e+00       0.0       0.0       0.0   \n",
       "Tuesday                           0.000000e+00       0.0       0.0       0.0   \n",
       "Wednesday                         0.000000e+00       0.0       0.0       0.0   \n",
       "Thursday                          0.000000e+00       0.0       0.0       0.0   \n",
       "Friday                            0.000000e+00       0.0       0.0       0.0   \n",
       "Saturday                          0.000000e+00       0.0       0.0       0.0   \n",
       "Sunday                            0.000000e+00       0.0       0.0       0.0   \n",
       "sum_depth2uu                      0.000000e+00       0.0       0.0       2.0   \n",
       "sum_depth2time                    0.000000e+00       0.0       0.0       0.0   \n",
       "sum_depth2breadth                 0.000000e+00       0.0       0.0       2.0   \n",
       "sum_uu2time                      -1.071687e+09       0.0       0.0    1297.0   \n",
       "max_depthtime                     0.000000e+00       0.0       0.0       0.0   \n",
       "max_uutime                        0.000000e+00       0.0       0.0    1002.0   \n",
       "\n",
       "                                           max  \n",
       "Unnamed: 0                        1.263000e+05  \n",
       "raw_id                            1.263010e+05  \n",
       "tid                               4.034734e+06  \n",
       "virality                          1.024542e+01  \n",
       "verified_list                     1.000000e+00  \n",
       "veracity (0=0, 1=1, 2=2)          2.000000e+00  \n",
       "num_followees_list                2.500940e+05  \n",
       "num_followers_list                3.174605e+06  \n",
       "account_age_list                  3.700000e+03  \n",
       "depth                             2.400000e+01  \n",
       "unique_users                      4.689500e+04  \n",
       "max_breadth                       2.952700e+04  \n",
       "size                              4.689500e+04  \n",
       "Business                          1.000000e+00  \n",
       "Politics                          1.000000e+00  \n",
       "Entertainment                     1.000000e+00  \n",
       "NaturalDisasters                  1.000000e+00  \n",
       "Science/Nature/Tech/Food/Health   1.000000e+00  \n",
       "ViralPhotos/Stories/UrbanLegends  1.000000e+00  \n",
       "War/Terrorism/Shootings           1.000000e+00  \n",
       "dawn                              1.000000e+00  \n",
       "morning                           1.000000e+00  \n",
       "noon                              1.000000e+00  \n",
       "afternoon                         1.000000e+00  \n",
       "evening                           1.000000e+00  \n",
       "midnight                          1.000000e+00  \n",
       "Monday                            1.000000e+00  \n",
       "Tuesday                           1.000000e+00  \n",
       "Wednesday                         1.000000e+00  \n",
       "Thursday                          1.000000e+00  \n",
       "Friday                            1.000000e+00  \n",
       "Saturday                          1.000000e+00  \n",
       "Sunday                            1.000000e+00  \n",
       "sum_depth2uu                      7.804450e+05  \n",
       "sum_depth2time                    5.071454e+08  \n",
       "sum_depth2breadth                 4.689500e+04  \n",
       "sum_uu2time                       6.850403e+10  \n",
       "max_depthtime                     2.116017e+08  \n",
       "max_uutime                        2.213514e+08  "
      ]
     },
     "execution_count": 4,
     "metadata": {},
     "output_type": "execute_result"
    }
   ],
   "source": [
    "df_raw.describe().T"
   ]
  },
  {
   "cell_type": "code",
   "execution_count": 5,
   "metadata": {
    "collapsed": true
   },
   "outputs": [
    {
     "name": "stdout",
     "output_type": "stream",
     "text": [
      "<class 'pandas.core.frame.DataFrame'>\n",
      "RangeIndex: 126301 entries, 0 to 126300\n",
      "Data columns (total 47 columns):\n",
      "Unnamed: 0                          126301 non-null int64\n",
      "raw_id                              126301 non-null int64\n",
      "tid                                 126301 non-null int64\n",
      "rumor_id                            126301 non-null object\n",
      "virality                            126301 non-null float64\n",
      "verified_list                       126301 non-null float64\n",
      "veracity (0=0, 1=1, 2=2)            126301 non-null int64\n",
      "num_followees_list                  126301 non-null float64\n",
      "num_followers_list                  126301 non-null float64\n",
      "engagement_list                     126301 non-null object\n",
      "account_age_list                    126301 non-null float64\n",
      "depth2time                          126301 non-null object\n",
      "depth2uu                            126301 non-null object\n",
      "depth2breadth                       126301 non-null object\n",
      "uu2time                             126301 non-null object\n",
      "depth                               126301 non-null int64\n",
      "unique_users                        126301 non-null int64\n",
      "max_breadth                         126301 non-null int64\n",
      "start_date                          126301 non-null object\n",
      "date                                126301 non-null datetime64[ns]\n",
      "size                                126301 non-null int64\n",
      "Business                            126301 non-null int64\n",
      "Politics                            126301 non-null int64\n",
      "Entertainment                       126301 non-null int64\n",
      "NaturalDisasters                    126301 non-null int64\n",
      "Science/Nature/Tech/Food/Health     126301 non-null int64\n",
      "ViralPhotos/Stories/UrbanLegends    126301 non-null int64\n",
      "War/Terrorism/Shootings             126301 non-null int64\n",
      "dawn                                126301 non-null int64\n",
      "morning                             126301 non-null int64\n",
      "noon                                126301 non-null int64\n",
      "afternoon                           126301 non-null int64\n",
      "evening                             126301 non-null int64\n",
      "midnight                            126301 non-null int64\n",
      "Monday                              126301 non-null int64\n",
      "Tuesday                             126301 non-null int64\n",
      "Wednesday                           126301 non-null int64\n",
      "Thursday                            126301 non-null int64\n",
      "Friday                              126301 non-null int64\n",
      "Saturday                            126301 non-null int64\n",
      "Sunday                              126301 non-null int64\n",
      "sum_depth2uu                        126301 non-null int64\n",
      "sum_depth2time                      126301 non-null int64\n",
      "sum_depth2breadth                   126301 non-null int64\n",
      "sum_uu2time                         126255 non-null float64\n",
      "max_depthtime                       126301 non-null int64\n",
      "max_uutime                          126301 non-null float64\n",
      "dtypes: datetime64[ns](1), float64(7), int64(32), object(7)\n",
      "memory usage: 45.3+ MB\n"
     ]
    }
   ],
   "source": [
    "df_raw.info()"
   ]
  },
  {
   "cell_type": "code",
   "execution_count": 7,
   "metadata": {
    "collapsed": true
   },
   "outputs": [
    {
     "data": {
      "text/plain": [
       "0     84220\n",
       "1     25911\n",
       "2      9577\n",
       "3      3574\n",
       "4      1514\n",
       "5       640\n",
       "6       332\n",
       "7       186\n",
       "8       127\n",
       "9        64\n",
       "10       42\n",
       "11       37\n",
       "12       21\n",
       "14       16\n",
       "13       12\n",
       "15        8\n",
       "16        7\n",
       "19        6\n",
       "17        4\n",
       "18        2\n",
       "24        1\n",
       "Name: depth, dtype: int64"
      ]
     },
     "execution_count": 7,
     "metadata": {},
     "output_type": "execute_result"
    }
   ],
   "source": [
    "df_raw['depth'].value_counts()"
   ]
  },
  {
   "cell_type": "code",
   "execution_count": 2,
   "metadata": {},
   "outputs": [],
   "source": [
    "# NEW START\n",
    "df = pd.read_excel('metadata2.xlsx')\n",
    "df_new = pd.read_excel('metadata5.xlsx')"
   ]
  },
  {
   "cell_type": "code",
   "execution_count": 21,
   "metadata": {
    "collapsed": true
   },
   "outputs": [
    {
     "data": {
      "text/plain": [
       "1       84220\n",
       "2       12980\n",
       "3        6761\n",
       "4        3857\n",
       "5        2688\n",
       "        ...  \n",
       "613         1\n",
       "549         1\n",
       "7975        1\n",
       "5926        1\n",
       "8196        1\n",
       "Name: size, Length: 1357, dtype: int64"
      ]
     },
     "execution_count": 21,
     "metadata": {},
     "output_type": "execute_result"
    }
   ],
   "source": [
    "df['size'].value_counts()"
   ]
  },
  {
   "cell_type": "code",
   "execution_count": 76,
   "metadata": {},
   "outputs": [
    {
     "data": {
      "text/plain": [
       "Index(['Unnamed: 0', 'Unnamed: 0.1', 'raw_id', 'tid', 'rumor_id', 'virality',\n",
       "       'verified_list', 'veracity (0=0, 1=1, 2=2)', 'num_followees_list',\n",
       "       'num_followers_list',\n",
       "       ...\n",
       "       't1380_uu', 't1380_depth', 't1380_breadth', 't1440_uu', 't1440_depth',\n",
       "       't1440_breadth', 'new_uutime', 'new_depth', 'new_breadth', 'new_size'],\n",
       "      dtype='object', length=155)"
      ]
     },
     "execution_count": 76,
     "metadata": {},
     "output_type": "execute_result"
    }
   ],
   "source": [
    "df_new.columns"
   ]
  },
  {
   "cell_type": "code",
   "execution_count": 39,
   "metadata": {},
   "outputs": [
    {
     "data": {
      "text/plain": [
       "106956    46895\n",
       "106955    45451\n",
       "106954    42149\n",
       "106953    41196\n",
       "106952    38240\n",
       "          ...  \n",
       "58874         1\n",
       "58875         1\n",
       "58876         1\n",
       "58877         1\n",
       "0             1\n",
       "Name: size, Length: 126301, dtype: int64"
      ]
     },
     "execution_count": 39,
     "metadata": {},
     "output_type": "execute_result"
    }
   ],
   "source": [
    "num = df['size'].sort_values(ascending = False,inplace = False)\n",
    "num"
   ]
  },
  {
   "cell_type": "code",
   "execution_count": 54,
   "metadata": {},
   "outputs": [
    {
     "data": {
      "text/plain": [
       "<Figure size 14400x3600 with 0 Axes>"
      ]
     },
     "metadata": {},
     "output_type": "display_data"
    },
    {
     "data": {
      "image/png": "[encoded data removed]",
      "text/plain": [
       "<Figure size 432x288 with 1 Axes>"
      ]
     },
     "metadata": {
      "needs_background": "light"
     },
     "output_type": "display_data"
    }
   ],
   "source": [
    "fig = plt.figure(figsize=(200,50))\n",
    "plt.figure()\n",
    "plt.scatter(df['Unnamed: 0'],num,alpha=0.4)\n",
    "# plt.title('PCA of time')\n",
    "# plt.xscale('log')\n",
    "plt.yscale('log')\n",
    "ax1 = plt.gca()\n",
    "ax1.set_title('Size')\n",
    "ax1.set_xlabel('nums',fontsize = 10)\n",
    "ax1.set_ylabel('sizes',fontsize = 15)\n",
    "plt.show()"
   ]
  },
  {
   "cell_type": "code",
   "execution_count": 160,
   "metadata": {},
   "outputs": [
    {
     "data": {
      "text/plain": [
       "<Figure size 288x288 with 0 Axes>"
      ]
     },
     "metadata": {},
     "output_type": "display_data"
    },
    {
     "data": {
      "image/png": "[encoded data removed]",
      "text/plain": [
       "<Figure size 432x288 with 1 Axes>"
      ]
     },
     "metadata": {
      "needs_background": "light"
     },
     "output_type": "display_data"
    }
   ],
   "source": [
    "fig = plt.figure(figsize=(4,4))\n",
    "plt.figure()\n",
    "plt.scatter(df['max_breadth'],df['size'],alpha=0.2)\n",
    "# plt.title('PCA of time')\n",
    "plt.xscale('log')\n",
    "plt.yscale('log')\n",
    "ax1 = plt.gca()\n",
    "#ax1.set_title('Size')\n",
    "ax1.set_xlabel('最大扩散宽度',fontsize = 15)\n",
    "ax1.set_ylabel('最终扩散规模',fontsize = 15)\n",
    "plt.tight_layout()\n",
    "plt.savefig(\"扩散宽度与规模的关系.png\",dpi=300)\n",
    "plt.show()"
   ]
  },
  {
   "cell_type": "code",
   "execution_count": 66,
   "metadata": {},
   "outputs": [
    {
     "data": {
      "text/plain": [
       "'0.0'"
      ]
     },
     "execution_count": 66,
     "metadata": {},
     "output_type": "execute_result"
    }
   ],
   "source": [
    "df['depth2time'][100007].split(',')[0].split(':')[1]"
   ]
  },
  {
   "cell_type": "code",
   "execution_count": 286,
   "metadata": {},
   "outputs": [
    {
     "data": {
      "text/plain": [
       "0         1:0.0\n",
       "1         1:0.0\n",
       "2         1:0.0\n",
       "3         1:0.0\n",
       "4         1:0.0\n",
       "          ...  \n",
       "126296    1:0.0\n",
       "126297    1:0.0\n",
       "126298    1:0.0\n",
       "126299    1:0.0\n",
       "126300    1:0.0\n",
       "Name: uutime, Length: 126301, dtype: object"
      ]
     },
     "execution_count": 286,
     "metadata": {},
     "output_type": "execute_result"
    }
   ],
   "source": [
    "#uutime修正\n",
    "import xlwt \n",
    "wb = xlwt.Workbook(encoding='utf-8')\n",
    "ws = wb.add_sheet('Sheet1') #sheet页第一页\n",
    "f = open('metadata_anon_2.txt', encoding='gbk') \n",
    "\n",
    "row_excel = 0\n",
    "uutime = []\n",
    "#df['uutime']=''\n",
    "#uutime = df['uutime']\n",
    "\n",
    "for line in f:\n",
    "    #line = line.strip('\\n') #去掉换行符\n",
    "    line = line.split('@') #每一行以\"+\"分隔\n",
    "    uutime.append(line[11])\n",
    "c={\"uutime\" : uutime}#将列表a，b转换成字典\n",
    "df['uutime']=DataFrame(c)#将字典转换成为数据框\n",
    "df['uutime']"
   ]
  },
  {
   "cell_type": "code",
   "execution_count": 84,
   "metadata": {},
   "outputs": [],
   "source": [
    "#返回清理后格式\n",
    "def clean_data(d):\n",
    "    a = [i.split(':') for i in d.split(',')]\n",
    "    a = [[int(i), float(j)]  for i,j in a]\n",
    "    return a"
   ]
  },
  {
   "cell_type": "code",
   "execution_count": 161,
   "metadata": {},
   "outputs": [],
   "source": [
    "##给定前k个用户，获取uutime/depth/max breadth"
   ]
  },
  {
   "cell_type": "code",
   "execution_count": 290,
   "metadata": {
    "scrolled": true
   },
   "outputs": [
    {
     "data": {
      "text/plain": [
       "34.0"
      ]
     },
     "execution_count": 290,
     "metadata": {},
     "output_type": "execute_result"
    }
   ],
   "source": [
    "#find uutume in specific k\n",
    "def find_uutime_for_k(ind, k):\n",
    "    try:\n",
    "        uu2t = clean_data(df['uutime'][ind])\n",
    "        kt = uu2t[k-1][1]\n",
    "        return kt\n",
    "    except Exception as e:\n",
    "        uu3t = clean_data(df['uutime'][ind])\n",
    "        uut = [[i,j] for i,j in uu3t][-1][-1]\n",
    "        return uut\n",
    "uutime_k = find_uutime_for_k(7784, 5)\n",
    "uutime_k"
   ]
  },
  {
   "cell_type": "code",
   "execution_count": 238,
   "metadata": {},
   "outputs": [
    {
     "data": {
      "text/plain": [
       "4"
      ]
     },
     "execution_count": 238,
     "metadata": {},
     "output_type": "execute_result"
    }
   ],
   "source": [
    "#find depth in specific uutime\n",
    "def find_depth_for_k(ind, k):\n",
    "    try:\n",
    "        uu2t = clean_data(df['uu2time'][ind])\n",
    "        dt = clean_data(df['depth2time'][ind])\n",
    "        kt = uu2t[k-1][1]\n",
    "        depth_k = [[i,j,j-kt] for i,j in dt if j-kt <=0][-1][0]\n",
    "        return depth_k\n",
    "    except Exception as e:\n",
    "        return df['depth'][ind]\n",
    "depth_k = find_depth_for_k(8357, 15)#提供depth\n",
    "depth_k"
   ]
  },
  {
   "cell_type": "code",
   "execution_count": 239,
   "metadata": {},
   "outputs": [
    {
     "data": {
      "text/plain": [
       "3.0"
      ]
     },
     "execution_count": 239,
     "metadata": {},
     "output_type": "execute_result"
    }
   ],
   "source": [
    "#find max breadth in specific depth\n",
    "def find_breadth_for_k(ind, k):\n",
    "    try:\n",
    "        uu2t = clean_data(df['uu2time'][ind])\n",
    "        dt = clean_data(df['depth2time'][ind])\n",
    "        kt = uu2t[k-1][1]\n",
    "        depth_k = [[i,j,j-kt] for i,j in dt if j-kt <=0][-1][0]\n",
    "        d2b_time = clean_data(df['depth2breadth'][ind])[:depth_k]\n",
    "        return d2b_time\n",
    "    except Exception as e:\n",
    "        return [[int(df['max_breadth'][ind])],[0]]\n",
    "#在这里面找出最大值\n",
    "def max_lists(*lst):\n",
    "    return max(max(*lst, key=lambda v: max(v)))\n",
    "    #except Exception as e:\n",
    "        #return 0\n",
    "breadth_k = max_lists(find_breadth_for_k(8357, 5))\n",
    "breadth_k"
   ]
  },
  {
   "cell_type": "code",
   "execution_count": 291,
   "metadata": {
    "collapsed": true
   },
   "outputs": [
    {
     "name": "stderr",
     "output_type": "stream",
     "text": [
      "D:\\python\\anaconda\\lib\\site-packages\\ipykernel_launcher.py:9: SettingWithCopyWarning: \n",
      "A value is trying to be set on a copy of a slice from a DataFrame\n",
      "\n",
      "See the caveats in the documentation: http://pandas.pydata.org/pandas-docs/stable/user_guide/indexing.html#returning-a-view-versus-a-copy\n",
      "  if __name__ == '__main__':\n",
      "D:\\python\\anaconda\\lib\\site-packages\\ipykernel_launcher.py:10: SettingWithCopyWarning: \n",
      "A value is trying to be set on a copy of a slice from a DataFrame\n",
      "\n",
      "See the caveats in the documentation: http://pandas.pydata.org/pandas-docs/stable/user_guide/indexing.html#returning-a-view-versus-a-copy\n",
      "  # Remove the CWD from sys.path while we load stuff.\n",
      "D:\\python\\anaconda\\lib\\site-packages\\ipykernel_launcher.py:11: SettingWithCopyWarning: \n",
      "A value is trying to be set on a copy of a slice from a DataFrame\n",
      "\n",
      "See the caveats in the documentation: http://pandas.pydata.org/pandas-docs/stable/user_guide/indexing.html#returning-a-view-versus-a-copy\n",
      "  # This is added back by InteractiveShellApp.init_path()\n"
     ]
    }
   ],
   "source": [
    "#k = 5\n",
    "df['k5_uutime']=''\n",
    "k5_uutime = df['k5_uutime']\n",
    "df['k5_depth']=''\n",
    "k5_depth = df['k5_depth']\n",
    "df['k5_breadth']=''\n",
    "k5_breadth = df['k5_breadth']\n",
    "for i in range (0,126301):\n",
    "    k5_uutime[i] = find_uutime_for_k(i, 5)\n",
    "    k5_depth[i] = find_depth_for_k(i, 5)\n",
    "    k5_breadth[i] = max_lists(find_breadth_for_k(i, 5))"
   ]
  },
  {
   "cell_type": "code",
   "execution_count": 300,
   "metadata": {
    "collapsed": true
   },
   "outputs": [
    {
     "name": "stderr",
     "output_type": "stream",
     "text": [
      "D:\\python\\anaconda\\lib\\site-packages\\ipykernel_launcher.py:9: SettingWithCopyWarning: \n",
      "A value is trying to be set on a copy of a slice from a DataFrame\n",
      "\n",
      "See the caveats in the documentation: http://pandas.pydata.org/pandas-docs/stable/user_guide/indexing.html#returning-a-view-versus-a-copy\n",
      "  if __name__ == '__main__':\n",
      "D:\\python\\anaconda\\lib\\site-packages\\ipykernel_launcher.py:10: SettingWithCopyWarning: \n",
      "A value is trying to be set on a copy of a slice from a DataFrame\n",
      "\n",
      "See the caveats in the documentation: http://pandas.pydata.org/pandas-docs/stable/user_guide/indexing.html#returning-a-view-versus-a-copy\n",
      "  # Remove the CWD from sys.path while we load stuff.\n",
      "D:\\python\\anaconda\\lib\\site-packages\\ipykernel_launcher.py:11: SettingWithCopyWarning: \n",
      "A value is trying to be set on a copy of a slice from a DataFrame\n",
      "\n",
      "See the caveats in the documentation: http://pandas.pydata.org/pandas-docs/stable/user_guide/indexing.html#returning-a-view-versus-a-copy\n",
      "  # This is added back by InteractiveShellApp.init_path()\n"
     ]
    }
   ],
   "source": [
    "#k = 10\n",
    "df['k10_uutime']=''\n",
    "k10_uutime = df['k10_uutime']\n",
    "df['k10_depth']=''\n",
    "k10_depth = df['k10_depth']\n",
    "df['k10_breadth']=''\n",
    "k10_breadth = df['k10_breadth']\n",
    "for i in range (0,126301):\n",
    "    k10_uutime[i] = find_uutime_for_k(i, 10)\n",
    "    k10_depth[i] = find_depth_for_k(i, 10)\n",
    "    k10_breadth[i] = max_lists(find_breadth_for_k(i, 10))"
   ]
  },
  {
   "cell_type": "code",
   "execution_count": 301,
   "metadata": {
    "collapsed": true
   },
   "outputs": [
    {
     "name": "stderr",
     "output_type": "stream",
     "text": [
      "D:\\python\\anaconda\\lib\\site-packages\\ipykernel_launcher.py:9: SettingWithCopyWarning: \n",
      "A value is trying to be set on a copy of a slice from a DataFrame\n",
      "\n",
      "See the caveats in the documentation: http://pandas.pydata.org/pandas-docs/stable/user_guide/indexing.html#returning-a-view-versus-a-copy\n",
      "  if __name__ == '__main__':\n",
      "D:\\python\\anaconda\\lib\\site-packages\\ipykernel_launcher.py:10: SettingWithCopyWarning: \n",
      "A value is trying to be set on a copy of a slice from a DataFrame\n",
      "\n",
      "See the caveats in the documentation: http://pandas.pydata.org/pandas-docs/stable/user_guide/indexing.html#returning-a-view-versus-a-copy\n",
      "  # Remove the CWD from sys.path while we load stuff.\n",
      "D:\\python\\anaconda\\lib\\site-packages\\ipykernel_launcher.py:11: SettingWithCopyWarning: \n",
      "A value is trying to be set on a copy of a slice from a DataFrame\n",
      "\n",
      "See the caveats in the documentation: http://pandas.pydata.org/pandas-docs/stable/user_guide/indexing.html#returning-a-view-versus-a-copy\n",
      "  # This is added back by InteractiveShellApp.init_path()\n"
     ]
    }
   ],
   "source": [
    "#k = 15\n",
    "df['k15_uutime']=''\n",
    "k15_uutime = df['k15_uutime']\n",
    "df['k15_depth']=''\n",
    "k15_depth = df['k15_depth']\n",
    "df['k15_breadth']=''\n",
    "k15_breadth = df['k15_breadth']\n",
    "for i in range (0,126301):\n",
    "    k15_uutime[i] = find_uutime_for_k(i, 15)\n",
    "    k15_depth[i] = find_depth_for_k(i, 15)\n",
    "    k15_breadth[i] = max_lists(find_breadth_for_k(i, 15))"
   ]
  },
  {
   "cell_type": "code",
   "execution_count": 302,
   "metadata": {
    "collapsed": true
   },
   "outputs": [
    {
     "name": "stderr",
     "output_type": "stream",
     "text": [
      "D:\\python\\anaconda\\lib\\site-packages\\ipykernel_launcher.py:9: SettingWithCopyWarning: \n",
      "A value is trying to be set on a copy of a slice from a DataFrame\n",
      "\n",
      "See the caveats in the documentation: http://pandas.pydata.org/pandas-docs/stable/user_guide/indexing.html#returning-a-view-versus-a-copy\n",
      "  if __name__ == '__main__':\n",
      "D:\\python\\anaconda\\lib\\site-packages\\ipykernel_launcher.py:10: SettingWithCopyWarning: \n",
      "A value is trying to be set on a copy of a slice from a DataFrame\n",
      "\n",
      "See the caveats in the documentation: http://pandas.pydata.org/pandas-docs/stable/user_guide/indexing.html#returning-a-view-versus-a-copy\n",
      "  # Remove the CWD from sys.path while we load stuff.\n",
      "D:\\python\\anaconda\\lib\\site-packages\\ipykernel_launcher.py:11: SettingWithCopyWarning: \n",
      "A value is trying to be set on a copy of a slice from a DataFrame\n",
      "\n",
      "See the caveats in the documentation: http://pandas.pydata.org/pandas-docs/stable/user_guide/indexing.html#returning-a-view-versus-a-copy\n",
      "  # This is added back by InteractiveShellApp.init_path()\n"
     ]
    }
   ],
   "source": [
    "#k = 20\n",
    "df['k20_uutime']=''\n",
    "k20_uutime = df['k20_uutime']\n",
    "df['k20_depth']=''\n",
    "k20_depth = df['k20_depth']\n",
    "df['k20_breadth']=''\n",
    "k20_breadth = df['k20_breadth']\n",
    "for i in range (0,126301):\n",
    "    k20_uutime[i] = find_uutime_for_k(i, 20)\n",
    "    k20_depth[i] = find_depth_for_k(i, 20)\n",
    "    k20_breadth[i] = max_lists(find_breadth_for_k(i, 20))"
   ]
  },
  {
   "cell_type": "code",
   "execution_count": 303,
   "metadata": {
    "collapsed": true
   },
   "outputs": [
    {
     "name": "stderr",
     "output_type": "stream",
     "text": [
      "D:\\python\\anaconda\\lib\\site-packages\\ipykernel_launcher.py:9: SettingWithCopyWarning: \n",
      "A value is trying to be set on a copy of a slice from a DataFrame\n",
      "\n",
      "See the caveats in the documentation: http://pandas.pydata.org/pandas-docs/stable/user_guide/indexing.html#returning-a-view-versus-a-copy\n",
      "  if __name__ == '__main__':\n",
      "D:\\python\\anaconda\\lib\\site-packages\\ipykernel_launcher.py:10: SettingWithCopyWarning: \n",
      "A value is trying to be set on a copy of a slice from a DataFrame\n",
      "\n",
      "See the caveats in the documentation: http://pandas.pydata.org/pandas-docs/stable/user_guide/indexing.html#returning-a-view-versus-a-copy\n",
      "  # Remove the CWD from sys.path while we load stuff.\n",
      "D:\\python\\anaconda\\lib\\site-packages\\ipykernel_launcher.py:11: SettingWithCopyWarning: \n",
      "A value is trying to be set on a copy of a slice from a DataFrame\n",
      "\n",
      "See the caveats in the documentation: http://pandas.pydata.org/pandas-docs/stable/user_guide/indexing.html#returning-a-view-versus-a-copy\n",
      "  # This is added back by InteractiveShellApp.init_path()\n"
     ]
    }
   ],
   "source": [
    "#k = 25\n",
    "df['k25_uutime']=''\n",
    "k25_uutime = df['k25_uutime']\n",
    "df['k25_depth']=''\n",
    "k25_depth = df['k25_depth']\n",
    "df['k25_breadth']=''\n",
    "k25_breadth = df['k25_breadth']\n",
    "for i in range (0,126301):\n",
    "    k25_uutime[i] = find_uutime_for_k(i, 25)\n",
    "    k25_depth[i] = find_depth_for_k(i, 25)\n",
    "    k25_breadth[i] = max_lists(find_breadth_for_k(i, 25))"
   ]
  },
  {
   "cell_type": "code",
   "execution_count": 305,
   "metadata": {
    "collapsed": true
   },
   "outputs": [
    {
     "name": "stderr",
     "output_type": "stream",
     "text": [
      "D:\\python\\anaconda\\lib\\site-packages\\ipykernel_launcher.py:9: SettingWithCopyWarning: \n",
      "A value is trying to be set on a copy of a slice from a DataFrame\n",
      "\n",
      "See the caveats in the documentation: http://pandas.pydata.org/pandas-docs/stable/user_guide/indexing.html#returning-a-view-versus-a-copy\n",
      "  if __name__ == '__main__':\n",
      "D:\\python\\anaconda\\lib\\site-packages\\ipykernel_launcher.py:10: SettingWithCopyWarning: \n",
      "A value is trying to be set on a copy of a slice from a DataFrame\n",
      "\n",
      "See the caveats in the documentation: http://pandas.pydata.org/pandas-docs/stable/user_guide/indexing.html#returning-a-view-versus-a-copy\n",
      "  # Remove the CWD from sys.path while we load stuff.\n",
      "D:\\python\\anaconda\\lib\\site-packages\\ipykernel_launcher.py:11: SettingWithCopyWarning: \n",
      "A value is trying to be set on a copy of a slice from a DataFrame\n",
      "\n",
      "See the caveats in the documentation: http://pandas.pydata.org/pandas-docs/stable/user_guide/indexing.html#returning-a-view-versus-a-copy\n",
      "  # This is added back by InteractiveShellApp.init_path()\n"
     ]
    }
   ],
   "source": [
    "#k = 30\n",
    "df['k30_uutime']=''\n",
    "k30_uutime = df['k30_uutime']\n",
    "df['k30_depth']=''\n",
    "k30_depth = df['k30_depth']\n",
    "df['k30_breadth']=''\n",
    "k30_breadth = df['k30_breadth']\n",
    "for i in range (0,126301):\n",
    "    k30_uutime[i] = find_uutime_for_k(i, 30)\n",
    "    k30_depth[i] = find_depth_for_k(i, 30)\n",
    "    k30_breadth[i] = max_lists(find_breadth_for_k(i, 30))"
   ]
  },
  {
   "cell_type": "code",
   "execution_count": 306,
   "metadata": {
    "collapsed": true
   },
   "outputs": [
    {
     "name": "stderr",
     "output_type": "stream",
     "text": [
      "D:\\python\\anaconda\\lib\\site-packages\\ipykernel_launcher.py:9: SettingWithCopyWarning: \n",
      "A value is trying to be set on a copy of a slice from a DataFrame\n",
      "\n",
      "See the caveats in the documentation: http://pandas.pydata.org/pandas-docs/stable/user_guide/indexing.html#returning-a-view-versus-a-copy\n",
      "  if __name__ == '__main__':\n",
      "D:\\python\\anaconda\\lib\\site-packages\\ipykernel_launcher.py:10: SettingWithCopyWarning: \n",
      "A value is trying to be set on a copy of a slice from a DataFrame\n",
      "\n",
      "See the caveats in the documentation: http://pandas.pydata.org/pandas-docs/stable/user_guide/indexing.html#returning-a-view-versus-a-copy\n",
      "  # Remove the CWD from sys.path while we load stuff.\n",
      "D:\\python\\anaconda\\lib\\site-packages\\ipykernel_launcher.py:11: SettingWithCopyWarning: \n",
      "A value is trying to be set on a copy of a slice from a DataFrame\n",
      "\n",
      "See the caveats in the documentation: http://pandas.pydata.org/pandas-docs/stable/user_guide/indexing.html#returning-a-view-versus-a-copy\n",
      "  # This is added back by InteractiveShellApp.init_path()\n"
     ]
    }
   ],
   "source": [
    "#k = 35\n",
    "df['k35_uutime']=''\n",
    "k35_uutime = df['k35_uutime']\n",
    "df['k35_depth']=''\n",
    "k35_depth = df['k35_depth']\n",
    "df['k35_breadth']=''\n",
    "k35_breadth = df['k35_breadth']\n",
    "for i in range (0,126301):\n",
    "    k35_uutime[i] = find_uutime_for_k(i, 35)\n",
    "    k35_depth[i] = find_depth_for_k(i, 35)\n",
    "    k35_breadth[i] = max_lists(find_breadth_for_k(i, 35))"
   ]
  },
  {
   "cell_type": "code",
   "execution_count": 307,
   "metadata": {
    "collapsed": true
   },
   "outputs": [
    {
     "name": "stderr",
     "output_type": "stream",
     "text": [
      "D:\\python\\anaconda\\lib\\site-packages\\ipykernel_launcher.py:9: SettingWithCopyWarning: \n",
      "A value is trying to be set on a copy of a slice from a DataFrame\n",
      "\n",
      "See the caveats in the documentation: http://pandas.pydata.org/pandas-docs/stable/user_guide/indexing.html#returning-a-view-versus-a-copy\n",
      "  if __name__ == '__main__':\n",
      "D:\\python\\anaconda\\lib\\site-packages\\ipykernel_launcher.py:10: SettingWithCopyWarning: \n",
      "A value is trying to be set on a copy of a slice from a DataFrame\n",
      "\n",
      "See the caveats in the documentation: http://pandas.pydata.org/pandas-docs/stable/user_guide/indexing.html#returning-a-view-versus-a-copy\n",
      "  # Remove the CWD from sys.path while we load stuff.\n",
      "D:\\python\\anaconda\\lib\\site-packages\\ipykernel_launcher.py:11: SettingWithCopyWarning: \n",
      "A value is trying to be set on a copy of a slice from a DataFrame\n",
      "\n",
      "See the caveats in the documentation: http://pandas.pydata.org/pandas-docs/stable/user_guide/indexing.html#returning-a-view-versus-a-copy\n",
      "  # This is added back by InteractiveShellApp.init_path()\n"
     ]
    }
   ],
   "source": [
    "#k = 40\n",
    "df['k40_uutime']=''\n",
    "k40_uutime = df['k40_uutime']\n",
    "df['k40_depth']=''\n",
    "k40_depth = df['k40_depth']\n",
    "df['k40_breadth']=''\n",
    "k40_breadth = df['k40_breadth']\n",
    "for i in range (0,126301):\n",
    "    k40_uutime[i] = find_uutime_for_k(i, 40)\n",
    "    k40_depth[i] = find_depth_for_k(i, 40)\n",
    "    k40_breadth[i] = max_lists(find_breadth_for_k(i, 40))"
   ]
  },
  {
   "cell_type": "code",
   "execution_count": 308,
   "metadata": {
    "collapsed": true
   },
   "outputs": [
    {
     "name": "stderr",
     "output_type": "stream",
     "text": [
      "D:\\python\\anaconda\\lib\\site-packages\\ipykernel_launcher.py:9: SettingWithCopyWarning: \n",
      "A value is trying to be set on a copy of a slice from a DataFrame\n",
      "\n",
      "See the caveats in the documentation: http://pandas.pydata.org/pandas-docs/stable/user_guide/indexing.html#returning-a-view-versus-a-copy\n",
      "  if __name__ == '__main__':\n",
      "D:\\python\\anaconda\\lib\\site-packages\\ipykernel_launcher.py:10: SettingWithCopyWarning: \n",
      "A value is trying to be set on a copy of a slice from a DataFrame\n",
      "\n",
      "See the caveats in the documentation: http://pandas.pydata.org/pandas-docs/stable/user_guide/indexing.html#returning-a-view-versus-a-copy\n",
      "  # Remove the CWD from sys.path while we load stuff.\n",
      "D:\\python\\anaconda\\lib\\site-packages\\ipykernel_launcher.py:11: SettingWithCopyWarning: \n",
      "A value is trying to be set on a copy of a slice from a DataFrame\n",
      "\n",
      "See the caveats in the documentation: http://pandas.pydata.org/pandas-docs/stable/user_guide/indexing.html#returning-a-view-versus-a-copy\n",
      "  # This is added back by InteractiveShellApp.init_path()\n"
     ]
    }
   ],
   "source": [
    "#k = 45\n",
    "df['k45_uutime']=''\n",
    "k45_uutime = df['k45_uutime']\n",
    "df['k45_depth']=''\n",
    "k45_depth = df['k45_depth']\n",
    "df['k45_breadth']=''\n",
    "k45_breadth = df['k45_breadth']\n",
    "for i in range (0,126301):\n",
    "    k45_uutime[i] = find_uutime_for_k(i, 45)\n",
    "    k45_depth[i] = find_depth_for_k(i, 45)\n",
    "    k45_breadth[i] = max_lists(find_breadth_for_k(i, 45))"
   ]
  },
  {
   "cell_type": "code",
   "execution_count": 309,
   "metadata": {
    "collapsed": true
   },
   "outputs": [
    {
     "name": "stderr",
     "output_type": "stream",
     "text": [
      "D:\\python\\anaconda\\lib\\site-packages\\ipykernel_launcher.py:9: SettingWithCopyWarning: \n",
      "A value is trying to be set on a copy of a slice from a DataFrame\n",
      "\n",
      "See the caveats in the documentation: http://pandas.pydata.org/pandas-docs/stable/user_guide/indexing.html#returning-a-view-versus-a-copy\n",
      "  if __name__ == '__main__':\n",
      "D:\\python\\anaconda\\lib\\site-packages\\ipykernel_launcher.py:10: SettingWithCopyWarning: \n",
      "A value is trying to be set on a copy of a slice from a DataFrame\n",
      "\n",
      "See the caveats in the documentation: http://pandas.pydata.org/pandas-docs/stable/user_guide/indexing.html#returning-a-view-versus-a-copy\n",
      "  # Remove the CWD from sys.path while we load stuff.\n",
      "D:\\python\\anaconda\\lib\\site-packages\\ipykernel_launcher.py:11: SettingWithCopyWarning: \n",
      "A value is trying to be set on a copy of a slice from a DataFrame\n",
      "\n",
      "See the caveats in the documentation: http://pandas.pydata.org/pandas-docs/stable/user_guide/indexing.html#returning-a-view-versus-a-copy\n",
      "  # This is added back by InteractiveShellApp.init_path()\n"
     ]
    }
   ],
   "source": [
    "#k = 50\n",
    "df['k50_uutime']=''\n",
    "k50_uutime = df['k50_uutime']\n",
    "df['k50_depth']=''\n",
    "k50_depth = df['k50_depth']\n",
    "df['k50_breadth']=''\n",
    "k50_breadth = df['k50_breadth']\n",
    "for i in range (0,126301):\n",
    "    k50_uutime[i] = find_uutime_for_k(i, 50)\n",
    "    k50_depth[i] = find_depth_for_k(i, 50)\n",
    "    k50_breadth[i] = max_lists(find_breadth_for_k(i, 50))"
   ]
  },
  {
   "cell_type": "code",
   "execution_count": 310,
   "metadata": {},
   "outputs": [],
   "source": [
    "df.to_excel('metadata4.xlsx')#没问题"
   ]
  },
  {
   "cell_type": "code",
   "execution_count": 8,
   "metadata": {},
   "outputs": [
    {
     "data": {
      "text/plain": [
       "0.6023909511685339"
      ]
     },
     "execution_count": 8,
     "metadata": {},
     "output_type": "execute_result"
    }
   ],
   "source": [
    "#DTR test\n",
    "X = df_new[['k50_uutime', 'k50_depth', 'k50_breadth']]\n",
    "y = df_new['size']\n",
    "X1, X2, y1, y2 = train_test_split(X, y, random_state=0,\n",
    "                                  train_size=0.6, test_size = 0.4)\n",
    "\n",
    "model = tree.DecisionTreeRegressor(#criterion='entropy'\n",
    "                                  random_state=0\n",
    "                                 #,splitter = 'random'\n",
    "                                  #,max_depth = 8\n",
    "                                  #,min_samples_leaf = 0.05\n",
    "                                  #,min_samples_split = 0.05\n",
    "                                  #,max_features = 10\n",
    "                                  )\n",
    "model.fit(X1, y1)\n",
    "\n",
    "y_pred = model.predict(X2)\n",
    "\n",
    "r2_score(y2, y_pred)"
   ]
  },
  {
   "cell_type": "code",
   "execution_count": 25,
   "metadata": {},
   "outputs": [
    {
     "data": {
      "text/plain": [
       "0.8849526973217912"
      ]
     },
     "execution_count": 25,
     "metadata": {},
     "output_type": "execute_result"
    }
   ],
   "source": [
    "#RFR test\n",
    "X = df_new[['k50_uutime', 'k50_depth', 'k50_breadth']]\n",
    "y = df_new['size']\n",
    "X1, X2, y1, y2 = train_test_split(X, y, random_state=0,\n",
    "                                  train_size=0.6, test_size = 0.4)\n",
    "model =RandomForestRegressor(n_estimators=35,random_state=0)\n",
    "model.fit(X1, y1)\n",
    "y_pred = model.predict(X2)\n",
    "a=r2_score(y2, y_pred)\n",
    "a"
   ]
  },
  {
   "cell_type": "code",
   "execution_count": 26,
   "metadata": {},
   "outputs": [
    {
     "data": {
      "text/plain": [
       "numpy.float64"
      ]
     },
     "execution_count": 26,
     "metadata": {},
     "output_type": "execute_result"
    }
   ],
   "source": [
    "type(a)"
   ]
  },
  {
   "cell_type": "code",
   "execution_count": 314,
   "metadata": {},
   "outputs": [],
   "source": [
    "k_score=[]"
   ]
  },
  {
   "cell_type": "code",
   "execution_count": 324,
   "metadata": {},
   "outputs": [
    {
     "data": {
      "text/plain": [
       "[0.8894724340872503,\n",
       " 0.9046475416325777,\n",
       " 0.9048850650550263,\n",
       " 0.907365865245045,\n",
       " 0.9081048270037739,\n",
       " 0.9101369718402786,\n",
       " 0.9099522314005964,\n",
       " 0.9072075162967459,\n",
       " 0.9090021377108021,\n",
       " 0.9095827505212319]"
      ]
     },
     "execution_count": 324,
     "metadata": {},
     "output_type": "execute_result"
    }
   ],
   "source": [
    "X = df[['k50_uutime', 'k50_depth', 'k50_breadth']]\n",
    "y = df['size']\n",
    "Xtrain, Xtest, Ytrain, Ytest = train_test_split(X,y,test_size=0.3)\n",
    "clf = tree.DecisionTreeClassifier(criterion='entropy'\n",
    "                                  ,random_state=0\n",
    "                                 #,splitter = 'random'\n",
    "                                  #,max_depth = 8\n",
    "                                  #,min_samples_leaf = 0.05\n",
    "                                  #,min_samples_split = 0.05\n",
    "                                  #,max_features = 10\n",
    "                                  )\n",
    "clf = clf.fit(Xtrain,Ytrain)\n",
    "score = clf.score(Xtest,Ytest)\n",
    "k_score.append(score)\n",
    "k_score"
   ]
  },
  {
   "cell_type": "code",
   "execution_count": 330,
   "metadata": {
    "collapsed": true
   },
   "outputs": [
    {
     "data": {
      "image/png": "[encoded data removed]",
      "text/plain": [
       "<Figure size 432x288 with 1 Axes>"
      ]
     },
     "metadata": {
      "needs_background": "light"
     },
     "output_type": "display_data"
    }
   ],
   "source": [
    "plt.figure()\n",
    "plt.plot([5,10,15,20,25,30,35,40,45,50],k_score)\n",
    "plt.plot([5,10,15,20,25,30,35,40,45,50],)\n",
    "ax1 = plt.gca()\n",
    "ax1.set_title('窥视前k个用户（决策树）')\n",
    "plt.show()"
   ]
  },
  {
   "cell_type": "code",
   "execution_count": 25,
   "metadata": {},
   "outputs": [
    {
     "data": {
      "text/plain": [
       "0.8988678448970197"
      ]
     },
     "execution_count": 25,
     "metadata": {},
     "output_type": "execute_result"
    }
   ],
   "source": [
    "X = df_new[['k5_uutime', 'k5_depth', 'k5_breadth']]\n",
    "y = df_new['size']\n",
    "X1, X2, y1, y2 = train_test_split(X, y, random_state=0,\n",
    "                                  train_size=0.6, test_size = 0.4)\n",
    "model = RandomForestRegressor(n_estimators=35,random_state=0)\n",
    "model.fit(X1, y1)\n",
    "y_pred = model.predict(X2)\n",
    "a = r2_score(y2, y_pred)\n",
    "a"
   ]
  },
  {
   "cell_type": "code",
   "execution_count": 27,
   "metadata": {},
   "outputs": [
    {
     "data": {
      "image/png": "[encoded data removed]",
      "text/plain": [
       "<Figure size 288x288 with 1 Axes>"
      ]
     },
     "metadata": {
      "needs_background": "light"
     },
     "output_type": "display_data"
    },
    {
     "data": {
      "text/plain": [
       "[('k5_uutime', 0.06968973898830416),\n",
       " ('k5_depth', 0.017772208182485788),\n",
       " ('k5_breadth', 0.9125380528292101)]"
      ]
     },
     "execution_count": 27,
     "metadata": {},
     "output_type": "execute_result"
    }
   ],
   "source": [
    "rfi = [*zip(X,model.feature_importances_)]\n",
    "k_uutime = rfi[0][1]\n",
    "k_depth = rfi[1][1]\n",
    "k_breadth = rfi[2][1]\n",
    "y = [k_uutime,k_depth,k_breadth]\n",
    "x = [1,2,3]\n",
    "fig = plt.figure(figsize=(4,4))\n",
    "plt.barh(x,y,align=\"center\",tick_label=[\"Time\",'Depth','Breadth'],alpha=0.7,height=0.5)\n",
    "plt.xlabel(\"重要性\")\n",
    "axes = plt.gca()\n",
    "#axes.set_xlim([0,1])\n",
    "plt.tight_layout()\n",
    "#plt.savefig(\"窥视t小时各特征重要性（随机森林）.png\",dpi=300)\n",
    "plt.show()\n",
    "rfi"
   ]
  },
  {
   "cell_type": "code",
   "execution_count": 20,
   "metadata": {},
   "outputs": [],
   "source": [
    "pd.set_option('display.max_rows', None) # 展示所有行\n",
    "pd.set_option('display.max_columns', None) # 展示所有列"
   ]
  },
  {
   "cell_type": "code",
   "execution_count": 7,
   "metadata": {},
   "outputs": [
    {
     "data": {
      "text/html": [
       "<div>\n",
       "<style scoped>\n",
       "    .dataframe tbody tr th:only-of-type {\n",
       "        vertical-align: middle;\n",
       "    }\n",
       "\n",
       "    .dataframe tbody tr th {\n",
       "        vertical-align: top;\n",
       "    }\n",
       "\n",
       "    .dataframe thead th {\n",
       "        text-align: right;\n",
       "    }\n",
       "</style>\n",
       "<table border=\"1\" class=\"dataframe\">\n",
       "  <thead>\n",
       "    <tr style=\"text-align: right;\">\n",
       "      <th></th>\n",
       "      <th>0</th>\n",
       "    </tr>\n",
       "  </thead>\n",
       "  <tbody>\n",
       "    <tr>\n",
       "      <td>0</td>\n",
       "      <td>Unnamed: 0</td>\n",
       "    </tr>\n",
       "    <tr>\n",
       "      <td>1</td>\n",
       "      <td>Unnamed: 0.1</td>\n",
       "    </tr>\n",
       "    <tr>\n",
       "      <td>2</td>\n",
       "      <td>raw_id</td>\n",
       "    </tr>\n",
       "    <tr>\n",
       "      <td>3</td>\n",
       "      <td>tid</td>\n",
       "    </tr>\n",
       "    <tr>\n",
       "      <td>4</td>\n",
       "      <td>rumor_id</td>\n",
       "    </tr>\n",
       "    <tr>\n",
       "      <td>...</td>\n",
       "      <td>...</td>\n",
       "    </tr>\n",
       "    <tr>\n",
       "      <td>146</td>\n",
       "      <td>t1380_depth</td>\n",
       "    </tr>\n",
       "    <tr>\n",
       "      <td>147</td>\n",
       "      <td>t1380_breadth</td>\n",
       "    </tr>\n",
       "    <tr>\n",
       "      <td>148</td>\n",
       "      <td>t1440_uu</td>\n",
       "    </tr>\n",
       "    <tr>\n",
       "      <td>149</td>\n",
       "      <td>t1440_depth</td>\n",
       "    </tr>\n",
       "    <tr>\n",
       "      <td>150</td>\n",
       "      <td>t1440_breadth</td>\n",
       "    </tr>\n",
       "  </tbody>\n",
       "</table>\n",
       "<p>151 rows × 1 columns</p>\n",
       "</div>"
      ],
      "text/plain": [
       "                 0\n",
       "0       Unnamed: 0\n",
       "1     Unnamed: 0.1\n",
       "2           raw_id\n",
       "3              tid\n",
       "4         rumor_id\n",
       "..             ...\n",
       "146    t1380_depth\n",
       "147  t1380_breadth\n",
       "148       t1440_uu\n",
       "149    t1440_depth\n",
       "150  t1440_breadth\n",
       "\n",
       "[151 rows x 1 columns]"
      ]
     },
     "execution_count": 7,
     "metadata": {},
     "output_type": "execute_result"
    }
   ],
   "source": [
    "columns_list = df_new.columns.tolist()\n",
    "df_index = pd.DataFrame(columns_list)\n",
    "df_index"
   ]
  },
  {
   "cell_type": "code",
   "execution_count": 23,
   "metadata": {},
   "outputs": [
    {
     "data": {
      "text/plain": [
       "'k5_uutime'"
      ]
     },
     "execution_count": 23,
     "metadata": {},
     "output_type": "execute_result"
    }
   ],
   "source": [
    "columns_list[49]"
   ]
  },
  {
   "cell_type": "code",
   "execution_count": 153,
   "metadata": {},
   "outputs": [
    {
     "data": {
      "text/plain": [
       "[0.6022440301246412,\n",
       " 0.9147041981475398,\n",
       " 0.6372027875677864,\n",
       " 0.6284937569600089,\n",
       " 0.6387611891072779,\n",
       " 0.6139170717179834,\n",
       " 0.6165924026005534,\n",
       " 0.6445940981891687,\n",
       " 0.5990850101537144,\n",
       " 0.6023909511685339]"
      ]
     },
     "execution_count": 153,
     "metadata": {},
     "output_type": "execute_result"
    }
   ],
   "source": [
    "#决策树回归器，窥视前k个用户\n",
    "i = 49#49-78\n",
    "kscore_d=[]\n",
    "while i <= 76:\n",
    "    X = df_new[[columns_list[i], columns_list[i+1], columns_list[i+2]]]\n",
    "    y = df_new['size']\n",
    "    X1, X2, y1, y2 = train_test_split(X, y, random_state=0,\n",
    "                                  train_size=0.6, test_size = 0.4)\n",
    "    model = tree.DecisionTreeRegressor(random_state=0)\n",
    "    model.fit(X1, y1)\n",
    "    y_pred = model.predict(X2)\n",
    "    a = r2_score(y2, y_pred)\n",
    "    kscore_d.append(a)\n",
    "    i += 3\n",
    "kscore_d"
   ]
  },
  {
   "cell_type": "code",
   "execution_count": 10,
   "metadata": {},
   "outputs": [
    {
     "data": {
      "image/png": "[encoded data removed]",
      "text/plain": [
       "<Figure size 288x288 with 1 Axes>"
      ]
     },
     "metadata": {
      "needs_background": "light"
     },
     "output_type": "display_data"
    },
    {
     "name": "stdout",
     "output_type": "stream",
     "text": [
      "[0.01605794329313752, 0.0717625051218469, 0.9121795515850156]\n"
     ]
    }
   ],
   "source": [
    "dfi = [*zip(X,model.feature_importances_)]\n",
    "k_uutime = dfi[0][1]\n",
    "k_depth = dfi[1][1]\n",
    "k_breadth = dfi[2][1]\n",
    "y = [k_uutime,k_depth,k_breadth]\n",
    "x = [1,2,3]\n",
    "fig = plt.figure(figsize=(4,4))\n",
    "plt.barh(x,y,align=\"center\",tick_label=[\"Spread time\",'Depth','Breadth'],alpha=0.7,height=0.5)\n",
    "plt.xlabel(\"重要性\")\n",
    "axes = plt.gca()\n",
    "#axes.set_xlim([0,1])\n",
    "plt.tight_layout()\n",
    "plt.savefig(\"窥视k个用户时各特征重要性（决策树）.png\",dpi=300)\n",
    "plt.show()\n",
    "print(y)"
   ]
  },
  {
   "cell_type": "code",
   "execution_count": 152,
   "metadata": {},
   "outputs": [
    {
     "data": {
      "text/plain": [
       "[0.8988678448970197,\n",
       " 0.8964184701926496,\n",
       " 0.892673846482762,\n",
       " 0.9019142234425235,\n",
       " 0.9071805879600985,\n",
       " 0.8993735025438025,\n",
       " 0.8959467010505618,\n",
       " 0.89382101118476,\n",
       " 0.8880952242484889,\n",
       " 0.8849526973217912]"
      ]
     },
     "execution_count": 152,
     "metadata": {},
     "output_type": "execute_result"
    }
   ],
   "source": [
    "#随机森林回归器，窥视前k个用户\n",
    "i = 49#49-78\n",
    "kscore_r=[]\n",
    "while i <= 76:\n",
    "    X = df_new[[columns_list[i], columns_list[i+1], columns_list[i+2]]]\n",
    "    y = df_new['size']\n",
    "    X1, X2, y1, y2 = train_test_split(X, y, random_state=0,\n",
    "                                  train_size=0.6, test_size = 0.4)\n",
    "    model = RandomForestRegressor(n_estimators=35,random_state=0)\n",
    "    model.fit(X1, y1)\n",
    "    y_pred = model.predict(X2)\n",
    "    a = r2_score(y2, y_pred)\n",
    "    kscore_r.append(a)\n",
    "    i += 3\n",
    "kscore_r"
   ]
  },
  {
   "cell_type": "code",
   "execution_count": 12,
   "metadata": {},
   "outputs": [
    {
     "data": {
      "image/png": "[encoded data removed]",
      "text/plain": [
       "<Figure size 288x288 with 1 Axes>"
      ]
     },
     "metadata": {
      "needs_background": "light"
     },
     "output_type": "display_data"
    },
    {
     "name": "stdout",
     "output_type": "stream",
     "text": [
      "[0.03920018693090047, 0.04379138793185149, 0.917008425137248]\n"
     ]
    }
   ],
   "source": [
    "rfi = [*zip(X,model.feature_importances_)]\n",
    "k_uutime = rfi[0][1]\n",
    "k_depth = rfi[1][1]\n",
    "k_breadth = rfi[2][1]\n",
    "y = [k_uutime,k_depth,k_breadth]\n",
    "x = [1,2,3]\n",
    "fig = plt.figure(figsize=(4,4))\n",
    "plt.barh(x,y,align=\"center\",tick_label=[\"Spread time\",'Depth','Breadth'],alpha=0.7,height=0.5)\n",
    "plt.xlabel(\"重要性\")\n",
    "axes = plt.gca()\n",
    "#axes.set_xlim([0,1])\n",
    "plt.tight_layout()\n",
    "plt.savefig(\"窥视k个用户时各特征重要性（随机森林）.png\",dpi=300)\n",
    "plt.show()\n",
    "print(y)"
   ]
  },
  {
   "cell_type": "code",
   "execution_count": 151,
   "metadata": {},
   "outputs": [
    {
     "data": {
      "text/plain": [
       "[0.8844907831263792,\n",
       " 0.8851532594524475,\n",
       " 0.8854227281842801,\n",
       " 0.8853324274091565,\n",
       " 0.8854566923081499,\n",
       " 0.8854067204831569,\n",
       " 0.8854941695428227,\n",
       " 0.8856409571596711,\n",
       " 0.8856888758113445,\n",
       " 0.885766130726882]"
      ]
     },
     "execution_count": 151,
     "metadata": {},
     "output_type": "execute_result"
    }
   ],
   "source": [
    "#逻辑回归，前k个用户\n",
    "i = 49#49-78\n",
    "kscore_l=[]\n",
    "while i <= 76:\n",
    "    X = df_new[[columns_list[i], columns_list[i+1], columns_list[i+2]]]\n",
    "    y = df_new['size']\n",
    "    X1, X2, y1, y2 = train_test_split(X, y, random_state=0,train_size=0.7, test_size = 0.3)\n",
    "    model = LinearRegression(fit_intercept=True)\n",
    "    model.fit(X1, y1)\n",
    "    y_pred = model.predict(X2)\n",
    "    score = r2_score(y2, y_pred)\n",
    "    kscore_l.append(score)\n",
    "    i += 3\n",
    "kscore_l"
   ]
  },
  {
   "cell_type": "code",
   "execution_count": 50,
   "metadata": {},
   "outputs": [
    {
     "data": {
      "image/png": "[encoded data removed]",
      "text/plain": [
       "<Figure size 432x288 with 1 Axes>"
      ]
     },
     "metadata": {
      "needs_background": "light"
     },
     "output_type": "display_data"
    }
   ],
   "source": [
    "plt.figure()\n",
    "plt.plot([5,10,15,20,25,30,35,40,45,50],kscore_d)\n",
    "plt.plot([5,10,15,20,25,30,35,40,45,50],kscore_r)\n",
    "plt.plot([5,10,15,20,25,30,35,40,45,50],kscore_l)\n",
    "plt.legend(['DecisionTree','RandomForest','LinearRegression'])\n",
    "ax1 = plt.gca()\n",
    "ax1.set_title('窥视前k个用户')\n",
    "plt.xlabel(\"窥视用户数\")\n",
    "plt.tight_layout()\n",
    "plt.savefig(\"窥视前k个用户.png\",dpi=300)\n",
    "plt.show()"
   ]
  },
  {
   "cell_type": "code",
   "execution_count": null,
   "metadata": {},
   "outputs": [],
   "source": [
    "##前t分钟"
   ]
  },
  {
   "cell_type": "code",
   "execution_count": 361,
   "metadata": {},
   "outputs": [
    {
     "data": {
      "text/plain": [
       "0"
      ]
     },
     "execution_count": 361,
     "metadata": {},
     "output_type": "execute_result"
    }
   ],
   "source": [
    "#find depth in specific t\n",
    "def find_depth_t(ind,t):\n",
    "    try:\n",
    "        depthtime = clean_data(df['depth2time'][ind])\n",
    "        depth_t = [[i,j,j-t] for i,j in depthtime if j-t <=0][-1][0]\n",
    "        return depth_t\n",
    "    except Exception as e:\n",
    "        return 0\n",
    "find_depth_t(0,999)"
   ]
  },
  {
   "cell_type": "code",
   "execution_count": 367,
   "metadata": {},
   "outputs": [
    {
     "data": {
      "text/plain": [
       "1"
      ]
     },
     "execution_count": 367,
     "metadata": {},
     "output_type": "execute_result"
    }
   ],
   "source": [
    "#find uu in specific t\n",
    "def find_uu_t(ind,t):\n",
    "    uutime = clean_data(df['uutime'][ind])\n",
    "    uu_t = [[i,j,j-t] for i,j in uutime if j-t <=0][-1][0]\n",
    "    return uu_t\n",
    "find_uu_t(10,1111111110)"
   ]
  },
  {
   "cell_type": "code",
   "execution_count": 372,
   "metadata": {},
   "outputs": [
    {
     "data": {
      "text/plain": [
       "1"
      ]
     },
     "execution_count": 372,
     "metadata": {},
     "output_type": "execute_result"
    }
   ],
   "source": [
    "#find max breadth in specific t\n",
    "def find_breadth_for_t(ind, t):\n",
    "    try:\n",
    "        depthtime = clean_data(df['depth2time'][ind])\n",
    "        depth_t = [[i,j,j-t] for i,j in depthtime if j-t <=0][-1][0]\n",
    "        d2b_time_2 = clean_data(df['depth2breadth'][ind])[:depth_t]\n",
    "        return d2b_time_2\n",
    "    except Exception as e:\n",
    "        return [[int(df['max_breadth'][ind])],[0]]\n",
    "#在这里面找出最大值\n",
    "def max_lists(*lst):\n",
    "    return max(max(*lst, key=lambda v: max(v)))\n",
    "breadth_t = max_lists(find_breadth_for_t(0, 213573))\n",
    "breadth_t"
   ]
  },
  {
   "cell_type": "code",
   "execution_count": 387,
   "metadata": {
    "collapsed": true
   },
   "outputs": [
    {
     "name": "stderr",
     "output_type": "stream",
     "text": [
      "D:\\python\\anaconda\\lib\\site-packages\\ipykernel_launcher.py:8: SettingWithCopyWarning: \n",
      "A value is trying to be set on a copy of a slice from a DataFrame\n",
      "\n",
      "See the caveats in the documentation: http://pandas.pydata.org/pandas-docs/stable/user_guide/indexing.html#returning-a-view-versus-a-copy\n",
      "  \n",
      "D:\\python\\anaconda\\lib\\site-packages\\ipykernel_launcher.py:9: SettingWithCopyWarning: \n",
      "A value is trying to be set on a copy of a slice from a DataFrame\n",
      "\n",
      "See the caveats in the documentation: http://pandas.pydata.org/pandas-docs/stable/user_guide/indexing.html#returning-a-view-versus-a-copy\n",
      "  if __name__ == '__main__':\n",
      "D:\\python\\anaconda\\lib\\site-packages\\ipykernel_launcher.py:10: SettingWithCopyWarning: \n",
      "A value is trying to be set on a copy of a slice from a DataFrame\n",
      "\n",
      "See the caveats in the documentation: http://pandas.pydata.org/pandas-docs/stable/user_guide/indexing.html#returning-a-view-versus-a-copy\n",
      "  # Remove the CWD from sys.path while we load stuff.\n",
      "D:\\python\\anaconda\\lib\\site-packages\\ipykernel_launcher.py:19: SettingWithCopyWarning: \n",
      "A value is trying to be set on a copy of a slice from a DataFrame\n",
      "\n",
      "See the caveats in the documentation: http://pandas.pydata.org/pandas-docs/stable/user_guide/indexing.html#returning-a-view-versus-a-copy\n",
      "D:\\python\\anaconda\\lib\\site-packages\\ipykernel_launcher.py:20: SettingWithCopyWarning: \n",
      "A value is trying to be set on a copy of a slice from a DataFrame\n",
      "\n",
      "See the caveats in the documentation: http://pandas.pydata.org/pandas-docs/stable/user_guide/indexing.html#returning-a-view-versus-a-copy\n",
      "D:\\python\\anaconda\\lib\\site-packages\\ipykernel_launcher.py:21: SettingWithCopyWarning: \n",
      "A value is trying to be set on a copy of a slice from a DataFrame\n",
      "\n",
      "See the caveats in the documentation: http://pandas.pydata.org/pandas-docs/stable/user_guide/indexing.html#returning-a-view-versus-a-copy\n",
      "D:\\python\\anaconda\\lib\\site-packages\\ipykernel_launcher.py:30: SettingWithCopyWarning: \n",
      "A value is trying to be set on a copy of a slice from a DataFrame\n",
      "\n",
      "See the caveats in the documentation: http://pandas.pydata.org/pandas-docs/stable/user_guide/indexing.html#returning-a-view-versus-a-copy\n",
      "D:\\python\\anaconda\\lib\\site-packages\\ipykernel_launcher.py:31: SettingWithCopyWarning: \n",
      "A value is trying to be set on a copy of a slice from a DataFrame\n",
      "\n",
      "See the caveats in the documentation: http://pandas.pydata.org/pandas-docs/stable/user_guide/indexing.html#returning-a-view-versus-a-copy\n",
      "D:\\python\\anaconda\\lib\\site-packages\\ipykernel_launcher.py:32: SettingWithCopyWarning: \n",
      "A value is trying to be set on a copy of a slice from a DataFrame\n",
      "\n",
      "See the caveats in the documentation: http://pandas.pydata.org/pandas-docs/stable/user_guide/indexing.html#returning-a-view-versus-a-copy\n",
      "D:\\python\\anaconda\\lib\\site-packages\\ipykernel_launcher.py:41: SettingWithCopyWarning: \n",
      "A value is trying to be set on a copy of a slice from a DataFrame\n",
      "\n",
      "See the caveats in the documentation: http://pandas.pydata.org/pandas-docs/stable/user_guide/indexing.html#returning-a-view-versus-a-copy\n",
      "D:\\python\\anaconda\\lib\\site-packages\\ipykernel_launcher.py:42: SettingWithCopyWarning: \n",
      "A value is trying to be set on a copy of a slice from a DataFrame\n",
      "\n",
      "See the caveats in the documentation: http://pandas.pydata.org/pandas-docs/stable/user_guide/indexing.html#returning-a-view-versus-a-copy\n",
      "D:\\python\\anaconda\\lib\\site-packages\\ipykernel_launcher.py:43: SettingWithCopyWarning: \n",
      "A value is trying to be set on a copy of a slice from a DataFrame\n",
      "\n",
      "See the caveats in the documentation: http://pandas.pydata.org/pandas-docs/stable/user_guide/indexing.html#returning-a-view-versus-a-copy\n",
      "D:\\python\\anaconda\\lib\\site-packages\\ipykernel_launcher.py:52: SettingWithCopyWarning: \n",
      "A value is trying to be set on a copy of a slice from a DataFrame\n",
      "\n",
      "See the caveats in the documentation: http://pandas.pydata.org/pandas-docs/stable/user_guide/indexing.html#returning-a-view-versus-a-copy\n",
      "D:\\python\\anaconda\\lib\\site-packages\\ipykernel_launcher.py:53: SettingWithCopyWarning: \n",
      "A value is trying to be set on a copy of a slice from a DataFrame\n",
      "\n",
      "See the caveats in the documentation: http://pandas.pydata.org/pandas-docs/stable/user_guide/indexing.html#returning-a-view-versus-a-copy\n",
      "D:\\python\\anaconda\\lib\\site-packages\\ipykernel_launcher.py:54: SettingWithCopyWarning: \n",
      "A value is trying to be set on a copy of a slice from a DataFrame\n",
      "\n",
      "See the caveats in the documentation: http://pandas.pydata.org/pandas-docs/stable/user_guide/indexing.html#returning-a-view-versus-a-copy\n",
      "D:\\python\\anaconda\\lib\\site-packages\\ipykernel_launcher.py:63: SettingWithCopyWarning: \n",
      "A value is trying to be set on a copy of a slice from a DataFrame\n",
      "\n",
      "See the caveats in the documentation: http://pandas.pydata.org/pandas-docs/stable/user_guide/indexing.html#returning-a-view-versus-a-copy\n",
      "D:\\python\\anaconda\\lib\\site-packages\\ipykernel_launcher.py:64: SettingWithCopyWarning: \n",
      "A value is trying to be set on a copy of a slice from a DataFrame\n",
      "\n",
      "See the caveats in the documentation: http://pandas.pydata.org/pandas-docs/stable/user_guide/indexing.html#returning-a-view-versus-a-copy\n",
      "D:\\python\\anaconda\\lib\\site-packages\\ipykernel_launcher.py:65: SettingWithCopyWarning: \n",
      "A value is trying to be set on a copy of a slice from a DataFrame\n",
      "\n",
      "See the caveats in the documentation: http://pandas.pydata.org/pandas-docs/stable/user_guide/indexing.html#returning-a-view-versus-a-copy\n",
      "D:\\python\\anaconda\\lib\\site-packages\\ipykernel_launcher.py:74: SettingWithCopyWarning: \n",
      "A value is trying to be set on a copy of a slice from a DataFrame\n",
      "\n",
      "See the caveats in the documentation: http://pandas.pydata.org/pandas-docs/stable/user_guide/indexing.html#returning-a-view-versus-a-copy\n",
      "D:\\python\\anaconda\\lib\\site-packages\\ipykernel_launcher.py:75: SettingWithCopyWarning: \n",
      "A value is trying to be set on a copy of a slice from a DataFrame\n",
      "\n",
      "See the caveats in the documentation: http://pandas.pydata.org/pandas-docs/stable/user_guide/indexing.html#returning-a-view-versus-a-copy\n",
      "D:\\python\\anaconda\\lib\\site-packages\\ipykernel_launcher.py:76: SettingWithCopyWarning: \n",
      "A value is trying to be set on a copy of a slice from a DataFrame\n",
      "\n",
      "See the caveats in the documentation: http://pandas.pydata.org/pandas-docs/stable/user_guide/indexing.html#returning-a-view-versus-a-copy\n",
      "D:\\python\\anaconda\\lib\\site-packages\\ipykernel_launcher.py:85: SettingWithCopyWarning: \n",
      "A value is trying to be set on a copy of a slice from a DataFrame\n",
      "\n",
      "See the caveats in the documentation: http://pandas.pydata.org/pandas-docs/stable/user_guide/indexing.html#returning-a-view-versus-a-copy\n",
      "D:\\python\\anaconda\\lib\\site-packages\\ipykernel_launcher.py:86: SettingWithCopyWarning: \n",
      "A value is trying to be set on a copy of a slice from a DataFrame\n",
      "\n",
      "See the caveats in the documentation: http://pandas.pydata.org/pandas-docs/stable/user_guide/indexing.html#returning-a-view-versus-a-copy\n",
      "D:\\python\\anaconda\\lib\\site-packages\\ipykernel_launcher.py:87: SettingWithCopyWarning: \n",
      "A value is trying to be set on a copy of a slice from a DataFrame\n",
      "\n",
      "See the caveats in the documentation: http://pandas.pydata.org/pandas-docs/stable/user_guide/indexing.html#returning-a-view-versus-a-copy\n",
      "D:\\python\\anaconda\\lib\\site-packages\\ipykernel_launcher.py:96: SettingWithCopyWarning: \n",
      "A value is trying to be set on a copy of a slice from a DataFrame\n",
      "\n",
      "See the caveats in the documentation: http://pandas.pydata.org/pandas-docs/stable/user_guide/indexing.html#returning-a-view-versus-a-copy\n",
      "D:\\python\\anaconda\\lib\\site-packages\\ipykernel_launcher.py:97: SettingWithCopyWarning: \n",
      "A value is trying to be set on a copy of a slice from a DataFrame\n",
      "\n",
      "See the caveats in the documentation: http://pandas.pydata.org/pandas-docs/stable/user_guide/indexing.html#returning-a-view-versus-a-copy\n",
      "D:\\python\\anaconda\\lib\\site-packages\\ipykernel_launcher.py:98: SettingWithCopyWarning: \n",
      "A value is trying to be set on a copy of a slice from a DataFrame\n",
      "\n",
      "See the caveats in the documentation: http://pandas.pydata.org/pandas-docs/stable/user_guide/indexing.html#returning-a-view-versus-a-copy\n",
      "D:\\python\\anaconda\\lib\\site-packages\\ipykernel_launcher.py:107: SettingWithCopyWarning: \n",
      "A value is trying to be set on a copy of a slice from a DataFrame\n",
      "\n",
      "See the caveats in the documentation: http://pandas.pydata.org/pandas-docs/stable/user_guide/indexing.html#returning-a-view-versus-a-copy\n",
      "D:\\python\\anaconda\\lib\\site-packages\\ipykernel_launcher.py:108: SettingWithCopyWarning: \n",
      "A value is trying to be set on a copy of a slice from a DataFrame\n",
      "\n",
      "See the caveats in the documentation: http://pandas.pydata.org/pandas-docs/stable/user_guide/indexing.html#returning-a-view-versus-a-copy\n",
      "D:\\python\\anaconda\\lib\\site-packages\\ipykernel_launcher.py:109: SettingWithCopyWarning: \n",
      "A value is trying to be set on a copy of a slice from a DataFrame\n",
      "\n",
      "See the caveats in the documentation: http://pandas.pydata.org/pandas-docs/stable/user_guide/indexing.html#returning-a-view-versus-a-copy\n"
     ]
    },
    {
     "name": "stderr",
     "output_type": "stream",
     "text": [
      "D:\\python\\anaconda\\lib\\site-packages\\ipykernel_launcher.py:118: SettingWithCopyWarning: \n",
      "A value is trying to be set on a copy of a slice from a DataFrame\n",
      "\n",
      "See the caveats in the documentation: http://pandas.pydata.org/pandas-docs/stable/user_guide/indexing.html#returning-a-view-versus-a-copy\n",
      "D:\\python\\anaconda\\lib\\site-packages\\ipykernel_launcher.py:119: SettingWithCopyWarning: \n",
      "A value is trying to be set on a copy of a slice from a DataFrame\n",
      "\n",
      "See the caveats in the documentation: http://pandas.pydata.org/pandas-docs/stable/user_guide/indexing.html#returning-a-view-versus-a-copy\n",
      "D:\\python\\anaconda\\lib\\site-packages\\ipykernel_launcher.py:120: SettingWithCopyWarning: \n",
      "A value is trying to be set on a copy of a slice from a DataFrame\n",
      "\n",
      "See the caveats in the documentation: http://pandas.pydata.org/pandas-docs/stable/user_guide/indexing.html#returning-a-view-versus-a-copy\n",
      "D:\\python\\anaconda\\lib\\site-packages\\ipykernel_launcher.py:129: SettingWithCopyWarning: \n",
      "A value is trying to be set on a copy of a slice from a DataFrame\n",
      "\n",
      "See the caveats in the documentation: http://pandas.pydata.org/pandas-docs/stable/user_guide/indexing.html#returning-a-view-versus-a-copy\n",
      "D:\\python\\anaconda\\lib\\site-packages\\ipykernel_launcher.py:130: SettingWithCopyWarning: \n",
      "A value is trying to be set on a copy of a slice from a DataFrame\n",
      "\n",
      "See the caveats in the documentation: http://pandas.pydata.org/pandas-docs/stable/user_guide/indexing.html#returning-a-view-versus-a-copy\n",
      "D:\\python\\anaconda\\lib\\site-packages\\ipykernel_launcher.py:131: SettingWithCopyWarning: \n",
      "A value is trying to be set on a copy of a slice from a DataFrame\n",
      "\n",
      "See the caveats in the documentation: http://pandas.pydata.org/pandas-docs/stable/user_guide/indexing.html#returning-a-view-versus-a-copy\n"
     ]
    }
   ],
   "source": [
    "#t = 60\n",
    "df['t60_uu']=''\n",
    "t60_uu = df['t60_uu']\n",
    "df['t60_depth']=''\n",
    "t60_depth = df['t60_depth']\n",
    "df['t60_breadth']=''\n",
    "t60_breadth = df['t60_breadth']\n",
    "for i in range (0,126301):\n",
    "    t60_uu[i] = find_uu_t(i, 60)\n",
    "    t60_depth[i] = find_depth_t(i, 60)\n",
    "    t60_breadth[i] = max_lists(find_breadth_for_t(i, 60))\n",
    "\n",
    "df['t120_uu']=''\n",
    "t120_uu = df['t120_uu']\n",
    "df['t120_depth']=''\n",
    "t120_depth = df['t120_depth']\n",
    "df['t120_breadth']=''\n",
    "t120_breadth = df['t120_breadth']\n",
    "for i in range (0,126301):\n",
    "    t120_uu[i] = find_uu_t(i, 120)\n",
    "    t120_depth[i] = find_depth_t(i, 120)\n",
    "    t120_breadth[i] = max_lists(find_breadth_for_t(i, 120))\n",
    "\n",
    "df['t180_uu']=''\n",
    "t180_uu = df['t180_uu']\n",
    "df['t180_depth']=''\n",
    "t180_depth = df['t180_depth']\n",
    "df['t180_breadth']=''\n",
    "t180_breadth = df['t180_breadth']\n",
    "for i in range (0,126301):\n",
    "    t180_uu[i] = find_uu_t(i, 180)\n",
    "    t180_depth[i] = find_depth_t(i, 180)\n",
    "    t180_breadth[i] = max_lists(find_breadth_for_t(i, 180))\n",
    "\n",
    "df['t240_uu']=''\n",
    "t240_uu = df['t240_uu']\n",
    "df['t240_depth']=''\n",
    "t240_depth = df['t240_depth']\n",
    "df['t240_breadth']=''\n",
    "t240_breadth = df['t240_breadth']\n",
    "for i in range (0,126301):\n",
    "    t240_uu[i] = find_uu_t(i, 240)\n",
    "    t240_depth[i] = find_depth_t(i, 240)\n",
    "    t240_breadth[i] = max_lists(find_breadth_for_t(i, 240))\n",
    "\n",
    "df['t300_uu']=''\n",
    "t300_uu = df['t300_uu']\n",
    "df['t300_depth']=''\n",
    "t300_depth = df['t300_depth']\n",
    "df['t300_breadth']=''\n",
    "t300_breadth = df['t300_breadth']\n",
    "for i in range (0,126301):\n",
    "    t300_uu[i] = find_uu_t(i, 300)\n",
    "    t300_depth[i] = find_depth_t(i, 300)\n",
    "    t300_breadth[i] = max_lists(find_breadth_for_t(i, 300))\n",
    "\n",
    "df['t360_uu']=''\n",
    "t360_uu = df['t360_uu']\n",
    "df['t360_depth']=''\n",
    "t360_depth = df['t360_depth']\n",
    "df['t360_breadth']=''\n",
    "t360_breadth = df['t360_breadth']\n",
    "for i in range (0,126301):\n",
    "    t360_uu[i] = find_uu_t(i, 360)\n",
    "    t360_depth[i] = find_depth_t(i, 360)\n",
    "    t360_breadth[i] = max_lists(find_breadth_for_t(i, 360))\n",
    "    \n",
    "df['t420_uu']=''\n",
    "t420_uu = df['t420_uu']\n",
    "df['t420_depth']=''\n",
    "t420_depth = df['t420_depth']\n",
    "df['t420_breadth']=''\n",
    "t420_breadth = df['t420_breadth']\n",
    "for i in range (0,126301):\n",
    "    t420_uu[i] = find_uu_t(i, 420)\n",
    "    t420_depth[i] = find_depth_t(i, 420)\n",
    "    t420_breadth[i] = max_lists(find_breadth_for_t(i, 420))\n",
    "    \n",
    "df['t480_uu']=''\n",
    "t480_uu = df['t480_uu']\n",
    "df['t480_depth']=''\n",
    "t480_depth = df['t480_depth']\n",
    "df['t480_breadth']=''\n",
    "t480_breadth = df['t480_breadth']\n",
    "for i in range (0,126301):\n",
    "    t480_uu[i] = find_uu_t(i, 480)\n",
    "    t480_depth[i] = find_depth_t(i, 480)\n",
    "    t480_breadth[i] = max_lists(find_breadth_for_t(i, 480))\n",
    "\n",
    "df['t540_uu']=''\n",
    "t540_uu = df['t540_uu']\n",
    "df['t540_depth']=''\n",
    "t540_depth = df['t540_depth']\n",
    "df['t540_breadth']=''\n",
    "t540_breadth = df['t540_breadth']\n",
    "for i in range (0,126301):\n",
    "    t540_uu[i] = find_uu_t(i, 540)\n",
    "    t540_depth[i] = find_depth_t(i, 540)\n",
    "    t540_breadth[i] = max_lists(find_breadth_for_t(i, 540))\n",
    "\n",
    "df['t600_uu']=''\n",
    "t600_uu = df['t600_uu']\n",
    "df['t600_depth']=''\n",
    "t600_depth = df['t600_depth']\n",
    "df['t600_breadth']=''\n",
    "t600_breadth = df['t600_breadth']\n",
    "for i in range (0,126301):\n",
    "    t600_uu[i] = find_uu_t(i, 600)\n",
    "    t600_depth[i] = find_depth_t(i, 600)\n",
    "    t600_breadth[i] = max_lists(find_breadth_for_t(i, 600))\n",
    "    \n",
    "df['t660_uu']=''\n",
    "t660_uu = df['t660_uu']\n",
    "df['t660_depth']=''\n",
    "t660_depth = df['t660_depth']\n",
    "df['t660_breadth']=''\n",
    "t660_breadth = df['t660_breadth']\n",
    "for i in range (0,126301):\n",
    "    t660_uu[i] = find_uu_t(i, 660)\n",
    "    t660_depth[i] = find_depth_t(i, 660)\n",
    "    t660_breadth[i] = max_lists(find_breadth_for_t(i, 660))\n",
    "    \n",
    "df['t720_uu']=''\n",
    "t720_uu = df['t720_uu']\n",
    "df['t720_depth']=''\n",
    "t720_depth = df['t720_depth']\n",
    "df['t720_breadth']=''\n",
    "t720_breadth = df['t720_breadth']\n",
    "for i in range (0,126301):\n",
    "    t720_uu[i] = find_uu_t(i, 720)\n",
    "    t720_depth[i] = find_depth_t(i, 720)\n",
    "    t720_breadth[i] = max_lists(find_breadth_for_t(i, 720))\n",
    "\n",
    "df['t780_uu']=''\n",
    "t780_uu = df['t780_uu']\n",
    "df['t780_depth']=''\n",
    "t780_depth = df['t780_depth']\n",
    "df['t780_breadth']=''\n",
    "t780_breadth = df['t780_breadth']\n",
    "for i in range (0,126301):\n",
    "    t780_uu[i] = find_uu_t(i, 780)\n",
    "    t780_depth[i] = find_depth_t(i, 780)\n",
    "    t780_breadth[i] = max_lists(find_breadth_for_t(i, 780))\n",
    "    \n",
    "df['t840_uu']=''\n",
    "t840_uu = df['t840_uu']\n",
    "df['t840_depth']=''\n",
    "t840_depth = df['t840_depth']\n",
    "df['t840_breadth']=''\n",
    "t840_breadth = df['t840_breadth']\n",
    "for i in range (0,126301):\n",
    "    t840_uu[i] = find_uu_t(i, 840)\n",
    "    t840_depth[i] = find_depth_t(i, 840)\n",
    "    t840_breadth[i] = max_lists(find_breadth_for_t(i, 840))\n",
    "    \n",
    "df['t900_uu']=''\n",
    "t900_uu = df['t900_uu']\n",
    "df['t900_depth']=''\n",
    "t900_depth = df['t900_depth']\n",
    "df['t900_breadth']=''\n",
    "t900_breadth = df['t900_breadth']\n",
    "for i in range (0,126301):\n",
    "    t900_uu[i] = find_uu_t(i, 900)\n",
    "    t900_depth[i] = find_depth_t(i, 900)\n",
    "    t900_breadth[i] = max_lists(find_breadth_for_t(i, 900))\n",
    "\n",
    "df['t960_uu']=''\n",
    "t960_uu = df['t960_uu']\n",
    "df['t960_depth']=''\n",
    "t960_depth = df['t960_depth']\n",
    "df['t960_breadth']=''\n",
    "t960_breadth = df['t960_breadth']\n",
    "for i in range (0,126301):\n",
    "    t960_uu[i] = find_uu_t(i, 960)\n",
    "    t960_depth[i] = find_depth_t(i, 960)\n",
    "    t960_breadth[i] = max_lists(find_breadth_for_t(i, 960))\n",
    "\n",
    "df['t1020_uu']=''\n",
    "t1020_uu = df['t1020_uu']\n",
    "df['t1020_depth']=''\n",
    "t1020_depth = df['t1020_depth']\n",
    "df['t1020_breadth']=''\n",
    "t1020_breadth = df['t1020_breadth']\n",
    "for i in range (0,126301):\n",
    "    t1020_uu[i] = find_uu_t(i, 1020)\n",
    "    t1020_depth[i] = find_depth_t(i, 1020)\n",
    "    t1020_breadth[i] = max_lists(find_breadth_for_t(i, 1020))\n",
    "    \n",
    "df['t1080_uu']=''\n",
    "t1080_uu = df['t1080_uu']\n",
    "df['t1080_depth']=''\n",
    "t1080_depth = df['t1080_depth']\n",
    "df['t1080_breadth']=''\n",
    "t1080_breadth = df['t1080_breadth']\n",
    "for i in range (0,126301):\n",
    "    t1080_uu[i] = find_uu_t(i, 1080)\n",
    "    t1080_depth[i] = find_depth_t(i, 1080)\n",
    "    t1080_breadth[i] = max_lists(find_breadth_for_t(i, 1080))\n",
    "    \n",
    "df['t1140_uu']=''\n",
    "t1140_uu = df['t1140_uu']\n",
    "df['t1140_depth']=''\n",
    "t1140_depth = df['t1140_depth']\n",
    "df['t1140_breadth']=''\n",
    "t1140_breadth = df['t1140_breadth']\n",
    "for i in range (0,126301):\n",
    "    t1140_uu[i] = find_uu_t(i, 1140)\n",
    "    t1140_depth[i] = find_depth_t(i, 1140)\n",
    "    t1140_breadth[i] = max_lists(find_breadth_for_t(i, 1140))\n",
    "    \n",
    "df['t1200_uu']=''\n",
    "t1200_uu = df['t1200_uu']\n",
    "df['t1200_depth']=''\n",
    "t1200_depth = df['t1200_depth']\n",
    "df['t1200_breadth']=''\n",
    "t1200_breadth = df['t1200_breadth']\n",
    "for i in range (0,126301):\n",
    "    t1200_uu[i] = find_uu_t(i, 1200)\n",
    "    t1200_depth[i] = find_depth_t(i, 1200)\n",
    "    t1200_breadth[i] = max_lists(find_breadth_for_t(i, 1200))\n",
    "    \n",
    "df['t1260_uu']=''\n",
    "t1260_uu = df['t1260_uu']\n",
    "df['t1260_depth']=''\n",
    "t1260_depth = df['t1260_depth']\n",
    "df['t1260_breadth']=''\n",
    "t1260_breadth = df['t1260_breadth']\n",
    "for i in range (0,126301):\n",
    "    t1260_uu[i] = find_uu_t(i, 1260)\n",
    "    t1260_depth[i] = find_depth_t(i, 1260)\n",
    "    t1260_breadth[i] = max_lists(find_breadth_for_t(i, 1260))\n",
    "    \n",
    "df['t1320_uu']=''\n",
    "t1320_uu = df['t1320_uu']\n",
    "df['t1320_depth']=''\n",
    "t1320_depth = df['t1320_depth']\n",
    "df['t1320_breadth']=''\n",
    "t1320_breadth = df['t1320_breadth']\n",
    "for i in range (0,126301):\n",
    "    t1320_uu[i] = find_uu_t(i, 1320)\n",
    "    t1320_depth[i] = find_depth_t(i, 1320)\n",
    "    t1320_breadth[i] = max_lists(find_breadth_for_t(i, 1320))\n",
    "    \n",
    "df['t1380_uu']=''\n",
    "t1380_uu = df['t1380_uu']\n",
    "df['t1380_depth']=''\n",
    "t1380_depth = df['t1380_depth']\n",
    "df['t1380_breadth']=''\n",
    "t1380_breadth = df['t1380_breadth']\n",
    "for i in range (0,126301):\n",
    "    t1380_uu[i] = find_uu_t(i, 1380)\n",
    "    t1380_depth[i] = find_depth_t(i, 1380)\n",
    "    t1380_breadth[i] = max_lists(find_breadth_for_t(i, 1380))\n",
    "\n",
    "df['t1440_uu']=''\n",
    "t1440_uu = df['t1440_uu']\n",
    "df['t1440_depth']=''\n",
    "t1440_depth = df['t1440_depth']\n",
    "df['t1440_breadth']=''\n",
    "t1440_breadth = df['t1440_breadth']\n",
    "for i in range (0,126301):\n",
    "    t1440_uu[i] = find_uu_t(i, 1440)\n",
    "    t1440_depth[i] = find_depth_t(i, 1440)\n",
    "    t1440_breadth[i] = max_lists(find_breadth_for_t(i, 1440))\n",
    "\n",
    "df.to_excel('metadata5.xlsx')"
   ]
  },
  {
   "cell_type": "code",
   "execution_count": 395,
   "metadata": {
    "collapsed": true
   },
   "outputs": [
    {
     "data": {
      "text/plain": [
       "Index(['t60_uu', 't60_depth', 't60_breadth', 't120_uu', 't120_depth',\n",
       "       't120_breadth', 't180_uu', 't180_depth', 't180_breadth', 't240_uu',\n",
       "       't240_depth', 't240_breadth', 't300_uu', 't300_depth', 't300_breadth',\n",
       "       't360_uu', 't360_depth', 't360_breadth', 't420_uu', 't420_depth',\n",
       "       't420_breadth', 't480_uu', 't480_depth', 't480_breadth', 't540_uu',\n",
       "       't540_depth', 't540_breadth', 't600_uu', 't600_depth', 't600_breadth',\n",
       "       't660_uu', 't660_depth', 't660_breadth', 't720_uu', 't720_depth',\n",
       "       't720_breadth', 't780_uu', 't780_depth', 't780_breadth', 't840_uu',\n",
       "       't840_depth', 't840_breadth', 't900_uu', 't900_depth', 't900_breadth',\n",
       "       't960_uu', 't960_depth', 't960_breadth', 't1020_uu', 't1020_depth',\n",
       "       't1020_breadth', 't1080_uu', 't1080_depth', 't1080_breadth', 't1140_uu',\n",
       "       't1140_depth', 't1140_breadth', 't1200_uu', 't1200_depth',\n",
       "       't1200_breadth', 't1260_uu', 't1260_depth', 't1260_breadth', 't1320_uu',\n",
       "       't1320_depth', 't1320_breadth', 't1380_uu', 't1380_depth',\n",
       "       't1380_breadth', 't1440_uu', 't1440_depth', 't1440_breadth'],\n",
       "      dtype='object')"
      ]
     },
     "execution_count": 395,
     "metadata": {},
     "output_type": "execute_result"
    }
   ],
   "source": [
    "df.columns[-72:]"
   ]
  },
  {
   "cell_type": "code",
   "execution_count": 404,
   "metadata": {},
   "outputs": [],
   "source": [
    "t_score=[]"
   ]
  },
  {
   "cell_type": "code",
   "execution_count": 429,
   "metadata": {},
   "outputs": [
    {
     "data": {
      "text/plain": [
       "[0.8706816922224275,\n",
       " 0.8703649943258294,\n",
       " 0.8727138370589322,\n",
       " 0.8731624924124463,\n",
       " 0.8747723733868201,\n",
       " 0.8767253437491752,\n",
       " 0.8756960755852313,\n",
       " 0.8785199651632314,\n",
       " 0.8791005779736613,\n",
       " 0.8772003905940725,\n",
       " 0.8829801272069885,\n",
       " 0.8822675569396426,\n",
       " 0.8814494207067641,\n",
       " 0.8823995143965585,\n",
       " 0.8830329101897548,\n",
       " 0.8846163996727455,\n",
       " 0.8866749360006334,\n",
       " 0.8869652424058484,\n",
       " 0.8864638040695679,\n",
       " 0.8860943231902034,\n",
       " 0.8893668681217176,\n",
       " 0.8886542978543718,\n",
       " 0.8890501702251195,\n",
       " 0.8903433533028952]"
      ]
     },
     "execution_count": 429,
     "metadata": {},
     "output_type": "execute_result"
    }
   ],
   "source": [
    "X = df[[#'t60_uu', 't60_depth', 't60_breadth'\n",
    "#           't120_uu', 't120_depth','t120_breadth'\n",
    "#          't180_uu', 't180_depth', 't180_breadth'\n",
    "#         't240_uu','t240_depth', 't240_breadth'\n",
    "#         't300_uu', 't300_depth', 't300_breadth'\n",
    "#         't360_uu', 't360_depth', 't360_breadth'\n",
    "#          't420_uu', 't420_depth','t420_breadth'\n",
    "#          't480_uu', 't480_depth', 't480_breadth'\n",
    "#          't540_uu', 't540_depth', 't540_breadth'\n",
    "#          't600_uu', 't600_depth', 't600_breadth'\n",
    "#         't660_uu', 't660_depth', 't660_breadth'\n",
    "#          't720_uu', 't720_depth', 't720_breadth'\n",
    "#          't780_uu', 't780_depth', 't780_breadth'\n",
    "#          't840_uu', 't840_depth', 't840_breadth'\n",
    "#          't900_uu', 't900_depth', 't900_breadth'\n",
    "#         't960_uu', 't960_depth', 't960_breadth'\n",
    "#          't1020_uu', 't1020_depth', 't1020_breadth'\n",
    "#          't1080_uu', 't1080_depth', 't1080_breadth'\n",
    "#          't1140_uu','t1140_depth', 't1140_breadth'\n",
    "#          't1200_uu', 't1200_depth', 't1200_breadth'\n",
    "#          't1260_uu', 't1260_depth', 't1260_breadth'\n",
    "#          't1320_uu', 't1320_depth', 't1320_breadth'\n",
    "#          't1380_uu', 't1380_depth', 't1380_breadth'\n",
    "#          't1440_uu', 't1440_depth', 't1440_breadth'\n",
    "       ]]\n",
    "y = df['size']\n",
    "Xtrain, Xtest, Ytrain, Ytest = train_test_split(X,y,test_size=0.3)\n",
    "clf = tree.DecisionTreeClassifier(criterion='entropy'\n",
    "                                  ,random_state=0\n",
    "                                 #,splitter = 'random'\n",
    "                                  #,max_depth = 8\n",
    "                                  #,min_samples_leaf = 0.05\n",
    "                                  #,min_samples_split = 0.05\n",
    "                                  #,max_features = 10\n",
    "                                  )\n",
    "clf = clf.fit(Xtrain,Ytrain)\n",
    "score = clf.score(Xtest,Ytest)\n",
    "t_score.append(score)\n",
    "t_score"
   ]
  },
  {
   "cell_type": "code",
   "execution_count": 900,
   "metadata": {},
   "outputs": [
    {
     "data": {
      "text/plain": [
       "0.8903433533028952"
      ]
     },
     "execution_count": 900,
     "metadata": {},
     "output_type": "execute_result"
    }
   ],
   "source": [
    "t_score.sort()\n",
    "t_score[-1]"
   ]
  },
  {
   "cell_type": "code",
   "execution_count": 442,
   "metadata": {
    "collapsed": true
   },
   "outputs": [
    {
     "data": {
      "image/png": "[encoded data removed]",
      "text/plain": [
       "<Figure size 432x288 with 1 Axes>"
      ]
     },
     "metadata": {
      "needs_background": "light"
     },
     "output_type": "display_data"
    }
   ],
   "source": [
    "plt.figure()\n",
    "plt.plot([i for i in range(1,25)],t_score)\n",
    "ax1 = plt.gca()\n",
    "ax1.set_title('窥视前t小时（决策树）')\n",
    "plt.show()"
   ]
  },
  {
   "cell_type": "code",
   "execution_count": 146,
   "metadata": {},
   "outputs": [
    {
     "data": {
      "text/plain": [
       "[0.8697695310279002,\n",
       " 0.8333893439999226,\n",
       " 0.8464330978867326,\n",
       " 0.8795538582050398,\n",
       " 0.8809221052647278,\n",
       " 0.8214340530133912,\n",
       " 0.8859701394616787,\n",
       " 0.9067502124786009,\n",
       " 0.8824531784083862,\n",
       " 0.9188473818480285,\n",
       " 0.9295018818069988,\n",
       " 0.9096148122063521,\n",
       " 0.8400599076972337,\n",
       " 0.8539481013898507,\n",
       " 0.8700571566164463,\n",
       " 0.8247792133196581,\n",
       " 0.8168308447445587,\n",
       " 0.8885898200050244,\n",
       " 0.8911632616285096,\n",
       " 0.8764900998136663,\n",
       " 0.869952000176989,\n",
       " 0.8713937526418091,\n",
       " 0.8743527950758576,\n",
       " 0.8798575554407968]"
      ]
     },
     "execution_count": 146,
     "metadata": {},
     "output_type": "execute_result"
    }
   ],
   "source": [
    "#决策树回归器，前t小时\n",
    "i = 79#79-150\n",
    "tscore_d=[]\n",
    "while i <= 148:\n",
    "    X = df_new[[columns_list[i], columns_list[i+1], columns_list[i+2]]]\n",
    "    y = df_new['size']\n",
    "    X1, X2, y1, y2 = train_test_split(X, y, random_state=0,\n",
    "                                  train_size=0.6, test_size = 0.4)\n",
    "    model = tree.DecisionTreeRegressor(random_state=0)\n",
    "    model.fit(X1, y1)\n",
    "    y_pred = model.predict(X2)\n",
    "    a = r2_score(y2, y_pred)\n",
    "    tscore_d.append(a)\n",
    "    i += 3\n",
    "tscore_d"
   ]
  },
  {
   "cell_type": "code",
   "execution_count": 23,
   "metadata": {},
   "outputs": [
    {
     "data": {
      "image/png": "[encoded data removed]",
      "text/plain": [
       "<Figure size 288x288 with 1 Axes>"
      ]
     },
     "metadata": {
      "needs_background": "light"
     },
     "output_type": "display_data"
    },
    {
     "name": "stdout",
     "output_type": "stream",
     "text": [
      "[0.054273473025739545, 0.05630740734353351, 0.8894191196307268]\n"
     ]
    }
   ],
   "source": [
    "dfi = [*zip(X,model.feature_importances_)]\n",
    "k_uutime = dfi[0][1]\n",
    "k_depth = dfi[1][1]\n",
    "k_breadth = dfi[2][1]\n",
    "y = [k_uutime,k_depth,k_breadth]\n",
    "x = [1,2,3]\n",
    "fig = plt.figure(figsize=(4,4))\n",
    "plt.barh(x,y,align=\"center\",tick_label=[\"Unique user\",'Depth','Breadth'],alpha=0.7,height=0.5)\n",
    "plt.xlabel(\"重要性\")\n",
    "axes = plt.gca()\n",
    "#axes.set_xlim([0,1])\n",
    "plt.tight_layout()\n",
    "plt.savefig(\"窥视t小时各特征重要性（决策树）.png\",dpi=300)\n",
    "plt.show()\n",
    "print(y)"
   ]
  },
  {
   "cell_type": "code",
   "execution_count": 897,
   "metadata": {},
   "outputs": [
    {
     "data": {
      "text/plain": [
       "0.888100076535325"
      ]
     },
     "execution_count": 897,
     "metadata": {},
     "output_type": "execute_result"
    }
   ],
   "source": [
    "tscore_r.sort()\n",
    "tscore_r[-1]"
   ]
  },
  {
   "cell_type": "code",
   "execution_count": 147,
   "metadata": {},
   "outputs": [
    {
     "data": {
      "text/plain": [
       "[0.869843227739116,\n",
       " 0.9003011878033789,\n",
       " 0.8893502378803069,\n",
       " 0.8909168207730551,\n",
       " 0.90703333772006,\n",
       " 0.9154824651549232,\n",
       " 0.9116864593259821,\n",
       " 0.9086150166680698,\n",
       " 0.9043935357749626,\n",
       " 0.9045902793658723,\n",
       " 0.9086143778377693,\n",
       " 0.9001056533424495,\n",
       " 0.895197584228017,\n",
       " 0.90347402156132,\n",
       " 0.8991296218125343,\n",
       " 0.9026939740454836,\n",
       " 0.9089665108228203,\n",
       " 0.9136490285487464,\n",
       " 0.9079633403734841,\n",
       " 0.8985799168001314,\n",
       " 0.8937471573164422,\n",
       " 0.9004787613067226,\n",
       " 0.900815774253816,\n",
       " 0.9020327911339352]"
      ]
     },
     "execution_count": 147,
     "metadata": {},
     "output_type": "execute_result"
    }
   ],
   "source": [
    "#随机森林回归器，前t小时\n",
    "i = 79#79-150\n",
    "tscore_r=[]\n",
    "while i <= 148:\n",
    "    X = df_new[[columns_list[i], columns_list[i+1], columns_list[i+2]]]\n",
    "    y = df_new['size']\n",
    "    X1, X2, y1, y2 = train_test_split(X, y, random_state=0,\n",
    "                                  train_size=0.6, test_size = 0.4)\n",
    "    model = RandomForestRegressor(n_estimators=35,random_state=0)\n",
    "    model.fit(X1, y1)\n",
    "    y_pred = model.predict(X2)\n",
    "    a = r2_score(y2, y_pred)\n",
    "    tscore_r.append(a)\n",
    "    i += 3\n",
    "tscore_r"
   ]
  },
  {
   "cell_type": "code",
   "execution_count": 21,
   "metadata": {},
   "outputs": [
    {
     "data": {
      "image/png": "[encoded data removed]",
      "text/plain": [
       "<Figure size 288x288 with 1 Axes>"
      ]
     },
     "metadata": {
      "needs_background": "light"
     },
     "output_type": "display_data"
    },
    {
     "name": "stdout",
     "output_type": "stream",
     "text": [
      "[0.043878096168792395, 0.044338525630878055, 0.9117833782003295]\n"
     ]
    }
   ],
   "source": [
    "rfi = [*zip(X,model.feature_importances_)]\n",
    "k_uutime = rfi[0][1]\n",
    "k_depth = rfi[1][1]\n",
    "k_breadth = rfi[2][1]\n",
    "y = [k_uutime,k_depth,k_breadth]\n",
    "x = [1,2,3]\n",
    "fig = plt.figure(figsize=(4,4))\n",
    "plt.barh(x,y,align=\"center\",tick_label=[\"Unique user\",'Depth','Breadth'],alpha=0.7,height=0.5)\n",
    "plt.xlabel(\"重要性\")\n",
    "axes = plt.gca()\n",
    "#axes.set_xlim([0,1])\n",
    "plt.tight_layout()\n",
    "plt.savefig(\"窥视t小时各特征重要性（随机森林）.png\",dpi=300)\n",
    "plt.show()\n",
    "print(y)"
   ]
  },
  {
   "cell_type": "code",
   "execution_count": 20,
   "metadata": {},
   "outputs": [
    {
     "data": {
      "text/plain": [
       "[('t1440_uu', 0.043878096168792395),\n",
       " ('t1440_depth', 0.044338525630878055),\n",
       " ('t1440_breadth', 0.9117833782003295)]"
      ]
     },
     "execution_count": 20,
     "metadata": {},
     "output_type": "execute_result"
    }
   ],
   "source": [
    "rfi"
   ]
  },
  {
   "cell_type": "code",
   "execution_count": 148,
   "metadata": {},
   "outputs": [
    {
     "data": {
      "text/plain": [
       "[0.879157437868081,\n",
       " 0.8801987188110302,\n",
       " 0.8803124205920039,\n",
       " 0.8797839873961913,\n",
       " 0.8791522336076162,\n",
       " 0.8784795984882896,\n",
       " 0.8777393833463901,\n",
       " 0.8768301646688733,\n",
       " 0.8759707904849315,\n",
       " 0.8753668845848216,\n",
       " 0.8749354405834838,\n",
       " 0.8745646911072208,\n",
       " 0.8743510009092287,\n",
       " 0.8739554027608143,\n",
       " 0.8735661738725824,\n",
       " 0.8734462198282544,\n",
       " 0.8732421090442599,\n",
       " 0.8730169885193259,\n",
       " 0.872912359808127,\n",
       " 0.8728257292930495,\n",
       " 0.872687731768224,\n",
       " 0.8723970910753978,\n",
       " 0.8721851598308984,\n",
       " 0.8720846882626385]"
      ]
     },
     "execution_count": 148,
     "metadata": {},
     "output_type": "execute_result"
    }
   ],
   "source": [
    "#逻辑回归，前t小时\n",
    "i = 79#48-77\n",
    "tscore_l=[]\n",
    "while i <= 148:\n",
    "    X = df_new[[columns_list[i], columns_list[i+1], columns_list[i+2]]]\n",
    "    y = df_new['size']\n",
    "    X1, X2, y1, y2 = train_test_split(X, y, random_state=0,train_size=0.7, test_size = 0.3)\n",
    "    model = LinearRegression(fit_intercept=True)\n",
    "    model.fit(X1, y1)\n",
    "    y_pred = model.predict(X2)\n",
    "    score_t = r2_score(y2, y_pred)\n",
    "    tscore_l.append(score_t)\n",
    "    i += 3\n",
    "tscore_l"
   ]
  },
  {
   "cell_type": "code",
   "execution_count": 898,
   "metadata": {},
   "outputs": [
    {
     "data": {
      "text/plain": [
       "0.8803124205920039"
      ]
     },
     "execution_count": 898,
     "metadata": {},
     "output_type": "execute_result"
    }
   ],
   "source": [
    "Lscore_t.sort()\n",
    "Lscore_t[-1]"
   ]
  },
  {
   "cell_type": "code",
   "execution_count": 54,
   "metadata": {
    "scrolled": true
   },
   "outputs": [
    {
     "data": {
      "image/png": "[encoded data removed]",
      "text/plain": [
       "<Figure size 576x288 with 1 Axes>"
      ]
     },
     "metadata": {
      "needs_background": "light"
     },
     "output_type": "display_data"
    }
   ],
   "source": [
    "fig = plt.figure(figsize=(8,4))\n",
    "plt.plot([i for i in range(1,25)],tscore_d,label='DecisionTree')\n",
    "plt.plot([i for i in range(1,25)],tscore_r,label='RandomForest')\n",
    "plt.plot([i for i in range(1,25)],tscore_l,label='LinearRegression')\n",
    "ax1 = plt.gca()\n",
    "ax1.set_xticks([i for i in range(0,25,4)])   \n",
    "ax1.set_title('窥视前t小时')\n",
    "plt.legend()\n",
    "plt.xlabel(\"窥视时长（hours）\")\n",
    "plt.tight_layout()\n",
    "plt.savefig(\"窥视前t小时.png\",dpi=300)\n",
    "plt.show()"
   ]
  },
  {
   "cell_type": "code",
   "execution_count": 149,
   "metadata": {},
   "outputs": [
    {
     "data": {
      "image/png": "[encoded data removed]",
      "text/plain": [
       "<Figure size 288x288 with 1 Axes>"
      ]
     },
     "metadata": {
      "needs_background": "light"
     },
     "output_type": "display_data"
    }
   ],
   "source": [
    "tdm = np.mean(tscore_d)\n",
    "tds = np.std(tscore_d)\n",
    "trm = np.mean(tscore_r)\n",
    "trs = np.std(tscore_r)\n",
    "tlm = np.mean(tscore_l)\n",
    "tls = np.std(tscore_l)\n",
    "y = [tls,trs,tds]\n",
    "x = [1,2,3]\n",
    "fig = plt.figure(figsize=(4,4))\n",
    "plt.barh(x,y,align=\"center\",tick_label=[\"LinearRegression\",\"RandomForest\",\"DecisionTree\"],alpha=0.7,height=0.5)\n",
    "plt.xlabel(\"标准差\")\n",
    "#plt.ylabel(\"类别\")\n",
    "plt.tight_layout()\n",
    "plt.savefig(\"窥视t小时各算法标准差.png\",dpi=300)\n",
    "plt.show()"
   ]
  },
  {
   "cell_type": "code",
   "execution_count": 71,
   "metadata": {},
   "outputs": [
    {
     "data": {
      "text/plain": [
       "0.875381766937989"
      ]
     },
     "execution_count": 71,
     "metadata": {},
     "output_type": "execute_result"
    }
   ],
   "source": [
    "tlm"
   ]
  },
  {
   "cell_type": "code",
   "execution_count": 154,
   "metadata": {},
   "outputs": [
    {
     "data": {
      "image/png": "[encoded data removed]",
      "text/plain": [
       "<Figure size 288x288 with 1 Axes>"
      ]
     },
     "metadata": {
      "needs_background": "light"
     },
     "output_type": "display_data"
    }
   ],
   "source": [
    "kdm = np.mean(kscore_d)\n",
    "kds = np.std(kscore_d)\n",
    "krm = np.mean(kscore_r)\n",
    "krs = np.std(kscore_r)\n",
    "klm = np.mean(kscore_l)\n",
    "kls = np.std(kscore_l)\n",
    "y = [kls,krs,kds]\n",
    "x = [1,2,3]\n",
    "fig = plt.figure(figsize=(4,4))\n",
    "plt.barh(x,y,align=\"center\",tick_label=[\"LinearRegression\",\"RandomForest\",\"DecisionTree\"],alpha=0.7,height=0.5)\n",
    "plt.xlabel(\"标准差\")\n",
    "#plt.ylabel(\"类别\")\n",
    "plt.tight_layout()\n",
    "plt.savefig(\"窥视k用户各算法标准差.png\",dpi=300)\n",
    "plt.show()"
   ]
  },
  {
   "cell_type": "code",
   "execution_count": 131,
   "metadata": {},
   "outputs": [
    {
     "data": {
      "image/png": "[encoded data removed]",
      "text/plain": [
       "<Figure size 288x288 with 1 Axes>"
      ]
     },
     "metadata": {
      "needs_background": "light"
     },
     "output_type": "display_data"
    }
   ],
   "source": [
    "a=0\n",
    "b=0\n",
    "c=0\n",
    "for i in range (0,126301):\n",
    "    veracity = df['veracity (0=0, 1=1, 2=2)'][i]\n",
    "    if veracity < 1:\n",
    "        #uu0.append(df['virality'][i])\n",
    "        a+=1\n",
    "    elif 0 < veracity < 2:\n",
    "        #uu1.append(df['virality'][i])\n",
    "        b+=1\n",
    "    elif 1 < veracity < 3:\n",
    "       #uu2.append(df['virality'][i])\n",
    "        c+=1\n",
    "y = [b,c,a]\n",
    "x = [1,2,3]\n",
    "fig = plt.figure(figsize=(4,4))\n",
    "plt.barh(x,y,align=\"center\",tick_label=[\"Mixed\",\"True\",\"False\"],alpha=0.7,height=0.5)\n",
    "plt.xlabel(\"新闻数量\")\n",
    "#plt.ylabel(\"类别\")\n",
    "plt.savefig(\"图1_各类别新闻的数量.png\",dpi=300)\n",
    "plt.show()"
   ]
  },
  {
   "cell_type": "code",
   "execution_count": 126,
   "metadata": {},
   "outputs": [
    {
     "data": {
      "image/png": "[encoded data removed]",
      "text/plain": [
       "<Figure size 288x288 with 1 Axes>"
      ]
     },
     "metadata": {
      "needs_background": "light"
     },
     "output_type": "display_data"
    }
   ],
   "source": [
    "y = [1,19,111,173,3325,9520,11260]\n",
    "x = [1,2,3,4,5,6,7]\n",
    "fig = plt.figure(figsize=(4,4))\n",
    "plt.barh(x,y,align=\"center\",tick_label=['自然灾害',\"商业\",\"娱乐\",'自然、科学、健康','战争、恐怖主义',\"政治\",'传说、故事'],alpha=0.7,height=0.5)\n",
    "plt.xlabel(\"真新闻主题\")\n",
    "#plt.xscale('log')\n",
    "#plt.ylabel(\"类别\")\n",
    "plt.tight_layout()\n",
    "plt.savefig(\"真新闻主题.png\",dpi=300)\n",
    "plt.show()"
   ]
  },
  {
   "cell_type": "code",
   "execution_count": 127,
   "metadata": {},
   "outputs": [
    {
     "data": {
      "image/png": "[encoded data removed]",
      "text/plain": [
       "<Figure size 288x288 with 1 Axes>"
      ]
     },
     "metadata": {
      "needs_background": "light"
     },
     "output_type": "display_data"
    }
   ],
   "source": [
    "y = [1318,6046,8054,11086,12043,16458,27600]\n",
    "x = [1,2,3,4,5,6,7]\n",
    "fig = plt.figure(figsize=(4,4))\n",
    "plt.barh(x,y,align=\"center\",tick_label=['自然灾害',\"娱乐\",'战争、恐怖主义',\"商业\",'自然、科学、健康','传说、故事',\"政治\"],alpha=0.7,height=0.5)\n",
    "plt.xlabel(\"假新闻主题\")\n",
    "#plt.xscale('log')\n",
    "#plt.ylabel(\"类别\")\n",
    "plt.tight_layout()\n",
    "plt.savefig(\"假新闻主题.png\",dpi=300)\n",
    "plt.show()"
   ]
  },
  {
   "cell_type": "code",
   "execution_count": 128,
   "metadata": {},
   "outputs": [
    {
     "data": {
      "image/png": "[encoded data removed]",
      "text/plain": [
       "<Figure size 288x288 with 1 Axes>"
      ]
     },
     "metadata": {
      "needs_background": "light"
     },
     "output_type": "display_data"
    }
   ],
   "source": [
    "y = [16,18,1057,2936,3636,4649,6975]\n",
    "x = [1,2,3,4,5,6,7]\n",
    "fig = plt.figure(figsize=(4,4))\n",
    "plt.barh(x,y,align=\"center\",tick_label=['自然灾害',\"娱乐\",'战争、恐怖主义',\"商业\",'自然、科学、健康','传说、故事',\"政治\"],alpha=0.7,height=0.5)\n",
    "plt.xlabel(\"混杂新闻主题\")\n",
    "#plt.xscale('log')\n",
    "#plt.ylabel(\"类别\")\n",
    "plt.tight_layout()\n",
    "plt.savefig(\"混杂新闻主题.png\",dpi=300)\n",
    "plt.show()"
   ]
  },
  {
   "cell_type": "code",
   "execution_count": null,
   "metadata": {},
   "outputs": [],
   "source": [
    "#'Business', 'Politics', 'Entertainment','NaturalDisasters', 'Science/Nature/Tech/Food/Health','ViralPhotos/Stories/UrbanLegends', 'War/Terrorism/Shootings'"
   ]
  },
  {
   "cell_type": "code",
   "execution_count": 817,
   "metadata": {},
   "outputs": [
    {
     "name": "stderr",
     "output_type": "stream",
     "text": [
      "D:\\python\\anaconda\\lib\\site-packages\\ipykernel_launcher.py:17: RuntimeWarning: divide by zero encountered in log10\n",
      "D:\\python\\anaconda\\lib\\site-packages\\ipykernel_launcher.py:23: RuntimeWarning: divide by zero encountered in log10\n",
      "D:\\python\\anaconda\\lib\\site-packages\\ipykernel_launcher.py:29: RuntimeWarning: divide by zero encountered in log10\n"
     ]
    },
    {
     "data": {
      "image/png": "[encoded data removed]",
      "text/plain": [
       "<Figure size 400x400 with 1 Axes>"
      ]
     },
     "metadata": {
      "needs_background": "light"
     },
     "output_type": "display_data"
    }
   ],
   "source": [
    "uu0=[]\n",
    "uu1=[]\n",
    "uu2=[]\n",
    "for i in range (0,126301):\n",
    "    veracity = df['veracity (0=0, 1=1, 2=2)'][i]\n",
    "    if veracity < 1:\n",
    "        uu0.append(df['max_breadth'][i])\n",
    "    elif 0 < veracity < 2:\n",
    "        uu1.append(df['max_breadth'][i])\n",
    "    elif 1 < veracity < 3:\n",
    "        uu2.append(df['max_breadth'][i])\n",
    "data0=uu0\n",
    "data0.sort()\n",
    "p = 1. * arange(len(data0)) / (len(data0)-1) \n",
    "p = [1-i for i in p]\n",
    "x0 = np.log10(data0)\n",
    "y0 = np.log10(p)\n",
    "data1=uu1\n",
    "data1.sort()\n",
    "p = 1. * arange(len(data1)) / (len(data1)-1) \n",
    "p = [1-i for i in p]\n",
    "x1 = np.log10(data1)\n",
    "y1 = np.log10(p)\n",
    "data2=uu2\n",
    "data2.sort()\n",
    "p = 1. * arange(len(data2)) / (len(data2)-1) \n",
    "p = [1-i for i in p]\n",
    "x2 = np.log10(data2)\n",
    "y2 = np.log10(p)\n",
    "fig = plt.figure(figsize=(4,4))\n",
    "plt.plot(x0, y0, label='False')\n",
    "plt.plot(x1, y1, label='Mixed')\n",
    "plt.plot(x2, y2, label='True')\n",
    "plt.legend(loc='lower left')\n",
    "axes = plt.gca()\n",
    "axes.set_xticklabels(['0','0','10','100','1k','10k'])\n",
    "axes.set_yticklabels(['1001','0.001','0.01','0.10','1','10','100'])\n",
    "plt.xlabel(\"最大宽度\")\n",
    "plt.ylabel(\"CCDF(%)\")\n",
    "plt.tight_layout()\n",
    "plt.savefig(\"各类别新闻的最大宽度.png\",dpi=300)\n",
    "plt.show()"
   ]
  },
  {
   "cell_type": "code",
   "execution_count": 816,
   "metadata": {},
   "outputs": [
    {
     "name": "stderr",
     "output_type": "stream",
     "text": [
      "D:\\python\\anaconda\\lib\\site-packages\\ipykernel_launcher.py:17: RuntimeWarning: divide by zero encountered in log10\n",
      "D:\\python\\anaconda\\lib\\site-packages\\ipykernel_launcher.py:23: RuntimeWarning: divide by zero encountered in log10\n",
      "D:\\python\\anaconda\\lib\\site-packages\\ipykernel_launcher.py:29: RuntimeWarning: divide by zero encountered in log10\n"
     ]
    },
    {
     "data": {
      "image/png": "[encoded data removed]",
      "text/plain": [
       "<Figure size 400x400 with 1 Axes>"
      ]
     },
     "metadata": {
      "needs_background": "light"
     },
     "output_type": "display_data"
    }
   ],
   "source": [
    "uu0=[]\n",
    "uu1=[]\n",
    "uu2=[]\n",
    "for i in range (0,126301):\n",
    "    veracity = df['veracity (0=0, 1=1, 2=2)'][i]\n",
    "    if veracity < 1:\n",
    "        uu0.append(df['depth'][i])\n",
    "    elif 0 < veracity < 2:\n",
    "        uu1.append(df['depth'][i])\n",
    "    elif 1 < veracity < 3:\n",
    "        uu2.append(df['depth'][i])\n",
    "data0=uu0\n",
    "data0.sort()\n",
    "p = 1. * arange(len(data0)) / (len(data0)-1) \n",
    "p = [1-i for i in p]\n",
    "x0 = data0\n",
    "y0 = np.log10(p)\n",
    "data1=uu1\n",
    "data1.sort()\n",
    "p = 1. * arange(len(data1)) / (len(data1)-1) \n",
    "p = [1-i for i in p]\n",
    "x1 = data1\n",
    "y1 = np.log10(p)\n",
    "data2=uu2\n",
    "data2.sort()\n",
    "p = 1. * arange(len(data2)) / (len(data2)-1) \n",
    "p = [1-i for i in p]\n",
    "x2 = data2\n",
    "y2 = np.log10(p)\n",
    "fig = plt.figure(figsize=(4,4))\n",
    "plt.plot(x0, y0, label='False')\n",
    "plt.plot(x1, y1, label='Mixed')\n",
    "plt.plot(x2, y2, label='True')\n",
    "plt.legend(loc='lower left')\n",
    "axes = plt.gca()\n",
    "#axes.set_xticklabels(['0','0','10','100','1k','10k'])\n",
    "axes.set_yticklabels(['1001','0.001','0.01','0.10','1','10','100'])\n",
    "axes.set_xlim([1,20])\n",
    "plt.xlabel(\"最大深度\")\n",
    "plt.ylabel(\"CCDF(%)\")\n",
    "plt.tight_layout()\n",
    "plt.savefig(\"各类别新闻的最大深度.png\",dpi=300)\n",
    "plt.show()"
   ]
  },
  {
   "cell_type": "code",
   "execution_count": 815,
   "metadata": {},
   "outputs": [
    {
     "name": "stderr",
     "output_type": "stream",
     "text": [
      "D:\\python\\anaconda\\lib\\site-packages\\ipykernel_launcher.py:17: RuntimeWarning: divide by zero encountered in log10\n",
      "D:\\python\\anaconda\\lib\\site-packages\\ipykernel_launcher.py:23: RuntimeWarning: divide by zero encountered in log10\n",
      "D:\\python\\anaconda\\lib\\site-packages\\ipykernel_launcher.py:29: RuntimeWarning: divide by zero encountered in log10\n"
     ]
    },
    {
     "data": {
      "image/png": "[encoded data removed]",
      "text/plain": [
       "<Figure size 400x400 with 1 Axes>"
      ]
     },
     "metadata": {
      "needs_background": "light"
     },
     "output_type": "display_data"
    }
   ],
   "source": [
    "uu0=[]\n",
    "uu1=[]\n",
    "uu2=[]\n",
    "for i in range (0,126301):\n",
    "    veracity = df['veracity (0=0, 1=1, 2=2)'][i]\n",
    "    if veracity < 1:\n",
    "        uu0.append(df['size'][i])\n",
    "    elif 0 < veracity < 2:\n",
    "        uu1.append(df['size'][i])\n",
    "    elif 1 < veracity < 3:\n",
    "        uu2.append(df['size'][i])\n",
    "data0=uu0\n",
    "data0.sort()\n",
    "p = 1. * arange(len(data0)) / (len(data0)-1) \n",
    "p = [1-i for i in p]\n",
    "x0 = np.log10(data0)\n",
    "y0 = np.log10(p)\n",
    "data1=uu1\n",
    "data1.sort()\n",
    "p = 1. * arange(len(data1)) / (len(data1)-1) \n",
    "p = [1-i for i in p]\n",
    "x1 = np.log10(data1)\n",
    "y1 = np.log10(p)\n",
    "data2=uu2\n",
    "data2.sort()\n",
    "p = 1. * arange(len(data2)) / (len(data2)-1) \n",
    "p = [1-i for i in p]\n",
    "x2 = np.log10(data2)\n",
    "y2 = np.log10(p)\n",
    "fig = plt.figure(figsize=(4,4))\n",
    "plt.plot(x0, y0, label='False')\n",
    "plt.plot(x1, y1, label='Mixed')\n",
    "plt.plot(x2, y2, label='True')\n",
    "plt.legend(loc='lower left')\n",
    "axes = plt.gca()\n",
    "axes.set_xticklabels(['0','0','10','100','1k','10k'])\n",
    "axes.set_yticklabels(['1001','0.001','0.01','0.10','1','10','100'])\n",
    "#axes.set_xlim([1,20])\n",
    "plt.xlabel(\"最大规模\")\n",
    "plt.ylabel(\"CCDF(%)\")\n",
    "plt.tight_layout()\n",
    "plt.savefig(\"各类别新闻的最大规模.png\",dpi=300)\n",
    "plt.show()"
   ]
  },
  {
   "cell_type": "code",
   "execution_count": 22,
   "metadata": {},
   "outputs": [
    {
     "name": "stderr",
     "output_type": "stream",
     "text": [
      "D:\\python\\anaconda\\lib\\site-packages\\ipykernel_launcher.py:23: RuntimeWarning: divide by zero encountered in log10\n",
      "D:\\python\\anaconda\\lib\\site-packages\\ipykernel_launcher.py:29: RuntimeWarning: divide by zero encountered in log10\n"
     ]
    },
    {
     "data": {
      "image/png": "[encoded data removed]",
      "text/plain": [
       "<Figure size 288x288 with 1 Axes>"
      ]
     },
     "metadata": {
      "needs_background": "light"
     },
     "output_type": "display_data"
    }
   ],
   "source": [
    "uu0=[]\n",
    "uu1=[]\n",
    "uu2=[]\n",
    "for i in range (0,126301):\n",
    "    veracity = df['veracity (0=0, 1=1, 2=2)'][i]\n",
    "    if veracity < 1:\n",
    "        uu0.append(df['virality'][i])\n",
    "    elif 0 < veracity < 2:\n",
    "        uu1.append(df['virality'][i])\n",
    "    elif 1 < veracity < 3:\n",
    "        uu2.append(df['virality'][i])\n",
    "data0=uu0\n",
    "data0.sort()\n",
    "p = 1. * arange(len(data0)) / (len(data0)-1) \n",
    "p = [1-i for i in p]\n",
    "x0 = data0\n",
    "y0 = np.log10(p)\n",
    "data1=uu1\n",
    "data1.sort()\n",
    "p = 1. * arange(len(data1)) / (len(data1)-1) \n",
    "p = [1-i for i in p]\n",
    "x1 = data1\n",
    "y1 = np.log10(p)\n",
    "data2=uu2\n",
    "data2.sort()\n",
    "p = 1. * arange(len(data2)) / (len(data2)-1) \n",
    "p = [1-i for i in p]\n",
    "x2 = data2\n",
    "y2 = np.log10(p)\n",
    "fig = plt.figure(figsize=(4,4))\n",
    "plt.plot(x0, y0, label='False')\n",
    "plt.plot(x1, y1, label='Mixed')\n",
    "plt.plot(x2, y2, label='True')\n",
    "plt.legend(loc='lower left')\n",
    "axes = plt.gca()\n",
    "#axes.set_xticklabels(['0','0','10','100','1k','10k'])\n",
    "axes.set_yticklabels(['1001','0.001','0.01','0.10','1','10','100'])\n",
    "#axes.set_xlim([1,20])\n",
    "plt.xlabel(\"结构的病毒扩散特性\")\n",
    "plt.ylabel(\"CCDF(%)\")\n",
    "plt.tight_layout()\n",
    "plt.savefig(\"各类别新闻的结构的病毒扩散特性.png\",dpi=300)\n",
    "plt.show()"
   ]
  },
  {
   "cell_type": "code",
   "execution_count": 884,
   "metadata": {},
   "outputs": [
    {
     "name": "stderr",
     "output_type": "stream",
     "text": [
      "D:\\python\\anaconda\\lib\\site-packages\\ipykernel_launcher.py:16: RuntimeWarning: divide by zero encountered in log10\n",
      "  app.launch_new_instance()\n",
      "D:\\python\\anaconda\\lib\\site-packages\\ipykernel_launcher.py:17: RuntimeWarning: divide by zero encountered in log10\n",
      "D:\\python\\anaconda\\lib\\site-packages\\ipykernel_launcher.py:22: RuntimeWarning: divide by zero encountered in log10\n",
      "D:\\python\\anaconda\\lib\\site-packages\\ipykernel_launcher.py:23: RuntimeWarning: divide by zero encountered in log10\n",
      "D:\\python\\anaconda\\lib\\site-packages\\ipykernel_launcher.py:28: RuntimeWarning: divide by zero encountered in log10\n",
      "D:\\python\\anaconda\\lib\\site-packages\\ipykernel_launcher.py:29: RuntimeWarning: divide by zero encountered in log10\n"
     ]
    },
    {
     "data": {
      "image/png": "[encoded data removed]",
      "text/plain": [
       "<Figure size 400x400 with 1 Axes>"
      ]
     },
     "metadata": {
      "needs_background": "light"
     },
     "output_type": "display_data"
    }
   ],
   "source": [
    "uu0=[]\n",
    "uu1=[]\n",
    "uu2=[]\n",
    "for i in range (0,126301):\n",
    "    veracity = df['veracity (0=0, 1=1, 2=2)'][i]\n",
    "    if veracity < 1:\n",
    "        uu0.append(df['num_followees_list'][i])\n",
    "    elif 0 < veracity < 2:\n",
    "        uu1.append(df['num_followees_list'][i])\n",
    "    elif 1 < veracity < 3:\n",
    "        uu2.append(df['num_followees_list'][i])\n",
    "data0=uu0\n",
    "data0.sort()\n",
    "p = 1. * arange(len(data0)) / (len(data0)-1) \n",
    "p = [1-i for i in p]\n",
    "x0 = np.log10(data0)\n",
    "y0 = np.log10(p)\n",
    "data1=uu1\n",
    "data1.sort()\n",
    "p = 1. * arange(len(data1)) / (len(data1)-1) \n",
    "p = [1-i for i in p]\n",
    "x1 = np.log10(data1)\n",
    "y1 = np.log10(p)\n",
    "data2=uu2\n",
    "data2.sort()\n",
    "p = 1. * arange(len(data2)) / (len(data2)-1) \n",
    "p = [1-i for i in p]\n",
    "x2 = np.log10(data2)\n",
    "y2 = np.log10(p)\n",
    "fig = plt.figure(figsize=(4,4))\n",
    "plt.plot(x0, y0, label='False')\n",
    "plt.plot(x1, y1, label='Mixed')\n",
    "plt.plot(x2, y2, label='True')\n",
    "plt.legend(loc='lower left')\n",
    "axes = plt.gca()\n",
    "axes.set_xticklabels(['0','0','10','100','1k','10k','100k'])\n",
    "axes.set_yticklabels(['1001','0.001','0.01','0.10','1','10','100'])\n",
    "#axes.set_ylim([-3,2])\n",
    "plt.xlabel(\"用户关注数\")\n",
    "plt.ylabel(\"CCDF(%)\")\n",
    "plt.tight_layout()\n",
    "plt.savefig(\"各类别新闻用户的中位关注用户数.png\",dpi=300)\n",
    "plt.show()"
   ]
  },
  {
   "cell_type": "code",
   "execution_count": 883,
   "metadata": {},
   "outputs": [
    {
     "name": "stderr",
     "output_type": "stream",
     "text": [
      "D:\\python\\anaconda\\lib\\site-packages\\ipykernel_launcher.py:16: RuntimeWarning: divide by zero encountered in log10\n",
      "  app.launch_new_instance()\n",
      "D:\\python\\anaconda\\lib\\site-packages\\ipykernel_launcher.py:17: RuntimeWarning: divide by zero encountered in log10\n",
      "D:\\python\\anaconda\\lib\\site-packages\\ipykernel_launcher.py:22: RuntimeWarning: divide by zero encountered in log10\n",
      "D:\\python\\anaconda\\lib\\site-packages\\ipykernel_launcher.py:23: RuntimeWarning: divide by zero encountered in log10\n",
      "D:\\python\\anaconda\\lib\\site-packages\\ipykernel_launcher.py:28: RuntimeWarning: divide by zero encountered in log10\n",
      "D:\\python\\anaconda\\lib\\site-packages\\ipykernel_launcher.py:29: RuntimeWarning: divide by zero encountered in log10\n"
     ]
    },
    {
     "data": {
      "image/png": "[encoded data removed]",
      "text/plain": [
       "<Figure size 400x400 with 1 Axes>"
      ]
     },
     "metadata": {
      "needs_background": "light"
     },
     "output_type": "display_data"
    }
   ],
   "source": [
    "uu0=[]\n",
    "uu1=[]\n",
    "uu2=[]\n",
    "for i in range (0,126301):\n",
    "    veracity = df['veracity (0=0, 1=1, 2=2)'][i]\n",
    "    if veracity < 1:\n",
    "        uu0.append(df['num_followers_list'][i])\n",
    "    elif 0 < veracity < 2:\n",
    "        uu1.append(df['num_followers_list'][i])\n",
    "    elif 1 < veracity < 3:\n",
    "        uu2.append(df['num_followers_list'][i])\n",
    "data0=uu0\n",
    "data0.sort()\n",
    "p = 1. * arange(len(data0)) / (len(data0)-1) \n",
    "p = [1-i for i in p]\n",
    "x0 = np.log10(data0)\n",
    "y0 = np.log10(p)\n",
    "data1=uu1\n",
    "data1.sort()\n",
    "p = 1. * arange(len(data1)) / (len(data1)-1) \n",
    "p = [1-i for i in p]\n",
    "x1 = np.log10(data1)\n",
    "y1 = np.log10(p)\n",
    "data2=uu2\n",
    "data2.sort()\n",
    "p = 1. * arange(len(data2)) / (len(data2)-1) \n",
    "p = [1-i for i in p]\n",
    "x2 = np.log10(data2)\n",
    "y2 = np.log10(p)\n",
    "fig = plt.figure(figsize=(4,4))\n",
    "plt.plot(x0, y0, label='False')\n",
    "plt.plot(x1, y1, label='Mixed')\n",
    "plt.plot(x2, y2, label='True')\n",
    "plt.legend(loc='lower left')\n",
    "axes = plt.gca()\n",
    "axes.set_xticklabels(['0','0','10','100','1k','10k','100k','1M'])\n",
    "axes.set_yticklabels(['1001','0.001','0.01','0.10','1','10','100'])\n",
    "#axes.set_ylim([-3,2])\n",
    "plt.xlabel(\"用户粉丝数\")\n",
    "plt.ylabel(\"CCDF(%)\")\n",
    "plt.tight_layout()\n",
    "plt.savefig(\"各类别新闻用户的中位粉丝.png\",dpi=300)\n",
    "plt.show()"
   ]
  },
  {
   "cell_type": "code",
   "execution_count": 885,
   "metadata": {},
   "outputs": [
    {
     "name": "stderr",
     "output_type": "stream",
     "text": [
      "D:\\python\\anaconda\\lib\\site-packages\\ipykernel_launcher.py:17: RuntimeWarning: divide by zero encountered in log10\n",
      "D:\\python\\anaconda\\lib\\site-packages\\ipykernel_launcher.py:23: RuntimeWarning: divide by zero encountered in log10\n",
      "D:\\python\\anaconda\\lib\\site-packages\\ipykernel_launcher.py:29: RuntimeWarning: divide by zero encountered in log10\n"
     ]
    },
    {
     "data": {
      "image/png": "[encoded data removed]",
      "text/plain": [
       "<Figure size 400x400 with 1 Axes>"
      ]
     },
     "metadata": {
      "needs_background": "light"
     },
     "output_type": "display_data"
    }
   ],
   "source": [
    "uu0=[]\n",
    "uu1=[]\n",
    "uu2=[]\n",
    "for i in range (0,126301):\n",
    "    veracity = df['veracity (0=0, 1=1, 2=2)'][i]\n",
    "    if veracity < 1:\n",
    "        uu0.append(df['account_age_list'][i])\n",
    "    elif 0 < veracity < 2:\n",
    "        uu1.append(df['account_age_list'][i])\n",
    "    elif 1 < veracity < 3:\n",
    "        uu2.append(df['account_age_list'][i])\n",
    "data0=uu0\n",
    "data0.sort()\n",
    "p = 1. * arange(len(data0)) / (len(data0)-1) \n",
    "p = [1-i for i in p]\n",
    "x0 = data0\n",
    "y0 = np.log10(p)\n",
    "data1=uu1\n",
    "data1.sort()\n",
    "p = 1. * arange(len(data1)) / (len(data1)-1) \n",
    "p = [1-i for i in p]\n",
    "x1 = data1\n",
    "y1 = np.log10(p)\n",
    "data2=uu2\n",
    "data2.sort()\n",
    "p = 1. * arange(len(data2)) / (len(data2)-1) \n",
    "p = [1-i for i in p]\n",
    "x2 = data2\n",
    "y2 = np.log10(p)\n",
    "fig = plt.figure(figsize=(4,4))\n",
    "plt.plot(x0, y0, label='False')\n",
    "plt.plot(x1, y1, label='Mixed')\n",
    "plt.plot(x2, y2, label='True')\n",
    "plt.legend(loc='lower left')\n",
    "axes = plt.gca()\n",
    "#axes.set_xticklabels(['0','0','10','100','1k','10k','100k','1M'])\n",
    "axes.set_yticklabels(['1001','0.001','0.01','0.10','1','10','100'])\n",
    "#axes.set_ylim([-3,2])\n",
    "plt.xlabel(\"用户注册时长（Day）\")\n",
    "plt.ylabel(\"CCDF(%)\")\n",
    "plt.tight_layout()\n",
    "plt.savefig(\"各类别新闻用户的中位注册时长.png\",dpi=300)\n",
    "plt.show()"
   ]
  },
  {
   "cell_type": "code",
   "execution_count": 133,
   "metadata": {},
   "outputs": [
    {
     "name": "stderr",
     "output_type": "stream",
     "text": [
      "D:\\python\\anaconda\\lib\\site-packages\\ipykernel_launcher.py:6: SettingWithCopyWarning: \n",
      "A value is trying to be set on a copy of a slice from a DataFrame\n",
      "\n",
      "See the caveats in the documentation: http://pandas.pydata.org/pandas-docs/stable/user_guide/indexing.html#returning-a-view-versus-a-copy\n",
      "  \n",
      "D:\\python\\anaconda\\lib\\site-packages\\ipykernel_launcher.py:8: SettingWithCopyWarning: \n",
      "A value is trying to be set on a copy of a slice from a DataFrame\n",
      "\n",
      "See the caveats in the documentation: http://pandas.pydata.org/pandas-docs/stable/user_guide/indexing.html#returning-a-view-versus-a-copy\n",
      "  \n"
     ]
    }
   ],
   "source": [
    "#处理engagement部分的bug\n",
    "df['test_engagemengt']=''\n",
    "test_engagemengt = df['test_engagemengt']\n",
    "for i in range (0,126301):\n",
    "    try:\n",
    "        test_engagemengt[i] = float(df['engagement_list'][i])\n",
    "    except Exception as e:\n",
    "        test_engagemengt[i] = 0\n",
    "#df['test_engagemengt'].to_excel('test1.xlsx')"
   ]
  },
  {
   "cell_type": "code",
   "execution_count": 886,
   "metadata": {},
   "outputs": [
    {
     "name": "stderr",
     "output_type": "stream",
     "text": [
      "D:\\python\\anaconda\\lib\\site-packages\\ipykernel_launcher.py:16: RuntimeWarning: divide by zero encountered in log10\n",
      "  app.launch_new_instance()\n",
      "D:\\python\\anaconda\\lib\\site-packages\\ipykernel_launcher.py:17: RuntimeWarning: divide by zero encountered in log10\n",
      "D:\\python\\anaconda\\lib\\site-packages\\ipykernel_launcher.py:22: RuntimeWarning: divide by zero encountered in log10\n",
      "D:\\python\\anaconda\\lib\\site-packages\\ipykernel_launcher.py:23: RuntimeWarning: divide by zero encountered in log10\n",
      "D:\\python\\anaconda\\lib\\site-packages\\ipykernel_launcher.py:28: RuntimeWarning: divide by zero encountered in log10\n",
      "D:\\python\\anaconda\\lib\\site-packages\\ipykernel_launcher.py:29: RuntimeWarning: divide by zero encountered in log10\n"
     ]
    },
    {
     "data": {
      "image/png": "[encoded data removed]",
      "text/plain": [
       "<Figure size 400x400 with 1 Axes>"
      ]
     },
     "metadata": {
      "needs_background": "light"
     },
     "output_type": "display_data"
    }
   ],
   "source": [
    "uu0=[]\n",
    "uu1=[]\n",
    "uu2=[]\n",
    "for i in range (0,126301):\n",
    "    veracity = df['veracity (0=0, 1=1, 2=2)'][i]\n",
    "    if veracity < 1:\n",
    "        uu0.append(int(df['test_engagemengt'][i]))\n",
    "    elif 0 < veracity < 2:\n",
    "        uu1.append(int(df['test_engagemengt'][i]))\n",
    "    elif 1 < veracity < 3:\n",
    "        uu2.append(int(df['test_engagemengt'][i]))\n",
    "data0=uu0\n",
    "data0.sort()\n",
    "p = 1. * arange(len(data0)) / (len(data0)-1) \n",
    "p = [1-i for i in p]\n",
    "x0 = np.log10(data0)\n",
    "y0 = np.log10(p)\n",
    "data1=uu1\n",
    "data1.sort()\n",
    "p = 1. * arange(len(data1)) / (len(data1)-1) \n",
    "p = [1-i for i in p]\n",
    "x1 = np.log10(data1)\n",
    "y1 = np.log10(p)\n",
    "data2=uu2\n",
    "data2.sort()\n",
    "p = 1. * arange(len(data2)) / (len(data2)-1) \n",
    "p = [1-i for i in p]\n",
    "x2 = np.log10(data2)\n",
    "y2 = np.log10(p)\n",
    "fig = plt.figure(figsize=(4,4))\n",
    "plt.plot(x0, y0, label='False')\n",
    "plt.plot(x1, y1, label='Mixed')\n",
    "plt.plot(x2, y2, label='True')\n",
    "plt.legend(loc='lower left')\n",
    "axes = plt.gca()\n",
    "axes.set_xticklabels(['0','0',' ','10',' ','100',' ','1k'])\n",
    "axes.set_yticklabels(['1001','0.001','0.01','0.10','1','10','100'])\n",
    "#axes.set_ylim([-3,2])\n",
    "plt.xlabel(\"用户活跃度\")\n",
    "plt.ylabel(\"CCDF(%)\")\n",
    "plt.tight_layout()\n",
    "plt.savefig(\"各类别新闻用户的中位活跃度.png\",dpi=300)\n",
    "plt.show()"
   ]
  },
  {
   "cell_type": "code",
   "execution_count": 96,
   "metadata": {},
   "outputs": [
    {
     "data": {
      "text/plain": [
       "0.0004705128715392082"
      ]
     },
     "execution_count": 96,
     "metadata": {},
     "output_type": "execute_result"
    }
   ],
   "source": [
    "#user feature\n",
    "X = df[['verified_list', 'num_followees_list',\n",
    "       'num_followers_list', 'test_engagemengt', 'account_age_list']]\n",
    "y = df['size']\n",
    "\n",
    "X1, X2, y1, y2 = train_test_split(X, y, random_state=0,\n",
    "                                  train_size=0.6, test_size = 0.4)\n",
    "\n",
    "model = LinearRegression(fit_intercept=True)\n",
    "model.fit(X1, y1)\n",
    "\n",
    "y_pred = model.predict(X2)\n",
    "uscore_l = r2_score(y2, y_pred)\n",
    "uscore_l"
   ]
  },
  {
   "cell_type": "code",
   "execution_count": 45,
   "metadata": {},
   "outputs": [
    {
     "data": {
      "text/plain": [
       "-0.19486284277170873"
      ]
     },
     "execution_count": 45,
     "metadata": {},
     "output_type": "execute_result"
    }
   ],
   "source": [
    "#决策树回归器\n",
    "X = df[['verified_list', 'num_followees_list',\n",
    "       'num_followers_list', 'test_engagemengt', 'account_age_list']]\n",
    "y = df['size']\n",
    "\n",
    "X1, X2, y1, y2 = train_test_split(X, y, random_state=0,\n",
    "                                  train_size=0.6, test_size = 0.4)\n",
    "model = tree.DecisionTreeRegressor(random_state=0)\n",
    "model.fit(X1, y1)\n",
    "y_pred = model.predict(X2)\n",
    "uscore_d = r2_score(y2, y_pred)\n",
    "uscore_d"
   ]
  },
  {
   "cell_type": "code",
   "execution_count": 134,
   "metadata": {},
   "outputs": [
    {
     "data": {
      "text/plain": [
       "0.32327448075765164"
      ]
     },
     "execution_count": 134,
     "metadata": {},
     "output_type": "execute_result"
    }
   ],
   "source": [
    "#随机森林回归器\n",
    "X = df[['verified_list', 'num_followees_list',\n",
    "       'num_followers_list', 'test_engagemengt', 'account_age_list']]\n",
    "y = df['size']\n",
    "\n",
    "X1, X2, y1, y2 = train_test_split(X, y, random_state=0,\n",
    "                                  train_size=0.6, test_size = 0.4)\n",
    "model = RandomForestRegressor(n_estimators=35,random_state=0)\n",
    "model.fit(X1, y1)\n",
    "y_pred = model.predict(X2)\n",
    "uscore_r = r2_score(y2, y_pred)\n",
    "uscore_r"
   ]
  },
  {
   "cell_type": "code",
   "execution_count": 138,
   "metadata": {},
   "outputs": [
    {
     "data": {
      "text/plain": [
       "[('verified_list', 0.3784455303140782),\n",
       " ('num_followees_list', 0.17341260305856077),\n",
       " ('num_followers_list', 0.13516517764550987),\n",
       " ('test_engagemengt', 0.12445136958351785),\n",
       " ('account_age_list', 0.18852531939833347)]"
      ]
     },
     "execution_count": 138,
     "metadata": {},
     "output_type": "execute_result"
    }
   ],
   "source": [
    "du = [*zip(X,model.feature_importances_)]\n",
    "du"
   ]
  },
  {
   "cell_type": "code",
   "execution_count": 139,
   "metadata": {},
   "outputs": [
    {
     "data": {
      "image/png": "[encoded data removed]",
      "text/plain": [
       "<Figure size 288x288 with 1 Axes>"
      ]
     },
     "metadata": {
      "needs_background": "light"
     },
     "output_type": "display_data"
    }
   ],
   "source": [
    "verified = du[0][1]\n",
    "followees = du[1][1]\n",
    "followers = du[2][1]\n",
    "engagemengt = du[3][1]\n",
    "account_age = du[4][1]\n",
    "y = [engagemengt,followers,followees,account_age,verified]\n",
    "x = [1,2,3,4,5]\n",
    "fig = plt.figure(figsize=(4,4))\n",
    "plt.barh(x,y,align=\"center\",tick_label=['Engagemengt','Followers','Followees','Account age',\"Verified\"],alpha=0.7,height=0.5)\n",
    "plt.xlabel(\"重要性\")\n",
    "axes = plt.gca()\n",
    "#axes.set_xlim([0,1])\n",
    "plt.tight_layout()\n",
    "plt.savefig(\"用户特征重要性（随机森林）.png\",dpi=300)\n",
    "plt.show()"
   ]
  },
  {
   "cell_type": "code",
   "execution_count": 78,
   "metadata": {},
   "outputs": [
    {
     "data": {
      "text/plain": [
       "0.6815074819878071"
      ]
     },
     "execution_count": 78,
     "metadata": {},
     "output_type": "execute_result"
    }
   ],
   "source": [
    "X = df[['verified_list', 'num_followees_list',\n",
    "       'num_followers_list', 'test_engagemengt', 'account_age_list']]\n",
    "y = df['size']\n",
    "Xtrain, Xtest, Ytrain, Ytest = train_test_split(X,y,test_size=0.3)\n",
    "rfc = RandomForestClassifier(n_estimators=35,random_state=0)\n",
    "rfc = rfc.fit(Xtrain,Ytrain)\n",
    "score_r = rfc.score(Xtest,Ytest)\n",
    "score_r"
   ]
  },
  {
   "cell_type": "code",
   "execution_count": 79,
   "metadata": {},
   "outputs": [
    {
     "data": {
      "text/plain": [
       "[('verified_list', 0.038048538450227445),\n",
       " ('num_followees_list', 0.23211580848765756),\n",
       " ('num_followers_list', 0.2391960444968376),\n",
       " ('test_engagemengt', 0.2685536195506411),\n",
       " ('account_age_list', 0.22208598901463625)]"
      ]
     },
     "execution_count": 79,
     "metadata": {},
     "output_type": "execute_result"
    }
   ],
   "source": [
    "ru = [*zip(X,rfc.feature_importances_)]\n",
    "ru"
   ]
  },
  {
   "cell_type": "code",
   "execution_count": 80,
   "metadata": {},
   "outputs": [
    {
     "data": {
      "image/png": "[encoded data removed]",
      "text/plain": [
       "<Figure size 288x288 with 1 Axes>"
      ]
     },
     "metadata": {
      "needs_background": "light"
     },
     "output_type": "display_data"
    }
   ],
   "source": [
    "verified = ru[0][1]\n",
    "followees = ru[1][1]\n",
    "followers = ru[2][1]\n",
    "engagemengt = ru[3][1]\n",
    "account_age = ru[4][1]\n",
    "y = [verified,followees,followers,engagemengt,account_age]\n",
    "x = [1,2,3,4,5]\n",
    "fig = plt.figure(figsize=(4,4))\n",
    "plt.barh(x,y,align=\"center\",tick_label=[\"Verified\",'Followees','Followers','Engagemengt','Account age'],alpha=0.7,height=0.5)\n",
    "plt.xlabel(\"重要性\")\n",
    "axes = plt.gca()\n",
    "#axes.set_xlim([0,1])\n",
    "plt.tight_layout()\n",
    "plt.savefig(\"用户特征重要性（随机森林）.png\",dpi=300)\n",
    "plt.show()"
   ]
  },
  {
   "cell_type": "code",
   "execution_count": 81,
   "metadata": {},
   "outputs": [
    {
     "data": {
      "image/png": "[encoded data removed]",
      "text/plain": [
       "<Figure size 288x288 with 1 Axes>"
      ]
     },
     "metadata": {
      "needs_background": "light"
     },
     "output_type": "display_data"
    }
   ],
   "source": [
    "y = [score,score_r]\n",
    "x = [1,2]\n",
    "fig = plt.figure(figsize=(4,4))\n",
    "plt.barh(x,y,align=\"center\",tick_label=[\"Decision Tree\",\"Random Forest\"],alpha=0.7,height=0.3)\n",
    "plt.xlabel(\"预测精度\")\n",
    "axes = plt.gca()\n",
    "axes.set_xlim([0,1])\n",
    "plt.tight_layout()\n",
    "plt.savefig(\"用户特征预测精度.png\",dpi=300)\n",
    "plt.show()"
   ]
  },
  {
   "cell_type": "code",
   "execution_count": 140,
   "metadata": {},
   "outputs": [
    {
     "data": {
      "text/plain": [
       "Index(['07,293,202,206,199,4252,224,549,215,411,631,455,599,212,0,562,271,475,452,102,126,2449,1045,151,1323,',\n",
       "       'Unnamed: 0', 'raw_id', 'tid', 'rumoid', 'virality', 'verified ',\n",
       "       'veracity (F=0, T=1)', 'followees', 'engagement', 'followers',\n",
       "       'accountage', 'depth2uu', 'uu2time', 'depth', 'unique_users',\n",
       "       'depth2breadth', 'rumor_category', 'max_breadth', 'start_date', 'size',\n",
       "       'sadness', 'anticipation', 'disgust', 'surprise', 'anger', 'joy',\n",
       "       'fear', 'trust', 'misc'],\n",
       "      dtype='object')"
      ]
     },
     "execution_count": 140,
     "metadata": {},
     "output_type": "execute_result"
    }
   ],
   "source": [
    "df_e = pd.read_excel('emotion_part_2.xlsx')\n",
    "df_e.columns"
   ]
  },
  {
   "cell_type": "code",
   "execution_count": 141,
   "metadata": {},
   "outputs": [
    {
     "name": "stderr",
     "output_type": "stream",
     "text": [
      "D:\\python\\anaconda\\lib\\site-packages\\ipykernel_launcher.py:5: SettingWithCopyWarning: \n",
      "A value is trying to be set on a copy of a slice from a DataFrame\n",
      "\n",
      "See the caveats in the documentation: http://pandas.pydata.org/pandas-docs/stable/user_guide/indexing.html#returning-a-view-versus-a-copy\n",
      "  \"\"\"\n",
      "D:\\python\\anaconda\\lib\\site-packages\\ipykernel_launcher.py:7: SettingWithCopyWarning: \n",
      "A value is trying to be set on a copy of a slice from a DataFrame\n",
      "\n",
      "See the caveats in the documentation: http://pandas.pydata.org/pandas-docs/stable/user_guide/indexing.html#returning-a-view-versus-a-copy\n",
      "  import sys\n"
     ]
    }
   ],
   "source": [
    "df_e['test_engagemengt']=''\n",
    "test_engagemengt = df_e['test_engagemengt']\n",
    "for i in range (0,22155):\n",
    "    try:\n",
    "        test_engagemengt[i] = float(df_e['engagement'][i])\n",
    "    except Exception as e:\n",
    "        test_engagemengt[i] = 0"
   ]
  },
  {
   "cell_type": "code",
   "execution_count": 95,
   "metadata": {},
   "outputs": [
    {
     "data": {
      "text/plain": [
       "0.0067779278462676285"
      ]
     },
     "execution_count": 95,
     "metadata": {},
     "output_type": "execute_result"
    }
   ],
   "source": [
    "#加入用户情感\n",
    "X = df_e[['verified ','followees', 'test_engagemengt',\n",
    "       'followers', 'accountage','sadness', 'anticipation', 'disgust', 'surprise',\n",
    "       'anger', 'joy', 'fear', 'trust', 'misc']]\n",
    "y = df_e['size']\n",
    "\n",
    "X1, X2, y1, y2 = train_test_split(X, y, random_state=0,\n",
    "                                  train_size=0.7, test_size = 0.3)\n",
    "\n",
    "model = LinearRegression(fit_intercept=True)\n",
    "model.fit(X1, y1)\n",
    "\n",
    "y_pred = model.predict(X2)\n",
    "ls = r2_score(y2, y_pred)\n",
    "ls"
   ]
  },
  {
   "cell_type": "code",
   "execution_count": 35,
   "metadata": {},
   "outputs": [
    {
     "data": {
      "text/plain": [
       "-0.12118732070601235"
      ]
     },
     "execution_count": 35,
     "metadata": {},
     "output_type": "execute_result"
    }
   ],
   "source": [
    "X = df_e[['verified ','followees', 'test_engagemengt',\n",
    "       'followers', 'accountage','sadness', 'anticipation', 'disgust', 'surprise',\n",
    "       'anger', 'joy', 'fear', 'trust', 'misc']]\n",
    "y = df_e['size']\n",
    "Xtrain, Xtest, Ytrain, Ytest = train_test_split(X,y,test_size=0.3)\n",
    "clf = tree.DecisionTreeRegressor(random_state=0)\n",
    "clf = clf.fit(Xtrain,Ytrain)\n",
    "score = clf.score(Xtest,Ytest)\n",
    "score"
   ]
  },
  {
   "cell_type": "code",
   "execution_count": 110,
   "metadata": {},
   "outputs": [
    {
     "data": {
      "text/plain": [
       "0.22370994433579058"
      ]
     },
     "execution_count": 110,
     "metadata": {},
     "output_type": "execute_result"
    }
   ],
   "source": [
    "X = df_e[['verified ','followees', 'test_engagemengt',\n",
    "       'followers', 'accountage']]\n",
    "y = df_e['size']\n",
    "Xtrain, Xtest, Ytrain, Ytest = train_test_split(X,y,test_size=0.3)\n",
    "clf = tree.DecisionTreeClassifier(criterion='entropy'\n",
    "                                  ,random_state=0\n",
    "                                 #,splitter = 'random'\n",
    "                                  #,max_depth = 8\n",
    "                                  #,min_samples_leaf = 0.05\n",
    "                                  #,min_samples_split = 0.05\n",
    "                                  #,max_features = 10\n",
    "                                  )\n",
    "clf = clf.fit(Xtrain,Ytrain)\n",
    "score2 = clf.score(Xtest,Ytest)\n",
    "score2"
   ]
  },
  {
   "cell_type": "code",
   "execution_count": 101,
   "metadata": {},
   "outputs": [
    {
     "data": {
      "text/plain": [
       "[('verified ', 0.16678390045032593),\n",
       " ('followees', 0.10951753353132045),\n",
       " ('test_engagemengt', 0.08990711281356895),\n",
       " ('followers', 0.08863688113705459),\n",
       " ('accountage', 0.07959476269616202),\n",
       " ('sadness', 0.05208489992185968),\n",
       " ('anticipation', 0.04935528262911528),\n",
       " ('disgust', 0.05851837754004953),\n",
       " ('surprise', 0.06386724885668121),\n",
       " ('anger', 0.06226815347156104),\n",
       " ('joy', 0.053952276449769215),\n",
       " ('fear', 0.06474212121298441),\n",
       " ('trust', 0.06060074158912185),\n",
       " ('misc', 0.00017070770042574491)]"
      ]
     },
     "execution_count": 101,
     "metadata": {},
     "output_type": "execute_result"
    }
   ],
   "source": [
    "du = [*zip(X,clf.feature_importances_)]\n",
    "du"
   ]
  },
  {
   "cell_type": "code",
   "execution_count": 103,
   "metadata": {},
   "outputs": [
    {
     "data": {
      "image/png": "[encoded data removed]",
      "text/plain": [
       "<Figure size 288x288 with 1 Axes>"
      ]
     },
     "metadata": {
      "needs_background": "light"
     },
     "output_type": "display_data"
    }
   ],
   "source": [
    "verified = du[0][1]\n",
    "followees = du[1][1]\n",
    "followers = du[3][1]\n",
    "engagemengt = du[2][1]\n",
    "account_age = du[4][1]\n",
    "emotion  = 0\n",
    "for i in range(5,14):\n",
    "    emotion+=du[i][1]\n",
    "\n",
    "y = [verified,followees,followers,engagemengt,account_age,emotion]\n",
    "x = [1,2,3,4,5,6]\n",
    "fig = plt.figure(figsize=(4,4))\n",
    "plt.barh(x,y,align=\"center\",tick_label=[\"Verified\",'Followees','Followers','Engagemengt','Account age','Emotion'],alpha=0.7,height=0.5)\n",
    "plt.xlabel(\"重要性\")\n",
    "axes = plt.gca()\n",
    "#axes.set_xlim([0,1])\n",
    "plt.tight_layout()\n",
    "plt.savefig(\"用户特征+情感（决策树）.png\",dpi=300)\n",
    "plt.show()"
   ]
  },
  {
   "cell_type": "code",
   "execution_count": 142,
   "metadata": {},
   "outputs": [
    {
     "data": {
      "text/plain": [
       "0.2714496600152797"
      ]
     },
     "execution_count": 142,
     "metadata": {},
     "output_type": "execute_result"
    }
   ],
   "source": [
    "X = df_e[['verified ','followees', 'test_engagemengt',\n",
    "       'followers', 'accountage','sadness', 'anticipation', 'disgust', 'surprise',\n",
    "       'anger', 'joy', 'fear', 'trust', 'misc']]\n",
    "y = df_e['size']\n",
    "X1, X2, y1, y2 = train_test_split(X, y, random_state=0,\n",
    "                                  train_size=0.6, test_size = 0.4)\n",
    "model = RandomForestRegressor(n_estimators=35,random_state=0)\n",
    "model.fit(X1, y1)\n",
    "y_pred = model.predict(X2)\n",
    "uscore_r2 = r2_score(y2, y_pred)\n",
    "uscore_r2"
   ]
  },
  {
   "cell_type": "code",
   "execution_count": 112,
   "metadata": {},
   "outputs": [
    {
     "data": {
      "text/plain": [
       "0.28148036708289453"
      ]
     },
     "execution_count": 112,
     "metadata": {},
     "output_type": "execute_result"
    }
   ],
   "source": [
    "X = df_e[['verified ','followees', 'test_engagemengt',\n",
    "       'followers', 'accountage']]\n",
    "y = df_e['size']\n",
    "Xtrain, Xtest, Ytrain, Ytest = train_test_split(X,y,test_size=0.3)\n",
    "rfc = RandomForestClassifier(n_estimators=35,random_state=0)\n",
    "rfc = rfc.fit(Xtrain,Ytrain)\n",
    "score_r2 = rfc.score(Xtest,Ytest)\n",
    "score_r2"
   ]
  },
  {
   "cell_type": "code",
   "execution_count": 143,
   "metadata": {},
   "outputs": [
    {
     "data": {
      "text/plain": [
       "[('verified ', 0.3620980009405967),\n",
       " ('followees', 0.07531898225365323),\n",
       " ('test_engagemengt', 0.0705961740837741),\n",
       " ('followers', 0.04322585355070306),\n",
       " ('accountage', 0.09248381674251874),\n",
       " ('sadness', 0.03729545005002784),\n",
       " ('anticipation', 0.03720295228524986),\n",
       " ('disgust', 0.04106102988171194),\n",
       " ('surprise', 0.033814068089984516),\n",
       " ('anger', 0.059082439047431885),\n",
       " ('joy', 0.06043220029005129),\n",
       " ('fear', 0.04279586776755526),\n",
       " ('trust', 0.04459314822921309),\n",
       " ('misc', 1.678752845083265e-08)]"
      ]
     },
     "execution_count": 143,
     "metadata": {},
     "output_type": "execute_result"
    }
   ],
   "source": [
    "ru = [*zip(X,model.feature_importances_)]\n",
    "ru"
   ]
  },
  {
   "cell_type": "code",
   "execution_count": 144,
   "metadata": {},
   "outputs": [
    {
     "data": {
      "image/png": "[encoded data removed]",
      "text/plain": [
       "<Figure size 288x288 with 1 Axes>"
      ]
     },
     "metadata": {
      "needs_background": "light"
     },
     "output_type": "display_data"
    }
   ],
   "source": [
    "verified = ru[0][1]\n",
    "followees = ru[1][1]\n",
    "followers = ru[3][1]\n",
    "engagemengt = ru[2][1]\n",
    "account_age = ru[4][1]\n",
    "emotion  = 0\n",
    "for i in range(5,14):\n",
    "    emotion+=ru[i][1]\n",
    "\n",
    "y = [followers,engagemengt,followees,account_age,emotion,verified]\n",
    "x = [1,2,3,4,5,6]\n",
    "fig = plt.figure(figsize=(4,4))\n",
    "plt.barh(x,y,align=\"center\",tick_label=['Followers','Engagemengt','Followees','Account age','Emotion',\"Verified\"],alpha=0.7,height=0.5)\n",
    "plt.xlabel(\"重要性\")\n",
    "axes = plt.gca()\n",
    "#axes.set_xlim([0,1])\n",
    "plt.tight_layout()\n",
    "plt.savefig(\"用户特征+情绪（随机森林）.png\",dpi=300)\n",
    "plt.show()"
   ]
  },
  {
   "cell_type": "code",
   "execution_count": 40,
   "metadata": {},
   "outputs": [
    {
     "data": {
      "text/plain": [
       "0.35627717242875423"
      ]
     },
     "execution_count": 40,
     "metadata": {},
     "output_type": "execute_result"
    }
   ],
   "source": [
    "emotion"
   ]
  },
  {
   "cell_type": "code",
   "execution_count": 108,
   "metadata": {},
   "outputs": [
    {
     "data": {
      "image/png": "[encoded data removed]",
      "text/plain": [
       "<Figure size 288x288 with 1 Axes>"
      ]
     },
     "metadata": {
      "needs_background": "light"
     },
     "output_type": "display_data"
    }
   ],
   "source": [
    "y = [score,score_r]\n",
    "x = [1,2]\n",
    "fig = plt.figure(figsize=(4,4))\n",
    "plt.barh(x,y,align=\"center\",tick_label=[\"Decision Tree\",\"Random Forest\"],alpha=0.7,height=0.3)\n",
    "plt.xlabel(\"预测精度\")\n",
    "axes = plt.gca()\n",
    "axes.set_xlim([0,1])\n",
    "plt.tight_layout()\n",
    "plt.savefig(\"用户特征预测精度+情绪.png\",dpi=300)\n",
    "plt.show()"
   ]
  },
  {
   "cell_type": "code",
   "execution_count": 7,
   "metadata": {},
   "outputs": [
    {
     "data": {
      "text/plain": [
       "Index(['Unnamed: 0', 'raw_id', 'tid', 'rumor_id', 'virality', 'verified_list',\n",
       "       'veracity (0=0, 1=1, 2=2)', 'num_followees_list', 'num_followers_list',\n",
       "       'engagement_list', 'account_age_list', 'depth2time', 'depth2uu',\n",
       "       'depth2breadth', 'uu2time', 'depth', 'unique_users', 'max_breadth',\n",
       "       'start_date', 'date', 'size', 'Business', 'Politics', 'Entertainment',\n",
       "       'NaturalDisasters', 'Science/Nature/Tech/Food/Health',\n",
       "       'ViralPhotos/Stories/UrbanLegends', 'War/Terrorism/Shootings', 'dawn',\n",
       "       'morning', 'noon', 'afternoon', 'evening', 'midnight', 'Monday',\n",
       "       'Tuesday', 'Wednesday', 'Thursday', 'Friday', 'Saturday', 'Sunday',\n",
       "       'sum_depth2uu', 'sum_depth2time', 'sum_depth2breadth', 'sum_uu2time',\n",
       "       'max_depthtime', 'max_uutime', 'test_engagemengt'],\n",
       "      dtype='object')"
      ]
     },
     "execution_count": 7,
     "metadata": {},
     "output_type": "execute_result"
    }
   ],
   "source": [
    "df.columns"
   ]
  },
  {
   "cell_type": "code",
   "execution_count": 82,
   "metadata": {},
   "outputs": [
    {
     "data": {
      "text/plain": [
       "0.0007527729266106897"
      ]
     },
     "execution_count": 82,
     "metadata": {},
     "output_type": "execute_result"
    }
   ],
   "source": [
    "#content feature\n",
    "X = df[['Business', 'Politics', 'Entertainment',\n",
    "       'NaturalDisasters', 'Science/Nature/Tech/Food/Health',\n",
    "       'ViralPhotos/Stories/UrbanLegends', 'War/Terrorism/Shootings', 'dawn',\n",
    "       'morning', 'noon', 'afternoon', 'evening', 'midnight', 'Monday',\n",
    "       'Tuesday', 'Wednesday', 'Thursday', 'Friday', 'Saturday', 'Sunday','veracity (0=0, 1=1, 2=2)']]\n",
    "y = df['size']\n",
    "\n",
    "X1, X2, y1, y2 = train_test_split(X, y, random_state=0,\n",
    "                                  train_size=0.7, test_size = 0.3)\n",
    "\n",
    "model = LinearRegression(fit_intercept=True)\n",
    "model.fit(X1, y1)\n",
    "\n",
    "y_pred = model.predict(X2)\n",
    "cs1 = r2_score(y2, y_pred)\n",
    "cs1"
   ]
  },
  {
   "cell_type": "code",
   "execution_count": 104,
   "metadata": {},
   "outputs": [
    {
     "data": {
      "text/plain": [
       "-0.0023379178901836717"
      ]
     },
     "execution_count": 104,
     "metadata": {},
     "output_type": "execute_result"
    }
   ],
   "source": [
    "X = df[['Business', 'Politics', 'Entertainment',\n",
    "       'NaturalDisasters', 'Science/Nature/Tech/Food/Health',\n",
    "       'ViralPhotos/Stories/UrbanLegends', 'War/Terrorism/Shootings', 'dawn',\n",
    "       'morning', 'noon', 'afternoon', 'evening', 'midnight', 'Monday',\n",
    "       'Tuesday', 'Wednesday', 'Thursday', 'Friday', 'Saturday', 'Sunday','veracity (0=0, 1=1, 2=2)']]\n",
    "y = df['size']\n",
    "Xtrain, Xtest, Ytrain, Ytest = train_test_split(X,y,test_size=0.3)\n",
    "model = tree.DecisionTreeRegressor(random_state=0)\n",
    "model.fit(X1, y1)\n",
    "y_pred = model.predict(X2)\n",
    "cscore_d = r2_score(y2, y_pred)\n",
    "cscore_d"
   ]
  },
  {
   "cell_type": "code",
   "execution_count": 84,
   "metadata": {},
   "outputs": [
    {
     "data": {
      "text/plain": [
       "[('Business', 0.019051292885348566),\n",
       " ('Politics', 0.16150848702898327),\n",
       " ('Entertainment', 0.005347271863851879),\n",
       " ('NaturalDisasters', 0.0033868023493094468),\n",
       " ('Science/Nature/Tech/Food/Health', 0.018253774782487568),\n",
       " ('ViralPhotos/Stories/UrbanLegends', 0.015996983337236884),\n",
       " ('War/Terrorism/Shootings', 0.057274770326068744),\n",
       " ('dawn', 0.03449740645964074),\n",
       " ('morning', 0.012649614433403697),\n",
       " ('noon', 0.02085094330283239),\n",
       " ('afternoon', 0.047624890742173416),\n",
       " ('evening', 0.05143000871887711),\n",
       " ('midnight', 0.04622016483300203),\n",
       " ('Monday', 0.04842807946700989),\n",
       " ('Tuesday', 0.049772652876630886),\n",
       " ('Wednesday', 0.05038722475924822),\n",
       " ('Thursday', 0.05462435787890849),\n",
       " ('Friday', 0.054949437478311915),\n",
       " ('Saturday', 0.0435736114074212),\n",
       " ('Sunday', 0.042957151820453336),\n",
       " ('veracity (0=0, 1=1, 2=2)', 0.16121507324880027)]"
      ]
     },
     "execution_count": 84,
     "metadata": {},
     "output_type": "execute_result"
    }
   ],
   "source": [
    "dt = [*zip(X,clf.feature_importances_)]\n",
    "dt"
   ]
  },
  {
   "cell_type": "code",
   "execution_count": 115,
   "metadata": {},
   "outputs": [
    {
     "data": {
      "image/png": "[encoded data removed]",
      "text/plain": [
       "<Figure size 288x288 with 1 Axes>"
      ]
     },
     "metadata": {
      "needs_background": "light"
     },
     "output_type": "display_data"
    }
   ],
   "source": [
    "topic = 0\n",
    "for i in range(0,7):\n",
    "    topic += dt[i][1]\n",
    "time = 0\n",
    "for i in range(7,13):\n",
    "    time += dt[i][1]\n",
    "day = 0\n",
    "for i in range(13,20):\n",
    "    day += dt[i][1]\n",
    "veracity = dt[20][1]\n",
    "\n",
    "y = [topic,time,day,veracity]\n",
    "x = [1,2,3,4]\n",
    "fig = plt.figure(figsize=(4,4))\n",
    "plt.barh(x,y,align=\"center\",tick_label=[\"Topic\",\"Specific time\",'Specific day','Veracity'],alpha=0.7,height=0.3)\n",
    "plt.xlabel(\"重要性\")\n",
    "axes = plt.gca()\n",
    "#axes.set_xlim([0,1])\n",
    "plt.tight_layout()\n",
    "#plt.savefig(\"内容特征重要性（决策树）.png\",dpi=300)\n",
    "plt.show()"
   ]
  },
  {
   "cell_type": "code",
   "execution_count": 116,
   "metadata": {},
   "outputs": [
    {
     "data": {
      "text/plain": [
       "0.344692515687984"
      ]
     },
     "execution_count": 116,
     "metadata": {},
     "output_type": "execute_result"
    }
   ],
   "source": [
    "day"
   ]
  },
  {
   "cell_type": "code",
   "execution_count": 103,
   "metadata": {},
   "outputs": [
    {
     "data": {
      "text/plain": [
       "-0.003630098610511334"
      ]
     },
     "execution_count": 103,
     "metadata": {},
     "output_type": "execute_result"
    }
   ],
   "source": [
    "X = df[['Business', 'Politics', 'Entertainment',\n",
    "       'NaturalDisasters', 'Science/Nature/Tech/Food/Health',\n",
    "       'ViralPhotos/Stories/UrbanLegends', 'War/Terrorism/Shootings', 'dawn',\n",
    "       'morning', 'noon', 'afternoon', 'evening', 'midnight', 'Monday',\n",
    "       'Tuesday', 'Wednesday', 'Thursday', 'Friday', 'Saturday', 'Sunday','veracity (0=0, 1=1, 2=2)']]\n",
    "y = df['size']\n",
    "X1, X2, y1, y2 = train_test_split(X, y, random_state=0,\n",
    "                                  train_size=0.6, test_size = 0.4)\n",
    "model = RandomForestRegressor(n_estimators=35,random_state=0)\n",
    "model.fit(X1, y1)\n",
    "y_pred = model.predict(X2)\n",
    "cscore_r = r2_score(y2, y_pred)\n",
    "cscore_r"
   ]
  },
  {
   "cell_type": "code",
   "execution_count": 87,
   "metadata": {},
   "outputs": [
    {
     "data": {
      "text/plain": [
       "[('Business', 0.0393673665841345),\n",
       " ('Politics', 0.26218051912577617),\n",
       " ('Entertainment', 0.02045718165925524),\n",
       " ('NaturalDisasters', 0.007193450502397793),\n",
       " ('Science/Nature/Tech/Food/Health', 0.06891404899092639),\n",
       " ('ViralPhotos/Stories/UrbanLegends', 0.09583989774385963),\n",
       " ('War/Terrorism/Shootings', 0.059429401960076726),\n",
       " ('dawn', 0.011124484201466694),\n",
       " ('morning', 0.015084887397947968),\n",
       " ('noon', 0.013198807966735311),\n",
       " ('afternoon', 0.013829079989446469),\n",
       " ('evening', 0.014441026957210551),\n",
       " ('midnight', 0.01296639903175623),\n",
       " ('Monday', 0.011384381639838641),\n",
       " ('Tuesday', 0.02060981957663087),\n",
       " ('Wednesday', 0.013037542692294523),\n",
       " ('Thursday', 0.014948321290933785),\n",
       " ('Friday', 0.011937879208382823),\n",
       " ('Saturday', 0.013903916607411578),\n",
       " ('Sunday', 0.012574475765075652),\n",
       " ('veracity (0=0, 1=1, 2=2)', 0.26757711110844246)]"
      ]
     },
     "execution_count": 87,
     "metadata": {},
     "output_type": "execute_result"
    }
   ],
   "source": [
    "rf = [*zip(X,rfc.feature_importances_)]\n",
    "rf"
   ]
  },
  {
   "cell_type": "code",
   "execution_count": 88,
   "metadata": {
    "scrolled": true
   },
   "outputs": [
    {
     "data": {
      "image/png": "[encoded data removed]",
      "text/plain": [
       "<Figure size 288x288 with 1 Axes>"
      ]
     },
     "metadata": {
      "needs_background": "light"
     },
     "output_type": "display_data"
    }
   ],
   "source": [
    "topic = 0\n",
    "for i in range(0,7):\n",
    "    topic += rf[i][1]\n",
    "time = 0\n",
    "for i in range(7,13):\n",
    "    time += rf[i][1]\n",
    "day = 0\n",
    "for i in range(13,20):\n",
    "    day += rf[i][1]\n",
    "veracity = rf[20][1]\n",
    "\n",
    "y = [topic,time,day,veracity]\n",
    "x = [1,2,3,4]\n",
    "fig = plt.figure(figsize=(4,4))\n",
    "plt.barh(x,y,align=\"center\",tick_label=[\"Topic\",\"Specific time\",'Specific day','Veracity'],alpha=0.7,height=0.3)\n",
    "plt.xlabel(\"重要性\")\n",
    "axes = plt.gca()\n",
    "#axes.set_xlim([0,1])\n",
    "plt.tight_layout()\n",
    "plt.savefig(\"内容特征重要性（随机森林）.png\",dpi=300)\n",
    "plt.show()"
   ]
  },
  {
   "cell_type": "code",
   "execution_count": 89,
   "metadata": {},
   "outputs": [
    {
     "data": {
      "image/png": "[encoded data removed]",
      "text/plain": [
       "<Figure size 288x288 with 1 Axes>"
      ]
     },
     "metadata": {
      "needs_background": "light"
     },
     "output_type": "display_data"
    }
   ],
   "source": [
    "y = [cs2,cs3]\n",
    "x = [1,2]\n",
    "fig = plt.figure(figsize=(4,4))\n",
    "plt.barh(x,y,align=\"center\",tick_label=[\"Decision Tree\",\"Random Forest\"],alpha=0.7,height=0.3)\n",
    "plt.xlabel(\"预测精度\")\n",
    "axes = plt.gca()\n",
    "axes.set_xlim([0,1])\n",
    "plt.tight_layout()\n",
    "plt.savefig(\"内容特征预测精度.png\",dpi=300)\n",
    "plt.show()"
   ]
  },
  {
   "cell_type": "code",
   "execution_count": 43,
   "metadata": {},
   "outputs": [
    {
     "data": {
      "text/plain": [
       "-0.08578070776406577"
      ]
     },
     "execution_count": 43,
     "metadata": {},
     "output_type": "execute_result"
    }
   ],
   "source": [
    "#综合用户、内容特征\n",
    "X = df[['verified_list', 'num_followees_list',\n",
    "       'num_followers_list', 'test_engagemengt', 'account_age_list','Business', 'Politics', 'Entertainment',\n",
    "       'NaturalDisasters', 'Science/Nature/Tech/Food/Health',\n",
    "       'ViralPhotos/Stories/UrbanLegends', 'War/Terrorism/Shootings', 'dawn',\n",
    "       'morning', 'noon', 'afternoon', 'evening', 'midnight', 'Monday',\n",
    "       'Tuesday', 'Wednesday', 'Thursday', 'Friday', 'Saturday', 'Sunday','veracity (0=0, 1=1, 2=2)']]\n",
    "y = df['size']\n",
    "Xtrain, Xtest, Ytrain, Ytest = train_test_split(X,y,test_size=0.3)\n",
    "model = tree.DecisionTreeRegressor(random_state=0)\n",
    "model.fit(X1, y1)\n",
    "y_pred = model.predict(X2)\n",
    "cscore_r = r2_score(y2, y_pred)\n",
    "cscore_r"
   ]
  },
  {
   "cell_type": "code",
   "execution_count": 121,
   "metadata": {
    "collapsed": true
   },
   "outputs": [
    {
     "data": {
      "text/plain": [
       "[('verified_list', 0.10012392993517508),\n",
       " ('num_followees_list', 0.1492131980653897),\n",
       " ('num_followers_list', 0.1628618903171034),\n",
       " ('test_engagemengt', 0.21283522049025086),\n",
       " ('account_age_list', 0.15955293512348417),\n",
       " ('Business', 0.003620056839624733),\n",
       " ('Politics', 0.02661192515066802),\n",
       " ('Entertainment', 0.0041460357884835495),\n",
       " ('NaturalDisasters', 0.0011780231613727496),\n",
       " ('Science/Nature/Tech/Food/Health', 0.0057509999450706725),\n",
       " ('ViralPhotos/Stories/UrbanLegends', 0.005226808517148123),\n",
       " ('War/Terrorism/Shootings', 0.010071307457759538),\n",
       " ('dawn', 0.011490847587643894),\n",
       " ('morning', 0.007057411011743183),\n",
       " ('noon', 0.009430206079047028),\n",
       " ('afternoon', 0.011520212545081818),\n",
       " ('evening', 0.011937028414512491),\n",
       " ('midnight', 0.012843460909295197),\n",
       " ('Monday', 0.008508833512717778),\n",
       " ('Tuesday', 0.010347620476488205),\n",
       " ('Wednesday', 0.011356964737807472),\n",
       " ('Thursday', 0.010244928814679692),\n",
       " ('Friday', 0.010835455370399089),\n",
       " ('Saturday', 0.010143930857449378),\n",
       " ('Sunday', 0.0093502540003057),\n",
       " ('veracity (0=0, 1=1, 2=2)', 0.023740514891298314)]"
      ]
     },
     "execution_count": 121,
     "metadata": {},
     "output_type": "execute_result"
    }
   ],
   "source": [
    "dt = [*zip(X,clf.feature_importances_)]\n",
    "dt"
   ]
  },
  {
   "cell_type": "code",
   "execution_count": 4,
   "metadata": {},
   "outputs": [
    {
     "data": {
      "text/plain": [
       "0.6868913462299755"
      ]
     },
     "execution_count": 4,
     "metadata": {},
     "output_type": "execute_result"
    }
   ],
   "source": [
    "#建议别跑\n",
    "X = df[['verified_list', 'num_followees_list',\n",
    "       'num_followers_list', 'test_engagemengt', 'account_age_list','Business', 'Politics', 'Entertainment',\n",
    "       'NaturalDisasters', 'Science/Nature/Tech/Food/Health',\n",
    "       'ViralPhotos/Stories/UrbanLegends', 'War/Terrorism/Shootings', 'dawn',\n",
    "       'morning', 'noon', 'afternoon', 'evening', 'midnight', 'Monday',\n",
    "       'Tuesday', 'Wednesday', 'Thursday', 'Friday', 'Saturday', 'Sunday','veracity (0=0, 1=1, 2=2)']]\n",
    "y = df['size']\n",
    "Xtrain, Xtest, Ytrain, Ytest = train_test_split(X,y,test_size=0.3)\n",
    "rfc = RandomForestClassifier(n_estimators=50,random_state=30)\n",
    "rfc = rfc.fit(Xtrain,Ytrain)\n",
    "csar = rfc.score(Xtest,Ytest)\n",
    "csar"
   ]
  },
  {
   "cell_type": "code",
   "execution_count": 5,
   "metadata": {},
   "outputs": [
    {
     "data": {
      "text/plain": [
       "Index(['Unnamed: 0', 'raw_id', 'tid', 'rumor_id', 'virality', 'verified_list',\n",
       "       'veracity (0=0, 1=1, 2=2)', 'num_followees_list', 'num_followers_list',\n",
       "       'engagement_list', 'account_age_list', 'depth2time', 'depth2uu',\n",
       "       'depth2breadth', 'uu2time', 'depth', 'unique_users', 'max_breadth',\n",
       "       'start_date', 'date', 'size', 'Business', 'Politics', 'Entertainment',\n",
       "       'NaturalDisasters', 'Science/Nature/Tech/Food/Health',\n",
       "       'ViralPhotos/Stories/UrbanLegends', 'War/Terrorism/Shootings', 'dawn',\n",
       "       'morning', 'noon', 'afternoon', 'evening', 'midnight', 'Monday',\n",
       "       'Tuesday', 'Wednesday', 'Thursday', 'Friday', 'Saturday', 'Sunday',\n",
       "       'sum_depth2uu', 'sum_depth2time', 'sum_depth2breadth', 'sum_uu2time',\n",
       "       'max_depthtime', 'max_uutime', 'test_engagemengt'],\n",
       "      dtype='object')"
      ]
     },
     "execution_count": 5,
     "metadata": {},
     "output_type": "execute_result"
    }
   ],
   "source": [
    "df.colu"
   ]
  },
  {
   "cell_type": "code",
   "execution_count": 73,
   "metadata": {},
   "outputs": [
    {
     "name": "stdout",
     "output_type": "stream",
     "text": [
      "mean: 0.005559368998093679\n",
      "std: 0.06126966410139505\n"
     ]
    }
   ],
   "source": [
    "#各数据均值、标准差\n",
    "verified_list_mean = np.mean(df['verified_list'])\n",
    "verified_list_std = np.std(df['verified_list'])\n",
    "print('mean:',verified_list_mean)\n",
    "print('std:',verified_list_std)"
   ]
  },
  {
   "cell_type": "code",
   "execution_count": 76,
   "metadata": {},
   "outputs": [
    {
     "name": "stdout",
     "output_type": "stream",
     "text": [
      "mean: 6.377644661657842\n",
      "std: 1.3872832193939273\n",
      "1390.2890713454367\n"
     ]
    }
   ],
   "source": [
    "log_followee = np.log(df['num_followees_list'])\n",
    "log_followee[np.isneginf(log_followee)]=0\n",
    "followees_mean = np.mean(log_followee)\n",
    "followees_std = np.std(log_followee)\n",
    "print('mean:',followees_mean)\n",
    "print('std:',followees_std)\n",
    "print(np.mean(df['num_followees_list']))"
   ]
  },
  {
   "cell_type": "code",
   "execution_count": 75,
   "metadata": {},
   "outputs": [
    {
     "name": "stdout",
     "output_type": "stream",
     "text": [
      "mean: 6.248307308169273\n",
      "std: 1.660506108556703\n",
      "1814.7986991393575\n"
     ]
    },
    {
     "name": "stderr",
     "output_type": "stream",
     "text": [
      "D:\\python\\anaconda\\lib\\site-packages\\pandas\\core\\series.py:853: RuntimeWarning: divide by zero encountered in log\n",
      "  result = getattr(ufunc, method)(*inputs, **kwargs)\n"
     ]
    }
   ],
   "source": [
    "log_follower = np.log(df['num_followers_list'])\n",
    "log_follower[np.isneginf(log_follower)]=0\n",
    "followers_mean = np.mean(log_follower)\n",
    "followers_std = np.std(log_follower)\n",
    "print('mean:',followers_mean)\n",
    "print('std:',followers_std)\n",
    "print(np.mean(df['num_followers_list']))"
   ]
  },
  {
   "cell_type": "code",
   "execution_count": 26,
   "metadata": {},
   "outputs": [
    {
     "name": "stdout",
     "output_type": "stream",
     "text": [
      "mean: 1.854100292978472\n",
      "std: 1.4920057158836002\n",
      "19.611338764239335\n"
     ]
    }
   ],
   "source": [
    "log_engagement = np.log(df['test_engagemengt'].astype('int'))\n",
    "log_engagement[np.isneginf(log_engagement)]=0\n",
    "engagement_mean = np.mean(log_engagement)\n",
    "engagement_std = np.std(log_engagement)\n",
    "print('mean:',engagement_mean)\n",
    "print('std:',engagement_std)\n",
    "print(np.mean(df['test_engagemengt']))"
   ]
  },
  {
   "cell_type": "code",
   "execution_count": 25,
   "metadata": {},
   "outputs": [
    {
     "name": "stdout",
     "output_type": "stream",
     "text": [
      "mean: 6.901228185628381\n",
      "std: 0.8292013597903038\n"
     ]
    }
   ],
   "source": [
    "log_account = np.log(df['account_age_list'])\n",
    "log_account[np.isneginf(log_account)]=0\n",
    "account_age_mean = np.mean(log_account)\n",
    "account_age_std = np.std(log_account)\n",
    "print('mean:',account_age_mean)\n",
    "print('std:',account_age_std)"
   ]
  },
  {
   "cell_type": "code",
   "execution_count": 116,
   "metadata": {
    "collapsed": true
   },
   "outputs": [
    {
     "data": {
      "image/png": "[encoded data removed]",
      "text/plain": [
       "<Figure size 288x288 with 1 Axes>"
      ]
     },
     "metadata": {
      "needs_background": "light"
     },
     "output_type": "display_data"
    }
   ],
   "source": [
    "fig = plt.figure(figsize=(4,4))\n",
    "plt.scatter(log_follower,df['size'],alpha=0.4)\n",
    "plt.yscale('log')\n",
    "plt.show()"
   ]
  },
  {
   "cell_type": "code",
   "execution_count": 11,
   "metadata": {},
   "outputs": [
    {
     "name": "stdout",
     "output_type": "stream",
     "text": [
      "mean: 0.12228537011058904\n",
      "std: 0.3469210542776118\n"
     ]
    }
   ],
   "source": [
    "log_depth = np.log(df['depth'])\n",
    "log_depth[np.isneginf(log_depth)]=0\n",
    "depth_mean = np.mean(log_depth)\n",
    "depth_std = np.std(log_depth)\n",
    "print('mean:',depth_mean)\n",
    "print('std:',depth_std)"
   ]
  },
  {
   "cell_type": "code",
   "execution_count": 4,
   "metadata": {},
   "outputs": [
    {
     "name": "stdout",
     "output_type": "stream",
     "text": [
      "mean: 0.564470876381784\n",
      "std: 1.1242577175866026\n",
      "20.472727848552267\n"
     ]
    }
   ],
   "source": [
    "log_breadth = np.log(df['max_breadth'])\n",
    "log_breadth[np.isneginf(log_breadth)]=0\n",
    "breadth_mean = np.mean(log_breadth)\n",
    "breadth_std = np.std(log_breadth)\n",
    "print('mean:',breadth_mean)\n",
    "print('std:',breadth_std)\n",
    "print(np.mean(df['max_breadth']))"
   ]
  },
  {
   "cell_type": "code",
   "execution_count": 73,
   "metadata": {},
   "outputs": [
    {
     "data": {
      "text/plain": [
       "20.472727848552267"
      ]
     },
     "execution_count": 73,
     "metadata": {},
     "output_type": "execute_result"
    }
   ],
   "source": [
    "np.mean(df['max_breadth'])"
   ]
  },
  {
   "cell_type": "code",
   "execution_count": 5,
   "metadata": {},
   "outputs": [
    {
     "name": "stdout",
     "output_type": "stream",
     "text": [
      "mean: 0.6103238558207777\n",
      "std: 1.2126251200759848\n",
      "31.945392356355057\n"
     ]
    }
   ],
   "source": [
    "log_size = np.log(df['size'])\n",
    "log_size[np.isneginf(log_size)]=0\n",
    "size_mean = np.mean(log_size)\n",
    "size_std = np.std(log_size)\n",
    "print('mean:',size_mean)\n",
    "print('std:',size_std)\n",
    "print(np.mean(df['size']))"
   ]
  },
  {
   "cell_type": "code",
   "execution_count": 6,
   "metadata": {},
   "outputs": [
    {
     "name": "stdout",
     "output_type": "stream",
     "text": [
      "mean: 0.13979862395949924\n",
      "std: 0.28781602563354197\n"
     ]
    },
    {
     "name": "stderr",
     "output_type": "stream",
     "text": [
      "D:\\python\\anaconda\\lib\\site-packages\\pandas\\core\\series.py:853: RuntimeWarning: divide by zero encountered in log\n",
      "  result = getattr(ufunc, method)(*inputs, **kwargs)\n"
     ]
    }
   ],
   "source": [
    "log_virality = np.log(df['virality'])\n",
    "log_virality[np.isneginf(log_virality)]=0\n",
    "virality_mean = np.mean(log_virality)\n",
    "virality_std = np.std(log_virality)\n",
    "print('mean:',virality_mean)\n",
    "print('std:',virality_std)"
   ]
  },
  {
   "cell_type": "code",
   "execution_count": 51,
   "metadata": {},
   "outputs": [],
   "source": [
    "#剔除depth=0，k=5\n",
    "\n",
    "new_uutime=[]\n",
    "new_depth=[]\n",
    "new_breadth=[]\n",
    "new_size=[]\n",
    "for i in range (0,123601):\n",
    "    if df_new['depth'][i] != 0:\n",
    "        new_uutime.append(float(df_new['k5_uutime'][i]))\n",
    "        new_depth.append(float(df_new['k5_depth'][i]))\n",
    "        new_breadth.append(float(df_new['k5_breadth'][i]))\n",
    "        new_size.append(float(df_new['size'][i]))"
   ]
  },
  {
   "cell_type": "code",
   "execution_count": 65,
   "metadata": {},
   "outputs": [],
   "source": [
    "#剔除depth=0，k=5\n",
    "\n",
    "new_uutime=[]\n",
    "new_depth=[]\n",
    "new_breadth=[]\n",
    "new_size=[]\n",
    "for i in range (0,123601):\n",
    "    if df_new['depth'][i] != 0:\n",
    "        new_uutime.append(float(df_new['k5_uutime'][i]))\n",
    "        new_depth.append(float(df_new['k5_depth'][i]))\n",
    "        new_breadth.append(float(df_new['k5_breadth'][i]))\n",
    "        new_size.append(float(df_new['size'][i]))\n",
    "\n",
    "df_new['new_size']=DataFrame(new_size)\n",
    "df_new['new_breadth']=DataFrame(new_breadth)\n",
    "df_new['new_depth']=DataFrame(new_depth)\n",
    "df_new['new_uutime']=DataFrame(new_uutime)\n",
    "df_new[['new_uutime','new_breadth','new_depth','new_size']].to_excel('test7.xlsx')"
   ]
  },
  {
   "cell_type": "code",
   "execution_count": 66,
   "metadata": {
    "collapsed": true
   },
   "outputs": [
    {
     "ename": "NameError",
     "evalue": "name 'df_m' is not defined",
     "output_type": "error",
     "traceback": [
      "\u001b[1;31m---------------------------------------------------------------------------\u001b[0m",
      "\u001b[1;31mNameError\u001b[0m                                 Traceback (most recent call last)",
      "\u001b[1;32m<ipython-input-66-d7561cfef299>\u001b[0m in \u001b[0;36m<module>\u001b[1;34m\u001b[0m\n\u001b[0;32m      1\u001b[0m \u001b[0mdf_n\u001b[0m \u001b[1;33m=\u001b[0m \u001b[0mpd\u001b[0m\u001b[1;33m.\u001b[0m\u001b[0mread_excel\u001b[0m\u001b[1;33m(\u001b[0m\u001b[1;34m'深度不为0.xlsx'\u001b[0m\u001b[1;33m)\u001b[0m\u001b[1;33m\u001b[0m\u001b[1;33m\u001b[0m\u001b[0m\n\u001b[1;32m----> 2\u001b[1;33m \u001b[0mdf_m\u001b[0m\u001b[1;33m\u001b[0m\u001b[1;33m\u001b[0m\u001b[0m\n\u001b[0m",
      "\u001b[1;31mNameError\u001b[0m: name 'df_m' is not defined"
     ]
    }
   ],
   "source": [
    "df_n = pd.read_excel('深度不为0.xlsx')"
   ]
  },
  {
   "cell_type": "code",
   "execution_count": 68,
   "metadata": {},
   "outputs": [
    {
     "data": {
      "text/plain": [
       "0.7366671047219926"
      ]
     },
     "execution_count": 68,
     "metadata": {},
     "output_type": "execute_result"
    }
   ],
   "source": [
    "X = df_n[['new_uutime','new_depth','new_breadth']]\n",
    "y = df_n['new_size']\n",
    "X1, X2, y1, y2 = train_test_split(X, y, random_state=0,\n",
    "                                  train_size=0.6, test_size = 0.4)\n",
    "model = tree.DecisionTreeRegressor(random_state=0)\n",
    "model.fit(X1, y1)\n",
    "y_pred = model.predict(X2)\n",
    "kscore_d = r2_score(y2, y_pred)\n",
    "kscore_d"
   ]
  },
  {
   "cell_type": "code",
   "execution_count": 69,
   "metadata": {},
   "outputs": [
    {
     "data": {
      "image/png": "[encoded data removed]",
      "text/plain": [
       "<Figure size 288x288 with 1 Axes>"
      ]
     },
     "metadata": {
      "needs_background": "light"
     },
     "output_type": "display_data"
    },
    {
     "data": {
      "text/plain": [
       "[('new_uutime', 0.07805429962479929),\n",
       " ('new_depth', 0.01935486960435134),\n",
       " ('new_breadth', 0.9025908307708495)]"
      ]
     },
     "execution_count": 69,
     "metadata": {},
     "output_type": "execute_result"
    }
   ],
   "source": [
    "dfi = [*zip(X,model.feature_importances_)]\n",
    "k_uutime = dfi[0][1]\n",
    "k_depth = dfi[1][1]\n",
    "k_breadth = dfi[2][1]\n",
    "y = [k_uutime,k_depth,k_breadth]\n",
    "x = [1,2,3]\n",
    "fig = plt.figure(figsize=(4,4))\n",
    "plt.barh(x,y,align=\"center\",tick_label=[\"Spread time\",'Depth','Breadth'],alpha=0.7,height=0.5)\n",
    "plt.xlabel(\"重要性\")\n",
    "axes = plt.gca()\n",
    "#axes.set_xlim([0,1])\n",
    "plt.tight_layout()\n",
    "plt.savefig(\"窥视k个用户时各特征重要性（决策树，剔除depth=0）.png\",dpi=300)\n",
    "plt.show()\n",
    "dfi"
   ]
  },
  {
   "cell_type": "code",
   "execution_count": 70,
   "metadata": {},
   "outputs": [
    {
     "data": {
      "text/plain": [
       "0.8711546267810039"
      ]
     },
     "execution_count": 70,
     "metadata": {},
     "output_type": "execute_result"
    }
   ],
   "source": [
    "X = df_n[['new_uutime','new_depth','new_breadth']]\n",
    "y = df_n['new_size']\n",
    "X1, X2, y1, y2 = train_test_split(X, y, random_state=0,\n",
    "                                  train_size=0.6, test_size = 0.4)\n",
    "model = RandomForestRegressor(n_estimators=35,random_state=0)\n",
    "model.fit(X1, y1)\n",
    "y_pred = model.predict(X2)\n",
    "kscore_r = r2_score(y2, y_pred)\n",
    "kscore_r"
   ]
  },
  {
   "cell_type": "code",
   "execution_count": 71,
   "metadata": {},
   "outputs": [
    {
     "data": {
      "image/png": "[encoded data removed]",
      "text/plain": [
       "<Figure size 288x288 with 1 Axes>"
      ]
     },
     "metadata": {
      "needs_background": "light"
     },
     "output_type": "display_data"
    },
    {
     "data": {
      "text/plain": [
       "[('new_uutime', 0.07407071826169592),\n",
       " ('new_depth', 0.022808831454881863),\n",
       " ('new_breadth', 0.9031204502834222)]"
      ]
     },
     "execution_count": 71,
     "metadata": {},
     "output_type": "execute_result"
    }
   ],
   "source": [
    "rfi = [*zip(X,model.feature_importances_)]\n",
    "k_uutime = rfi[0][1]\n",
    "k_depth = rfi[1][1]\n",
    "k_breadth = rfi[2][1]\n",
    "y = [k_uutime,k_depth,k_breadth]\n",
    "x = [1,2,3]\n",
    "fig = plt.figure(figsize=(4,4))\n",
    "plt.barh(x,y,align=\"center\",tick_label=[\"Spread time\",'Depth','Breadth'],alpha=0.7,height=0.5)\n",
    "plt.xlabel(\"重要性\")\n",
    "axes = plt.gca()\n",
    "#axes.set_xlim([0,1])\n",
    "plt.tight_layout()\n",
    "plt.savefig(\"窥视k个用户时各特征重要性（随机森林，剔除depth=0）.png\",dpi=300)\n",
    "plt.show()\n",
    "rfi"
   ]
  },
  {
   "cell_type": "code",
   "execution_count": 72,
   "metadata": {},
   "outputs": [
    {
     "data": {
      "text/plain": [
       "0.8635032234435748"
      ]
     },
     "execution_count": 72,
     "metadata": {},
     "output_type": "execute_result"
    }
   ],
   "source": [
    "X = df_n[['new_uutime','new_depth','new_breadth']]\n",
    "y = df_n['new_size']\n",
    "X1, X2, y1, y2 = train_test_split(X, y, random_state=0,train_size=0.7, test_size = 0.3)\n",
    "model = LinearRegression(fit_intercept=True)\n",
    "model.fit(X1, y1)\n",
    "y_pred = model.predict(X2)\n",
    "kscore_l = r2_score(y2, y_pred)\n",
    "kscore_l"
   ]
  },
  {
   "cell_type": "code",
   "execution_count": 75,
   "metadata": {},
   "outputs": [
    {
     "data": {
      "image/png": "[encoded data removed]",
      "text/plain": [
       "<Figure size 288x288 with 1 Axes>"
      ]
     },
     "metadata": {
      "needs_background": "light"
     },
     "output_type": "display_data"
    }
   ],
   "source": [
    "y = [kscore_d,kscore_r,kscore_l]\n",
    "x = [1,2,3]\n",
    "fig = plt.figure(figsize=(4,4))\n",
    "plt.barh(x,y,align=\"center\",tick_label=[\"DecisionTree\",'RandomForest','LinearRegression'],alpha=0.7,height=0.5)\n",
    "plt.xlabel(\"准确度\")\n",
    "axes = plt.gca()\n",
    "axes.set_xlim([0,1])\n",
    "plt.tight_layout()\n",
    "plt.savefig(\"k=5时预测准确性（剔除depth=0）.png\",dpi=300)\n",
    "plt.show()"
   ]
  },
  {
   "cell_type": "code",
   "execution_count": 77,
   "metadata": {},
   "outputs": [],
   "source": [
    "#剔除depth=0，t=60\n",
    "\n",
    "new_uutime=[]\n",
    "new_depth=[]\n",
    "new_breadth=[]\n",
    "new_size=[]\n",
    "for i in range (0,123601):\n",
    "    if df_new['depth'][i] != 0:\n",
    "        new_uutime.append(float(df_new['t60_uu'][i]))\n",
    "        new_depth.append(float(df_new['t60_depth'][i]))\n",
    "        new_breadth.append(float(df_new['t60_breadth'][i]))\n",
    "        new_size.append(float(df_new['size'][i]))"
   ]
  },
  {
   "cell_type": "code",
   "execution_count": 78,
   "metadata": {},
   "outputs": [],
   "source": [
    "df_new['new_size']=DataFrame(new_size)\n",
    "df_new['new_breadth']=DataFrame(new_breadth)\n",
    "df_new['new_depth']=DataFrame(new_depth)\n",
    "df_new['new_uutime']=DataFrame(new_uutime)\n",
    "df_new[['new_uutime','new_breadth','new_depth','new_size']].to_excel('深度不为0_t.xlsx')"
   ]
  },
  {
   "cell_type": "code",
   "execution_count": 79,
   "metadata": {},
   "outputs": [],
   "source": [
    "df_n = pd.read_excel('深度不为0_t.xlsx')"
   ]
  },
  {
   "cell_type": "code",
   "execution_count": 99,
   "metadata": {},
   "outputs": [
    {
     "data": {
      "text/html": [
       "<div>\n",
       "<style scoped>\n",
       "    .dataframe tbody tr th:only-of-type {\n",
       "        vertical-align: middle;\n",
       "    }\n",
       "\n",
       "    .dataframe tbody tr th {\n",
       "        vertical-align: top;\n",
       "    }\n",
       "\n",
       "    .dataframe thead th {\n",
       "        text-align: right;\n",
       "    }\n",
       "</style>\n",
       "<table border=\"1\" class=\"dataframe\">\n",
       "  <thead>\n",
       "    <tr style=\"text-align: right;\">\n",
       "      <th></th>\n",
       "      <th>Unnamed: 0</th>\n",
       "      <th>new_uutime</th>\n",
       "      <th>new_breadth</th>\n",
       "      <th>new_depth</th>\n",
       "      <th>new_size</th>\n",
       "    </tr>\n",
       "  </thead>\n",
       "  <tbody>\n",
       "    <tr>\n",
       "      <td>0</td>\n",
       "      <td>0</td>\n",
       "      <td>51</td>\n",
       "      <td>10703</td>\n",
       "      <td>1</td>\n",
       "      <td>23228</td>\n",
       "    </tr>\n",
       "    <tr>\n",
       "      <td>1</td>\n",
       "      <td>1</td>\n",
       "      <td>37</td>\n",
       "      <td>11783</td>\n",
       "      <td>1</td>\n",
       "      <td>14827</td>\n",
       "    </tr>\n",
       "    <tr>\n",
       "      <td>2</td>\n",
       "      <td>2</td>\n",
       "      <td>25</td>\n",
       "      <td>6504</td>\n",
       "      <td>1</td>\n",
       "      <td>14129</td>\n",
       "    </tr>\n",
       "    <tr>\n",
       "      <td>3</td>\n",
       "      <td>3</td>\n",
       "      <td>28</td>\n",
       "      <td>5772</td>\n",
       "      <td>1</td>\n",
       "      <td>9972</td>\n",
       "    </tr>\n",
       "    <tr>\n",
       "      <td>4</td>\n",
       "      <td>4</td>\n",
       "      <td>34</td>\n",
       "      <td>6041</td>\n",
       "      <td>8</td>\n",
       "      <td>9526</td>\n",
       "    </tr>\n",
       "    <tr>\n",
       "      <td>...</td>\n",
       "      <td>...</td>\n",
       "      <td>...</td>\n",
       "      <td>...</td>\n",
       "      <td>...</td>\n",
       "      <td>...</td>\n",
       "    </tr>\n",
       "    <tr>\n",
       "      <td>15790</td>\n",
       "      <td>15790</td>\n",
       "      <td>4059</td>\n",
       "      <td>6</td>\n",
       "      <td>1</td>\n",
       "      <td>6</td>\n",
       "    </tr>\n",
       "    <tr>\n",
       "      <td>15791</td>\n",
       "      <td>15791</td>\n",
       "      <td>6501</td>\n",
       "      <td>6</td>\n",
       "      <td>1</td>\n",
       "      <td>6</td>\n",
       "    </tr>\n",
       "    <tr>\n",
       "      <td>15792</td>\n",
       "      <td>15792</td>\n",
       "      <td>6990</td>\n",
       "      <td>6</td>\n",
       "      <td>1</td>\n",
       "      <td>6</td>\n",
       "    </tr>\n",
       "    <tr>\n",
       "      <td>15793</td>\n",
       "      <td>15793</td>\n",
       "      <td>1341</td>\n",
       "      <td>6</td>\n",
       "      <td>1</td>\n",
       "      <td>6</td>\n",
       "    </tr>\n",
       "    <tr>\n",
       "      <td>15794</td>\n",
       "      <td>15794</td>\n",
       "      <td>9948</td>\n",
       "      <td>6</td>\n",
       "      <td>1</td>\n",
       "      <td>6</td>\n",
       "    </tr>\n",
       "  </tbody>\n",
       "</table>\n",
       "<p>15795 rows × 5 columns</p>\n",
       "</div>"
      ],
      "text/plain": [
       "       Unnamed: 0  new_uutime  new_breadth  new_depth  new_size\n",
       "0               0          51        10703          1     23228\n",
       "1               1          37        11783          1     14827\n",
       "2               2          25         6504          1     14129\n",
       "3               3          28         5772          1      9972\n",
       "4               4          34         6041          8      9526\n",
       "...           ...         ...          ...        ...       ...\n",
       "15790       15790        4059            6          1         6\n",
       "15791       15791        6501            6          1         6\n",
       "15792       15792        6990            6          1         6\n",
       "15793       15793        1341            6          1         6\n",
       "15794       15794        9948            6          1         6\n",
       "\n",
       "[15795 rows x 5 columns]"
      ]
     },
     "execution_count": 99,
     "metadata": {},
     "output_type": "execute_result"
    }
   ],
   "source": [
    "df_n"
   ]
  },
  {
   "cell_type": "code",
   "execution_count": 81,
   "metadata": {},
   "outputs": [
    {
     "data": {
      "text/plain": [
       "0.7601122674007468"
      ]
     },
     "execution_count": 81,
     "metadata": {},
     "output_type": "execute_result"
    }
   ],
   "source": [
    "X = df_n[['new_uutime','new_depth','new_breadth']]\n",
    "y = df_n['new_size']\n",
    "X1, X2, y1, y2 = train_test_split(X, y, random_state=0,\n",
    "                                  train_size=0.6, test_size = 0.4)\n",
    "model = tree.DecisionTreeRegressor(random_state=0)\n",
    "model.fit(X1, y1)\n",
    "y_pred = model.predict(X2)\n",
    "kscore_d = r2_score(y2, y_pred)\n",
    "kscore_d"
   ]
  },
  {
   "cell_type": "code",
   "execution_count": 82,
   "metadata": {},
   "outputs": [
    {
     "data": {
      "image/png": "[encoded data removed]",
      "text/plain": [
       "<Figure size 288x288 with 1 Axes>"
      ]
     },
     "metadata": {
      "needs_background": "light"
     },
     "output_type": "display_data"
    },
    {
     "data": {
      "text/plain": [
       "[('new_uutime', 0.07837401699286316),\n",
       " ('new_depth', 0.002305348483037366),\n",
       " ('new_breadth', 0.9193206345240995)]"
      ]
     },
     "execution_count": 82,
     "metadata": {},
     "output_type": "execute_result"
    }
   ],
   "source": [
    "dfi = [*zip(X,model.feature_importances_)]\n",
    "k_uutime = dfi[0][1]\n",
    "k_depth = dfi[1][1]\n",
    "k_breadth = dfi[2][1]\n",
    "y = [k_uutime,k_depth,k_breadth]\n",
    "x = [1,2,3]\n",
    "fig = plt.figure(figsize=(4,4))\n",
    "plt.barh(x,y,align=\"center\",tick_label=[\"Spread time\",'Depth','Breadth'],alpha=0.7,height=0.5)\n",
    "plt.xlabel(\"重要性\")\n",
    "axes = plt.gca()\n",
    "#axes.set_xlim([0,1])\n",
    "plt.tight_layout()\n",
    "plt.savefig(\"窥视t小时时各特征重要性（决策树，剔除depth=0）.png\",dpi=300)\n",
    "plt.show()\n",
    "dfi"
   ]
  },
  {
   "cell_type": "code",
   "execution_count": 84,
   "metadata": {},
   "outputs": [
    {
     "data": {
      "text/plain": [
       "0.8655194410682143"
      ]
     },
     "execution_count": 84,
     "metadata": {},
     "output_type": "execute_result"
    }
   ],
   "source": [
    "X = df_n[['new_uutime','new_depth','new_breadth']]\n",
    "y = df_n['new_size']\n",
    "X1, X2, y1, y2 = train_test_split(X, y, random_state=0,\n",
    "                                  train_size=0.6, test_size = 0.4)\n",
    "model = RandomForestRegressor(n_estimators=35,random_state=0)\n",
    "model.fit(X1, y1)\n",
    "y_pred = model.predict(X2)\n",
    "kscore_r = r2_score(y2, y_pred)\n",
    "kscore_r"
   ]
  },
  {
   "cell_type": "code",
   "execution_count": 85,
   "metadata": {},
   "outputs": [
    {
     "data": {
      "image/png": "[encoded data removed]",
      "text/plain": [
       "<Figure size 288x288 with 1 Axes>"
      ]
     },
     "metadata": {
      "needs_background": "light"
     },
     "output_type": "display_data"
    },
    {
     "data": {
      "text/plain": [
       "[('new_uutime', 0.0802981261363671),\n",
       " ('new_depth', 0.003104217816610848),\n",
       " ('new_breadth', 0.916597656047022)]"
      ]
     },
     "execution_count": 85,
     "metadata": {},
     "output_type": "execute_result"
    }
   ],
   "source": [
    "rfi = [*zip(X,model.feature_importances_)]\n",
    "k_uutime = rfi[0][1]\n",
    "k_depth = rfi[1][1]\n",
    "k_breadth = rfi[2][1]\n",
    "y = [k_uutime,k_depth,k_breadth]\n",
    "x = [1,2,3]\n",
    "fig = plt.figure(figsize=(4,4))\n",
    "plt.barh(x,y,align=\"center\",tick_label=[\"Spread time\",'Depth','Breadth'],alpha=0.7,height=0.5)\n",
    "plt.xlabel(\"重要性\")\n",
    "axes = plt.gca()\n",
    "#axes.set_xlim([0,1])\n",
    "plt.tight_layout()\n",
    "plt.savefig(\"窥视t小时时各特征重要性（随机森林，剔除depth=0）.png\",dpi=300)\n",
    "plt.show()\n",
    "rfi"
   ]
  },
  {
   "cell_type": "code",
   "execution_count": 86,
   "metadata": {},
   "outputs": [
    {
     "data": {
      "text/plain": [
       "0.8565267767197509"
      ]
     },
     "execution_count": 86,
     "metadata": {},
     "output_type": "execute_result"
    }
   ],
   "source": [
    "X = df_n[['new_uutime','new_depth','new_breadth']]\n",
    "y = df_n['new_size']\n",
    "X1, X2, y1, y2 = train_test_split(X, y, random_state=0,train_size=0.7, test_size = 0.3)\n",
    "model = LinearRegression(fit_intercept=True)\n",
    "model.fit(X1, y1)\n",
    "y_pred = model.predict(X2)\n",
    "kscore_l = r2_score(y2, y_pred)\n",
    "kscore_l"
   ]
  },
  {
   "cell_type": "code",
   "execution_count": 87,
   "metadata": {},
   "outputs": [
    {
     "data": {
      "image/png": "[encoded data removed]",
      "text/plain": [
       "<Figure size 288x288 with 1 Axes>"
      ]
     },
     "metadata": {
      "needs_background": "light"
     },
     "output_type": "display_data"
    }
   ],
   "source": [
    "y = [kscore_d,kscore_r,kscore_l]\n",
    "x = [1,2,3]\n",
    "fig = plt.figure(figsize=(4,4))\n",
    "plt.barh(x,y,align=\"center\",tick_label=[\"DecisionTree\",'RandomForest','LinearRegression'],alpha=0.7,height=0.5)\n",
    "plt.xlabel(\"准确度\")\n",
    "axes = plt.gca()\n",
    "axes.set_xlim([0,1])\n",
    "plt.tight_layout()\n",
    "plt.savefig(\"t=60时预测准确性（剔除depth=0）.png\",dpi=300)\n",
    "plt.show()"
   ]
  },
  {
   "cell_type": "code",
   "execution_count": 88,
   "metadata": {},
   "outputs": [],
   "source": [
    "#剔除uu<=5，k=5\n",
    "\n",
    "new_uutime=[]\n",
    "new_depth=[]\n",
    "new_breadth=[]\n",
    "new_size=[]\n",
    "for i in range (0,123601):\n",
    "    if df_new['unique_users'][i] > 5:\n",
    "        new_uutime.append(float(df_new['k5_uutime'][i]))\n",
    "        new_depth.append(float(df_new['k5_depth'][i]))\n",
    "        new_breadth.append(float(df_new['k5_breadth'][i]))\n",
    "        new_size.append(float(df_new['size'][i]))\n",
    "\n",
    "df_new['new_size']=DataFrame(new_size)\n",
    "df_new['new_breadth']=DataFrame(new_breadth)\n",
    "df_new['new_depth']=DataFrame(new_depth)\n",
    "df_new['new_uutime']=DataFrame(new_uutime)"
   ]
  },
  {
   "cell_type": "code",
   "execution_count": 90,
   "metadata": {},
   "outputs": [],
   "source": [
    "df_new[['new_uutime','new_breadth','new_depth','new_size']].to_excel('test9.xlsx')"
   ]
  },
  {
   "cell_type": "code",
   "execution_count": 91,
   "metadata": {},
   "outputs": [],
   "source": [
    "df_n = pd.read_excel('uu大于5.xlsx')"
   ]
  },
  {
   "cell_type": "code",
   "execution_count": 92,
   "metadata": {},
   "outputs": [
    {
     "data": {
      "text/plain": [
       "0.8109741494909343"
      ]
     },
     "execution_count": 92,
     "metadata": {},
     "output_type": "execute_result"
    }
   ],
   "source": [
    "X = df_n[['new_uutime','new_depth','new_breadth']]\n",
    "y = df_n['new_size']\n",
    "X1, X2, y1, y2 = train_test_split(X, y, random_state=0,\n",
    "                                  train_size=0.6, test_size = 0.4)\n",
    "model = tree.DecisionTreeRegressor(random_state=0)\n",
    "model.fit(X1, y1)\n",
    "y_pred = model.predict(X2)\n",
    "kscore_d = r2_score(y2, y_pred)\n",
    "kscore_d"
   ]
  },
  {
   "cell_type": "code",
   "execution_count": 94,
   "metadata": {},
   "outputs": [
    {
     "data": {
      "image/png": "[encoded data removed]",
      "text/plain": [
       "<Figure size 288x288 with 1 Axes>"
      ]
     },
     "metadata": {
      "needs_background": "light"
     },
     "output_type": "display_data"
    },
    {
     "data": {
      "text/plain": [
       "[('new_uutime', 0.06080327811883454),\n",
       " ('new_depth', 0.029799349266117492),\n",
       " ('new_breadth', 0.9093973726150479)]"
      ]
     },
     "execution_count": 94,
     "metadata": {},
     "output_type": "execute_result"
    }
   ],
   "source": [
    "dfi = [*zip(X,model.feature_importances_)]\n",
    "k_uutime = dfi[0][1]\n",
    "k_depth = dfi[1][1]\n",
    "k_breadth = dfi[2][1]\n",
    "y = [k_uutime,k_depth,k_breadth]\n",
    "x = [1,2,3]\n",
    "fig = plt.figure(figsize=(4,4))\n",
    "plt.barh(x,y,align=\"center\",tick_label=[\"Spread time\",'Depth','Breadth'],alpha=0.7,height=0.5)\n",
    "plt.xlabel(\"重要性\")\n",
    "axes = plt.gca()\n",
    "#axes.set_xlim([0,1])\n",
    "plt.tight_layout()\n",
    "plt.savefig(\"窥视k个用户时各特征重要性（决策树，uu大于5）.png\",dpi=300)\n",
    "plt.show()\n",
    "dfi"
   ]
  },
  {
   "cell_type": "code",
   "execution_count": 95,
   "metadata": {},
   "outputs": [
    {
     "data": {
      "text/plain": [
       "0.894696458356186"
      ]
     },
     "execution_count": 95,
     "metadata": {},
     "output_type": "execute_result"
    }
   ],
   "source": [
    "X = df_n[['new_uutime','new_depth','new_breadth']]\n",
    "y = df_n['new_size']\n",
    "X1, X2, y1, y2 = train_test_split(X, y, random_state=0,\n",
    "                                  train_size=0.6, test_size = 0.4)\n",
    "model = RandomForestRegressor(n_estimators=35,random_state=0)\n",
    "model.fit(X1, y1)\n",
    "y_pred = model.predict(X2)\n",
    "kscore_r = r2_score(y2, y_pred)\n",
    "kscore_r"
   ]
  },
  {
   "cell_type": "code",
   "execution_count": 96,
   "metadata": {},
   "outputs": [
    {
     "data": {
      "image/png": "[encoded data removed]",
      "text/plain": [
       "<Figure size 288x288 with 1 Axes>"
      ]
     },
     "metadata": {
      "needs_background": "light"
     },
     "output_type": "display_data"
    },
    {
     "data": {
      "text/plain": [
       "[('new_uutime', 0.05945249124557319),\n",
       " ('new_depth', 0.0354786818980819),\n",
       " ('new_breadth', 0.9050688268563449)]"
      ]
     },
     "execution_count": 96,
     "metadata": {},
     "output_type": "execute_result"
    }
   ],
   "source": [
    "rfi = [*zip(X,model.feature_importances_)]\n",
    "k_uutime = rfi[0][1]\n",
    "k_depth = rfi[1][1]\n",
    "k_breadth = rfi[2][1]\n",
    "y = [k_uutime,k_depth,k_breadth]\n",
    "x = [1,2,3]\n",
    "fig = plt.figure(figsize=(4,4))\n",
    "plt.barh(x,y,align=\"center\",tick_label=[\"Spread time\",'Depth','Breadth'],alpha=0.7,height=0.5)\n",
    "plt.xlabel(\"重要性\")\n",
    "axes = plt.gca()\n",
    "#axes.set_xlim([0,1])\n",
    "plt.tight_layout()\n",
    "plt.savefig(\"窥视k个用户时各特征重要性（随机森林，uu大于5）.png\",dpi=300)\n",
    "plt.show()\n",
    "rfi"
   ]
  },
  {
   "cell_type": "code",
   "execution_count": 97,
   "metadata": {},
   "outputs": [
    {
     "data": {
      "text/plain": [
       "0.8833684003880877"
      ]
     },
     "execution_count": 97,
     "metadata": {},
     "output_type": "execute_result"
    }
   ],
   "source": [
    "X = df_n[['new_uutime','new_depth','new_breadth']]\n",
    "y = df_n['new_size']\n",
    "X1, X2, y1, y2 = train_test_split(X, y, random_state=0,train_size=0.7, test_size = 0.3)\n",
    "model = LinearRegression(fit_intercept=True)\n",
    "model.fit(X1, y1)\n",
    "y_pred = model.predict(X2)\n",
    "kscore_l = r2_score(y2, y_pred)\n",
    "kscore_l"
   ]
  },
  {
   "cell_type": "code",
   "execution_count": 98,
   "metadata": {},
   "outputs": [
    {
     "data": {
      "image/png": "[encoded data removed]",
      "text/plain": [
       "<Figure size 288x288 with 1 Axes>"
      ]
     },
     "metadata": {
      "needs_background": "light"
     },
     "output_type": "display_data"
    }
   ],
   "source": [
    "y = [kscore_d,kscore_r,kscore_l]\n",
    "x = [1,2,3]\n",
    "fig = plt.figure(figsize=(4,4))\n",
    "plt.barh(x,y,align=\"center\",tick_label=[\"DecisionTree\",'RandomForest','LinearRegression'],alpha=0.7,height=0.5)\n",
    "plt.xlabel(\"准确度\")\n",
    "axes = plt.gca()\n",
    "axes.set_xlim([0,1])\n",
    "plt.tight_layout()\n",
    "plt.savefig(\"k=5时预测准确性（uu大于5）.png\",dpi=300)\n",
    "plt.show()"
   ]
  },
  {
   "cell_type": "code",
   "execution_count": 124,
   "metadata": {},
   "outputs": [
    {
     "data": {
      "image/png": "[encoded data removed]",
      "text/plain": [
       "<Figure size 288x288 with 1 Axes>"
      ]
     },
     "metadata": {
      "needs_background": "light"
     },
     "output_type": "display_data"
    }
   ],
   "source": [
    "fig = plt.figure(figsize=(4,4))\n",
    "x0 = [0,2.5,5]\n",
    "x1 = [0,2.5,5]\n",
    "x2 = [0,2.5,5]\n",
    "y0 = [0.60224,0.7366671047219926,0.8109741494909343]\n",
    "y1 = [0.89887,0.8711546267810039,0.894696458356186]\n",
    "y2 = [0.88449,0.8635032234435748,0.8833684003880877]\n",
    "plt.plot(x0, y0, label='DecisionTree')\n",
    "plt.plot(x1, y1, label='RandomForest')\n",
    "plt.plot(x2, y2, label='LinearRegression')\n",
    "plt.legend(loc='lower right')\n",
    "axes = plt.gca()\n",
    "axes.set_xticks([0,2.5,5])\n",
    "axes.set_xticklabels(['0','1','6'])\n",
    "#axes.set_yticklabels(['1001','0.001','0.01','0.10','1','10','100'])\n",
    "axes.set_ylim([0,1])\n",
    "plt.xlabel(\"最小转发用户数\")\n",
    "plt.ylabel(\"准确率\")\n",
    "plt.tight_layout()\n",
    "plt.savefig(\"剔除后预测准确度变化.png\",dpi=300)\n",
    "plt.show()"
   ]
  }
 ],
 "metadata": {
  "kernelspec": {
   "display_name": "Python 3",
   "language": "python",
   "name": "python3"
  },
  "language_info": {
   "codemirror_mode": {
    "name": "ipython",
    "version": 3
   },
   "file_extension": ".py",
   "mimetype": "text/x-python",
   "name": "python",
   "nbconvert_exporter": "python",
   "pygments_lexer": "ipython3",
   "version": "3.7.4"
  }
 },
 "nbformat": 4,
 "nbformat_minor": 2
}
